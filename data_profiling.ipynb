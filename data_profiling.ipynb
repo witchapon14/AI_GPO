{
 "cells": [
  {
   "cell_type": "code",
   "execution_count": null,
   "metadata": {},
   "outputs": [],
   "source": [
    "import pygwalker as pyg\n",
    "import pandas as pd\n",
    "from pyspark.sql import SparkSession\n",
    "from ydata_profiling import ProfileReport"
   ]
  },
  {
   "cell_type": "code",
   "execution_count": 19,
   "metadata": {},
   "outputs": [],
   "source": [
    "df = pd.read_csv(\"/Users/witchaponkasettrakarn/Desktop/2025/Project_2025/AI pharmacy/dataset.csv\")"
   ]
  },
  {
   "cell_type": "code",
   "execution_count": 20,
   "metadata": {},
   "outputs": [
    {
     "name": "stdout",
     "output_type": "stream",
     "text": [
      "<class 'pandas.core.frame.DataFrame'>\n",
      "RangeIndex: 183 entries, 0 to 182\n",
      "Data columns (total 72 columns):\n",
      " #   Column    Non-Null Count  Dtype  \n",
      "---  ------    --------------  -----  \n",
      " 0   x1        183 non-null    object \n",
      " 1   x2        183 non-null    object \n",
      " 2   x3        183 non-null    object \n",
      " 3   x4        183 non-null    object \n",
      " 4   x5        183 non-null    float64\n",
      " 5   x6        183 non-null    float64\n",
      " 6   x7        183 non-null    float64\n",
      " 7   x8        183 non-null    float64\n",
      " 8   x9        183 non-null    float64\n",
      " 9   x10       183 non-null    float64\n",
      " 10  x11       183 non-null    float64\n",
      " 11  x12       183 non-null    float64\n",
      " 12  x13       183 non-null    float64\n",
      " 13  x14       183 non-null    float64\n",
      " 14  x15       183 non-null    float64\n",
      " 15  x16       183 non-null    float64\n",
      " 16  x17       183 non-null    float64\n",
      " 17  x18       183 non-null    float64\n",
      " 18  x19       183 non-null    float64\n",
      " 19  x20       183 non-null    float64\n",
      " 20  x21       183 non-null    float64\n",
      " 21  x22       183 non-null    float64\n",
      " 22  x23       183 non-null    float64\n",
      " 23  x24       183 non-null    float64\n",
      " 24  x25       183 non-null    float64\n",
      " 25  x26       183 non-null    float64\n",
      " 26  x27       183 non-null    float64\n",
      " 27  x28       183 non-null    float64\n",
      " 28  x29       183 non-null    float64\n",
      " 29  x30       183 non-null    float64\n",
      " 30  x31       183 non-null    float64\n",
      " 31  x32       183 non-null    float64\n",
      " 32  x33       183 non-null    float64\n",
      " 33  x34       183 non-null    float64\n",
      " 34  x35       183 non-null    float64\n",
      " 35  x36       183 non-null    float64\n",
      " 36  x37       183 non-null    float64\n",
      " 37  x38       183 non-null    float64\n",
      " 38  x39       183 non-null    float64\n",
      " 39  x40       183 non-null    float64\n",
      " 40  x41       183 non-null    float64\n",
      " 41  x42       183 non-null    float64\n",
      " 42  x43       183 non-null    float64\n",
      " 43  x44       183 non-null    float64\n",
      " 44  x45       183 non-null    float64\n",
      " 45  x46       183 non-null    float64\n",
      " 46  x47       183 non-null    float64\n",
      " 47  x48       183 non-null    float64\n",
      " 48  x49       183 non-null    float64\n",
      " 49  x50       183 non-null    float64\n",
      " 50  x51       183 non-null    float64\n",
      " 51  x52       183 non-null    float64\n",
      " 52  x53       183 non-null    float64\n",
      " 53  x54       183 non-null    float64\n",
      " 54  x55       183 non-null    float64\n",
      " 55  x56       183 non-null    float64\n",
      " 56  x57       183 non-null    object \n",
      " 57  x58       183 non-null    float64\n",
      " 58  x59       183 non-null    float64\n",
      " 59  x60       183 non-null    float64\n",
      " 60  x61       183 non-null    float64\n",
      " 61  x62       183 non-null    object \n",
      " 62  x63       183 non-null    float64\n",
      " 63  x64       183 non-null    object \n",
      " 64  x65       183 non-null    object \n",
      " 65  x66       183 non-null    float64\n",
      " 66  Y 10 min  183 non-null    float64\n",
      " 67  Y 15 min  183 non-null    float64\n",
      " 68  Y 20 min  183 non-null    float64\n",
      " 69  Y 30 min  183 non-null    float64\n",
      " 70  Y 45 min  183 non-null    float64\n",
      " 71  Y 60 min  183 non-null    float64\n",
      "dtypes: float64(64), object(8)\n",
      "memory usage: 103.1+ KB\n"
     ]
    }
   ],
   "source": [
    "df.info()"
   ]
  },
  {
   "cell_type": "code",
   "execution_count": 21,
   "metadata": {},
   "outputs": [
    {
     "data": {
      "application/vnd.plotly.v1+json": {
       "config": {
        "plotlyServerURL": "https://plot.ly"
       },
       "data": [
        {
         "name": "Y 10 min",
         "opacity": 0.8,
         "type": "histogram",
         "x": {
          "bdata": "ZmZmZmbmUEB7FK5H4QpRQM3MzMzMzE9A7FG4HoVbUkD2KFyPwnVQQArXo3A9yk9AmpmZmZmZTkAUrkfhenROQPYoXI/C9VFAUrgeheuhU0DXo3A9CrdTQHsUrkfhClNApHA9CtejU0DNzMzMzMxTQB+F61G43kdACtejcD3KR0D2KFyPwjVDQHE9CtejMEdAcT0K16MwREBmZmZmZqZPQHE9CtejAFBAuB6F61GYUkDsUbgehbtTQEjhehSud1NAFK5H4XqEUkApXI/C9bhSQJqZmZmZCVNAzczMzMy8UkD2KFyPwgVSQPYoXI/C1VJAhetRuB71UkBcj8L1KOxQQNejcD0K11BAhetRuB61U0D2KFyPwgVUQBSuR+F6VFNAUrgehevRU0CPwvUoXJ9TQPYoXI/CpVJA9ihcj8KlU0D2KFyPwnVSQOF6FK5HIVFAXI/C9SgMU0AzMzMzM+NRQAAAAAAAQFBAAAAAAADgUkD2KFyPwhVRQArXo3A9OlJAAAAAAADgUkB7FK5H4VpRQIXrUbge5VJApHA9CtcDUUBI4XoUrvdQQNejcD0KZ1FAZmZmZmYGUEBmZmZmZtZSQD0K16NwjVNAexSuR+EKUEDNzMzMzAxPQIXrUbgeRVNAMzMzMzOzTkB7FK5H4RpOQHE9CtejcFBAmpmZmZnZT0AUrkfhegRRQGZmZmZmVlBAzczMzMycUUDD9Shcj1JRQMP1KFyPgkpA4XoUrkehSkAAAAAAAOBJQI/C9ShcT0pAw/UoXI+CSkAUrkfhevRJQFyPwvUovElA4XoUrkdBSUD2KFyPwjVJQJqZmZmZWUlACtejcD2KSEBSuB6F6xFJQJqZmZmZOVhAPQrXo3AdV0ApXI/C9QhYQPYoXI/CxVdAKVyPwvWoWEAAAAAAAABXQAAAAAAAAFlAAAAAAACAV0AAAAAAAEBYQAAAAAAAAFZAAAAAAABAVUAAAAAAAABXQAAAAAAAgFdAAAAAAACAWECuR+F6FH5XQAAAAAAAkFdAzczMzMy8V0DsUbgehbtXQAAAAAAAwFdAhetRuB4lV0CkcD0K19NVQB+F61G4jlVAMzMzMzMDVkC4HoXrURhWQEjhehSup1VA4XoUrkexVUAzMzMzM4NVQKRwPQrXk1VAmpmZmZkpVkA9CtejcI1VQKRwPQrXo1VASOF6FK7XVUAUrkfhetRTQArXo3A9+lRAAAAAAADAWUAAAAAAAIBZQAAAAAAAAFlAAAAAAADAWEAAAAAAAMBYQAAAAAAAQFlAAAAAAAAAWUAAAAAAAABYQAAAAAAAQFhAAAAAAAAAWUAAAAAAAEBZQAAAAAAAgFlApHA9CtfTVkC4HoXrUXhWQEjhehSuN1ZA16NwPQpnVkDNzMzMzJxXQOF6FK5HYVZAw/UoXI9iVkDsUbgehXtWQFK4HoXr4VVAj8L1KFxPV0B7FK5H4cpWQEjhehSuJ1ZA7FG4HoXLVUC4HoXrUchVQFK4HoXrQVZASOF6FK6HVkBxPQrXo7BWQGZmZmZmBlZAFK5H4XoEVkBSuB6F60FVQPYoXI/CNVZAmpmZmZlpV0D2KFyPwnVWQOxRuB6FW1ZA16NwPQo3VkCkcD0K10NWQI/C9Shcv1ZAAAAAAAAgVkBcj8L1KKxVQArXo3A9qlZAuB6F61F4VkBxPQrXo4BWQB+F61G4rlVAuB6F61G4VkDXo3A9CodWQBSuR+F69FVAPQrXo3A9VkDhehSuRyFXQBSuR+F6BFdAcT0K16OQVkCPwvUoXC9XQIXrUbgeZVZAAAAAAACARkAAAAAAAABEQAAAAAAAAEdAUrgehethVUCuR+F6FM5VQAAAAAAA8FVAw/UoXI+iV0Bcj8L1KLxZQAAAAAAAUFdAzczMzMy8WUAAAAAAAEBZQB+F61G4TldAH4XrUbheVUB7FK5H4XpWQLgehetRWFdA",
          "dtype": "f8"
         }
        },
        {
         "name": "Y 15 min",
         "opacity": 0.8,
         "type": "histogram",
         "x": {
          "bdata": "CtejcD0qVUC4HoXrUUhVQHsUrkfh6lNAexSuR+GaVUAAAAAAANBUQBSuR+F6hFRAw/UoXI8CVEBSuB6F66FUQAAAAAAAEFZAmpmZmZm5VkDsUbgehStXQOF6FK5HQVZAFK5H4Xq0VkDNzMzMzKxWQHsUrkfhulNASOF6FK63U0DsUbgehTtSQI/C9ShcD1RA30+Nl25yU0CuR+F6FG5WQFK4HoXrgVVAUrgeheuRVUDNzMzMzDxXQFyPwvUorFdASOF6FK63VkCuR+F6FN5WQAAAAAAAcFZA9ihcj8L1VkDNzMzMzIxWQHE9CtejsFZACtejcD16VkA9CtejcJ1VQLgehetR+FVA9ihcj8L1VUB7FK5H4epVQOxRuB6Fa1ZAUrgehesRVkCPwvUoXF9VQAAAAAAAEFZAmpmZmZkpVkBmZmZmZtZVQIXrUbgeRVVAAAAAAAAQVkCamZmZmalVQClcj8L1OFVArkfhehT+VUA9CtejcC1VQFyPwvUozFVAexSuR+EKVkD2KFyPwtVVQB+F61G4/lVAMzMzMzNzVUAzMzMzM6NVQHsUrkfhilVAmpmZmZlJVUBxPQrXoyBWQIXrUbge9VVAzczMzMysVECamZmZmclUQGZmZmZmtlVA9ihcj8JVVUDD9Shcj8JUQGZmZmZmJlVAZmZmZmaWVUCkcD0K13NVQClcj8L16FRAj8L1KFw/VUD2KFyPwuVVQPYoXI/ClU5A9ihcj8K1TkDNzMzMzCxOQEjhehSuR05AuB6F61H4UkBSuB6F6xFOQM3MzMzMbE1AexSuR+HaTEDsUbgehStNQIXrUbgeJU5AhetRuB4FTUCamZmZmdlMQK5H4XoUjlhAmpmZmZkpWECuR+F6FH5YQFyPwvUoLFhA4XoUrkcRWUAAAAAAAMBXQAAAAAAAwFlAAAAAAACAV0AAAAAAAABYQAAAAAAAAFdAAAAAAADAVkAAAAAAAABYQAAAAAAAQFhAAAAAAABAWUBI4XoUrmdYQClcj8L1KFhAMzMzMzMzWEB7FK5H4ZpYQJqZmZmZaVhAmpmZmZmpV0D2KFyPwoVWQHsUrkfhelZA4XoUrkfhVkDhehSuR9FWQM3MzMzMbFZAZmZmZmaGVkCuR+F6FE5WQMP1KFyPYlZAUrgehevRVkD2KFyPwmVWQBSuR+F6pFZAKVyPwvW4VkAzMzMzM4NXQK5H4XoUzldAAAAAAADAWUAAAAAAAIBZQAAAAAAAQFlAAAAAAADAWEAAAAAAAMBYQAAAAAAAQFlAAAAAAAAAWUAAAAAAAIBYQAAAAAAAQFhAAAAAAABAWUAAAAAAAEBZQAAAAAAAgFlAPQrXo3A9V0DhehSuR2FXQB+F61G4DldAUrgehesxV0D2KFyPwiVYQMP1KFyPIldAMzMzMzMTV0DhehSuR3FXQHE9CtejwFZA9ihcj8L1V0DD9Shcj/JWQAAAAAAA4FZA4XoUrkehVkAAAAAAAMBWQM3MzMzMDFdAFK5H4Xo0V0B7FK5H4UpXQK5H4XoUzlZASOF6FK73VkAUrkfhelRWQM3MzMzMrFZAmpmZmZnpV0CPwvUoXP9WQFK4HoXr8VZAPQrXo3DdVkAUrkfherRWQOF6FK5HMVdAmpmZmZn5VkD2KFyPwnVWQD0K16NwfVdA16NwPQpXV0AAAAAAAOBWQOxRuB6FG1ZAMzMzMzODV0CPwvUoXA9XQB+F61G43lZASOF6FK7XVkCamZmZmTlXQArXo3A9aldAKVyPwvW4VkCuR+F6FF5XQGZmZmZmhlZAAAAAAAAAUEAAAAAAAABMQAAAAAAAAE5A7FG4HoXrVkA9CtejcI1XQFyPwvUo/FZAhetRuB7lV0BmZmZmZsZZQClcj8L1SFhACtejcD3qWUAAAAAAAGBZQD0K16NwHVlAXI/C9Sj8WEAUrkfhekRXQBSuR+F65FdA",
          "dtype": "f8"
         }
        },
        {
         "name": "Y 20 min",
         "opacity": 0.8,
         "type": "histogram",
         "x": {
          "bdata": "MzMzMzMjVkBmZmZmZtZVQD0K16NwjVVAhetRuB51VkAUrkfhegRWQLgehetRqFVAhetRuB5VVUBmZmZmZhZWQI/C9Shcn1dAuB6F61HoV0B7FK5H4VpYQM3MzMzMrFdAH4XrUbjuV0BmZmZmZuZXQFK4HoXrcVZAKVyPwvVIVkAfhetRuA5WQJqZmZmZmVZASOF6FK53VkCkcD0K15NYQNejcD0KJ1hAAAAAAADwV0CkcD0K10NZQAAAAAAAEFlAFK5H4XpEWEAK16NwPZpYQNejcD0K51ZAmpmZmZmZWECuR+F6FO5XQHE9CtejEFhASOF6FK7HVkC4HoXrUXhXQFK4HoXrIVdAmpmZmZn5VkAzMzMzM7NWQAAAAAAAgFdA16NwPQoXV0B7FK5H4TpWQK5H4XoUTldAcT0K16MwV0CF61G4HiVXQM3MzMzMrFZAhetRuB41V0A9CtejcO1WQNejcD0Kl1ZAH4XrUbhOV0DD9Shcj7JWQDMzMzMz41ZAcT0K16MAV0DsUbgehetWQAAAAAAAcFdASOF6FK4XV0DD9ShcjwJXQBSuR+F6tFZA16NwPQp3VkB7FK5H4UpXQKRwPQrXU1dAcT0K16NgVkD2KFyPwpVWQIXrUbgexVZACtejcD36VkAfhetRuF5WQKRwPQrXs1ZAZmZmZmY2V0ApXI/C9chWQJqZmZmZiVZAexSuR+F6VkD2KFyPwhVXQKRwPQrXA1FAmpmZmZkpUUAzMzMzM9NQQHE9CtejwFBAH4XrUbg+VEDD9Shcj6JQQHE9CtejYFBACtejcD3KT0A9CtejcE1QQEjhehSu11BAKVyPwvUoUEDXo3A9CvdPQNejcD0Kx1hAmpmZmZmJWECF61G4HqVYQAAAAAAAUFhAZmZmZmYWWUAAAAAAAEBYQAAAAAAAwFlAAAAAAACAV0AAAAAAAMBYQAAAAAAAAFdAAAAAAAAAV0AAAAAAAABYQAAAAAAAgFhAAAAAAABAWUCF61G4HhVZQPYoXI/C5VhApHA9CtcjWUAK16NwPQpZQI/C9ShcH1lA9ihcj8JFWEBSuB6F6xFXQArXo3A9GldAKVyPwvVIV0AK16NwPUpXQFyPwvUo/FZAhetRuB7lVkBxPQrXo+BWQB+F61G4/lZA4XoUrkdhV0ApXI/C9RhXQK5H4XoULldA4XoUrkcxV0DXo3A9CkdYQOF6FK5HYVhAAAAAAADAWUAAAAAAAIBZQAAAAAAAQFlAAAAAAADAWEAAAAAAAMBYQAAAAAAAQFlAAAAAAAAAWUAAAAAAAIBYQAAAAAAAQFhAAAAAAABAWUAAAAAAAEBZQAAAAAAAgFlArkfhehRuV0DhehSuR8FXQGZmZmZmVldA16NwPQqnV0BSuB6F60FYQNejcD0Kd1dAcT0K16NgV0C4HoXrUbhXQClcj8L1KFdAexSuR+EqWED2KFyPwiVXQMP1KFyPEldAMzMzMzMDV0AfhetRuD5XQDMzMzMzY1dAcT0K16OAV0BSuB6F66FXQClcj8L1WFdAFK5H4Xo0V0CPwvUoXM9WQKRwPQrXE1dAAAAAAAAQWEBcj8L1KDxXQB+F61G4DldApHA9CtfzVkAfhetRuL5WQJqZmZmZSVdAKVyPwvVIV0D2KFyPwsVWQPYoXI/C5VdAFK5H4XrEV0CF61G4HhVXQFK4HoXrYVZAKVyPwvXIV0CuR+F6FG5XQK5H4XoUXldACtejcD0KV0CamZmZmTlXQArXo3A9aldAKVyPwvW4VkCuR+F6FF5XQGZmZmZmhlZAAAAAAACAUkAAAAAAAEBQQAAAAAAAQFFAZmZmZmZWV0AK16NwPQpYQB+F61G4XldAuB6F61EYWEBmZmZmZtZZQClcj8L1qFhAUrgehevxWUApXI/C9XhZQKRwPQrXM1lAcT0K16OQWUBI4XoUrpdXQIXrUbgeBVhA",
          "dtype": "f8"
         }
        },
        {
         "name": "Y 10 min",
         "opacity": 0.8,
         "type": "histogram",
         "x": {
          "bdata": "mpmZmZn5VkDXo3A9CidXQJqZmZmZqVZApHA9CtczV0A9CtejcO1WQIXrUbgetVZAmpmZmZkpVkBmZmZmZlZXQFK4HoXr8VdArkfhehQuWECamZmZmelYQJqZmZmZeVhApHA9CteTWEBI4XoUrqdYQFyPwvUo7FdAuB6F61HIV0CPwvUoXL9XQOF6FK5H8VdAhetRuB71V0BI4XoUrndZQIXrUbgeJVlAFK5H4Xq0WEB7FK5H4WpZQHE9CtejoFlA7FG4HoVrWUCkcD0K11NZQK5H4XoUrlhAzczMzMw8WUD2KFyPwrVYQFyPwvUozFhAhetRuB6lWEBI4XoUrkdYQFK4HoXrIVhA4XoUrkfRV0AUrkfhelRXQNejcD0KZ1hASOF6FK7XV0CF61G4HvVWQOF6FK5HYVhAAAAAAAAQWEAUrkfhegRYQAAAAAAAkFdAZmZmZmYWWEAAAAAAAOBXQI/C9ShcH1hAzczMzMzcV0DXo3A9CqdXQClcj8L1GFhAZmZmZmYWWECF61G4HhVYQM3MzMzMHFhAPQrXo3BNWECPwvUoXB9YQOF6FK5H0VdACtejcD2aV0CPwvUoXC9YQNejcD0KR1hAMzMzMzNjV0CPwvUoXJ9XQM3MzMzM7FdAw/UoXI/CV0CPwvUoXF9XQD0K16NwjVdAKVyPwvVIWECF61G4HgVYQIXrUbgepVdAuB6F61FYV0CkcD0K1/NXQLgehetRWFNAUrgehetxU0D2KFyPwjVTQB+F61G4/lJAH4XrUbjOVUA9CtejcO1SQOxRuB6Fq1JA9ihcj8IFUkAK16NwPZpSQI/C9ShcP1NAPQrXo3BdUkA9CtejcA1SQLgehetR6FhA9ihcj8L1WECF61G4HqVYQKRwPQrXY1hA9ihcj8I1WUAAAAAAAIBYQAAAAAAAAFpAAAAAAACAV0AAAAAAAMBYQAAAAAAAAFdAAAAAAACAV0AAAAAAAEBYQAAAAAAAwFhAAAAAAABAWUD2KFyPwrVZQHE9CtejcFlAexSuR+HKWUBxPQrXo5BZQArXo3A9qllA4XoUrkexWEDD9Shcj4JXQArXo3A9aldArkfhehSuV0D2KFyPwqVXQAAAAAAAUFdAPQrXo3BdV0BI4XoUrldXQPYoXI/CVVdAw/UoXI/CV0A9CtejcG1XQMP1KFyPkldAH4XrUbieV0DD9Shcj9JYQNejcD0Kt1hAAAAAAADAWUAAAAAAAMBZQAAAAAAAQFlAAAAAAAAAWUAAAAAAAABZQAAAAAAAgFlAAAAAAACAWUAAAAAAAMBYQAAAAAAAwFhAAAAAAABAWUAAAAAAAIBZQAAAAAAAgFlAAAAAAACQV0CPwvUoXB9YQOxRuB6Fe1dAXI/C9Sj8V0BI4XoUrmdYQAAAAAAAoFdA4XoUrkehV0A9CtejcP1XQNejcD0Kp1dArkfhehReWEBcj8L1KFxXQLgehetRSFdA7FG4HoV7V0Bcj8L1KJxXQMP1KFyPsldArkfhehSuV0DNzMzMzMxXQHE9Ctej0FdA16NwPQp3V0CamZmZmVlXQJqZmZmZSVdAhetRuB5FWEDNzMzMzIxXQJqZmZmZOVdApHA9CtczV0BxPQrXo+BWQFyPwvUofFdAj8L1KFxfV0AUrkfhevRWQD0K16NwHVhArkfhehTuV0ApXI/C9VhXQPYoXI/ChVZAXI/C9SgMWEDXo3A9CodXQOxRuB6Fu1dAKVyPwvUoV0CamZmZmTlXQJqZmZmZ6VdAKVyPwvW4VkCuR+F6FH5XQOxRuB6Fi1ZAAAAAAAAAVUAAAAAAAABTQAAAAAAAwFNArkfhehTOWECPwvUoXG9YQEjhehSu11dAKVyPwvWIWEBmZmZmZtZZQLgehetR2FhA16NwPQr3WUAzMzMzM4NZQHE9CtejMFlAMzMzMzOTWUA9CtejcC1YQM3MzMzMbFhA",
          "dtype": "f8"
         }
        },
        {
         "name": "Y 15 min",
         "opacity": 0.8,
         "type": "histogram",
         "x": {
          "bdata": "UrgehetRV0BxPQrXo5BXQK5H4XoUDldA9ihcj8LFV0AAAAAAADBXQIXrUbgeJVdASOF6FK63VkAK16NwPcpXQGZmZmZmNllA7FG4HoXbWECuR+F6FD5ZQBSuR+F6xFhAUrgehevhWECPwvUoXO9YQFK4HoXrgVhA7FG4HoV7WEAzMzMzM6NYQK5H4XoUjlhAUrgehevBWEDXo3A9CvdZQAAAAAAA4FlA16NwPQoHWUAUrkfhenRZQHE9CtejwFlAcT0K16OwWUDhehSuR4FZQBSuR+F65FhAAAAAAACAWUBI4XoUrtdYQHE9Ctej8FhAuB6F61HIWECkcD0K19NYQAAAAAAAAFlAAAAAAAAAWUAAAAAAAABZQAAAAAAAAFlAAAAAAAAAWUAAAAAAAABZQAAAAAAAAFlAAAAAAAAAWUAAAAAAAABZQAAAAAAAAFlAAAAAAAAAWUAAAAAAAABZQAAAAAAAAFlAAAAAAAAAWUAAAAAAAABZQAAAAAAAAFlAAAAAAAAAWUAAAAAAAABZQAAAAAAAAFlAAAAAAAAAWUAAAAAAAABZQAAAAAAAAFlAAAAAAAAAWUAAAAAAAABZQAAAAAAAAFlAAAAAAAAAWUAAAAAAAABZQAAAAAAAAFlAAAAAAAAAWUAAAAAAAABZQAAAAAAAAFlAAAAAAAAAWUAAAAAAAABZQAAAAAAAAFlAAAAAAAAAWUAAAAAAAABZQI/C9Shcf1VAcT0K16OAVUAfhetRuE5VQClcj8L16FRAj8L1KFyvVkBSuB6F6/FUQB+F61G4rlRAw/UoXI/iU0AUrkfheoRUQI/C9Shcb1VAAAAAAABQVEC4HoXrUdhTQPYoXI/C9VhAzczMzMwsWUCPwvUoXK9YQKRwPQrXY1hA9ihcj8I1WUAAAAAAAIBYQAAAAAAAAFpAAAAAAACAV0AAAAAAAABZQAAAAAAAAFdAAAAAAADAV0AAAAAAAEBYQAAAAAAAwFhAAAAAAABAWUDNzMzMzDxaQDMzMzMz81lA7FG4HoUbWkCamZmZmQlaQHsUrkfhKlpAhetRuB41WUBSuB6F6/FXQKRwPQrX41dACtejcD0KWECkcD0K1wNYQDMzMzMzo1dA9ihcj8KlV0B7FK5H4bpXQArXo3A92ldACtejcD1aWEApXI/C9ehXQAAAAAAAEFhAFK5H4XoEWEAK16NwPRpZQOxRuB6F61hAAAAAAADAWUAAAAAAAMBZQAAAAAAAgFlAAAAAAABAWUAAAAAAAEBZQAAAAAAAwFlAAAAAAACAWUAAAAAAAABZQAAAAAAAwFhAAAAAAABAWUAAAAAAAIBZQAAAAAAAgFlAPQrXo3CdV0BI4XoUrjdYQHE9CtejkFdAzczMzMwMWEA9CtejcG1YQM3MzMzMrFdACtejcD3KV0CF61G4HiVYQMP1KFyPwldAmpmZmZlpWECuR+F6FF5XQM3MzMzMjFdAH4XrUbjuV0CkcD0K1+NXQDMzMzMz81dACtejcD3KV0AUrkfhevRXQDMzMzMz81dAAAAAAADAV0AK16NwPapXQM3MzMzMfFdAZmZmZmZmWEDNzMzMzKxXQBSuR+F6VFdApHA9CtczV0CuR+F6FO5WQOxRuB6Fm1dApHA9CteTV0DXo3A9CidXQM3MzMzMXFhAUrgehesBWECamZmZmVlXQMP1KFyPklZAw/UoXI9SWEC4HoXrUbhXQHE9Ctej0FdAmpmZmZn5V0B7FK5H4UpXQNejcD0Kt1dApHA9CtfDVkAAAAAAALBXQKRwPQrXs1ZAAAAAAACAVkAAAAAAAABVQAAAAAAAgFVAXI/C9SgsWkCamZmZmTlZQFyPwvUoLFhASOF6FK63WEDNzMzMzNxZQFyPwvUobFlAcT0K16MAWkBxPQrXo5BZQArXo3A9OllAMzMzMzOjWUCamZmZmZlYQEjhehSud1hA",
          "dtype": "f8"
         }
        },
        {
         "name": "Y 20 min",
         "opacity": 0.8,
         "type": "histogram",
         "x": {
          "bdata": "AAAAAABwV0CuR+F6FM5XQIXrUbgeZVdA9ihcj8LFV0D2KFyPwmVXQOF6FK5HYVdA9ihcj8L1VkD2KFyPwhVYQHE9CtejQFlAUrgehevxWECuR+F6FD5ZQClcj8L1GFlASOF6FK7nWED2KFyPwiVZQIXrUbgetVhAXI/C9SisWEBmZmZmZhZZQJqZmZmZuVhA16NwPQr3WEAK16NwPRpaQMP1KFyPIlpA4XoUrkdBWUDXo3A9CpdZQFyPwvUo3FlAcT0K16OwWUCF61G4HrVZQLgehetRCFlAUrgeheuhWUAAAAAAADBZQFK4HoXrEVlA4XoUrkfRWECPwvUoXP9YQAAAAAAAAFlAAAAAAAAAWUAAAAAAAABZQAAAAAAAAFlAAAAAAAAAWUAAAAAAAABZQAAAAAAAAFlAAAAAAAAAWUAAAAAAAABZQAAAAAAAAFlAAAAAAAAAWUAAAAAAAABZQAAAAAAAAFlAAAAAAAAAWUAAAAAAAABZQAAAAAAAAFlAAAAAAAAAWUAAAAAAAABZQAAAAAAAAFlAAAAAAAAAWUAAAAAAAABZQAAAAAAAAFlAAAAAAAAAWUAAAAAAAABZQAAAAAAAAFlAAAAAAAAAWUAAAAAAAABZQAAAAAAAAFlAAAAAAAAAWUAAAAAAAABZQAAAAAAAAFlAAAAAAAAAWUAAAAAAAABZQAAAAAAAAFlAAAAAAAAAWUAAAAAAAABZQKRwPQrX41ZAFK5H4XrUVkD2KFyPwrVWQB+F61G4PlZAj8L1KFyvVkAAAAAAAEBWQClcj8L12FVAw/UoXI/iVEAK16NwPZpVQHsUrkfhylZAXI/C9ShcVUBSuB6F6/FUQPYoXI/C9VhAzczMzMwsWUCPwvUoXK9YQKRwPQrXY1hA9ihcj8I1WUAAAAAAAIBYQAAAAAAAAFpAAAAAAACAV0AAAAAAAABZQAAAAAAAAFdAAAAAAADAV0AAAAAAAEBYQAAAAAAAwFhAAAAAAABAWUBSuB6F66FaQClcj8L1WFpA4XoUrkehWkAK16NwPWpaQD0K16NwPVpAZmZmZmaWWUBcj8L1KAxYQOxRuB6FO1hA9ihcj8JFWECuR+F6FC5YQAAAAAAA8FdAmpmZmZnpV0DsUbgehctXQArXo3A92ldACtejcD1aWEAAAAAAAABYQHsUrkfhSlhA4XoUrkcxWEBcj8L1KDxZQOxRuB6F61hAAAAAAADAWUAAAAAAAMBZQAAAAAAAgFlAAAAAAABAWUAAAAAAAEBZQAAAAAAAwFlAAAAAAACAWUAAAAAAAEBZQAAAAAAAwFhAAAAAAABAWUAAAAAAAIBZQAAAAAAAwFlAPQrXo3CdV0BI4XoUrjdYQDMzMzMzs1dAmpmZmZkZWEA9CtejcG1YQM3MzMzMrFdAUrgehevRV0CF61G4HiVYQGZmZmZmxldAPQrXo3BtWECF61G4HnVXQAAAAAAAkFdAAAAAAADwV0AUrkfhehRYQB+F61G4DlhA4XoUrkfhV0Bcj8L1KBxYQK5H4XoUDlhAuB6F61HIV0AUrkfhesRXQK5H4XoUfldAZmZmZmZmWEBI4XoUrsdXQIXrUbgeVVdAw/UoXI9CV0A9CtejcP1WQOF6FK5HsVdAH4XrUbieV0CkcD0K11NXQArXo3A9alhAUrgehesBWEAK16NwPWpXQJqZmZmZqVZApHA9CtdzWECamZmZmclXQFyPwvUo3FdAj8L1KFw/V0DD9Shcj1JXQNejcD0KF1hAj8L1KFyPVkC4HoXrUchXQKRwPQrXs1ZAAAAAAACAVkAAAAAAAABVQAAAAAAAgFVAKVyPwvW4WkDNzMzMzCxaQIXrUbgeRVhAcT0K16PQWEDNzMzMzNxZQEjhehSuh1lAcT0K16MAWkCkcD0K15NZQArXo3A9OllA4XoUrkehWUCkcD0K17NYQIXrUbgehVhA",
          "dtype": "f8"
         }
        }
       ],
       "layout": {
        "barmode": "overlay",
        "template": {
         "data": {
          "bar": [
           {
            "error_x": {
             "color": "#2a3f5f"
            },
            "error_y": {
             "color": "#2a3f5f"
            },
            "marker": {
             "line": {
              "color": "#E5ECF6",
              "width": 0.5
             },
             "pattern": {
              "fillmode": "overlay",
              "size": 10,
              "solidity": 0.2
             }
            },
            "type": "bar"
           }
          ],
          "barpolar": [
           {
            "marker": {
             "line": {
              "color": "#E5ECF6",
              "width": 0.5
             },
             "pattern": {
              "fillmode": "overlay",
              "size": 10,
              "solidity": 0.2
             }
            },
            "type": "barpolar"
           }
          ],
          "carpet": [
           {
            "aaxis": {
             "endlinecolor": "#2a3f5f",
             "gridcolor": "white",
             "linecolor": "white",
             "minorgridcolor": "white",
             "startlinecolor": "#2a3f5f"
            },
            "baxis": {
             "endlinecolor": "#2a3f5f",
             "gridcolor": "white",
             "linecolor": "white",
             "minorgridcolor": "white",
             "startlinecolor": "#2a3f5f"
            },
            "type": "carpet"
           }
          ],
          "choropleth": [
           {
            "colorbar": {
             "outlinewidth": 0,
             "ticks": ""
            },
            "type": "choropleth"
           }
          ],
          "contour": [
           {
            "colorbar": {
             "outlinewidth": 0,
             "ticks": ""
            },
            "colorscale": [
             [
              0,
              "#0d0887"
             ],
             [
              0.1111111111111111,
              "#46039f"
             ],
             [
              0.2222222222222222,
              "#7201a8"
             ],
             [
              0.3333333333333333,
              "#9c179e"
             ],
             [
              0.4444444444444444,
              "#bd3786"
             ],
             [
              0.5555555555555556,
              "#d8576b"
             ],
             [
              0.6666666666666666,
              "#ed7953"
             ],
             [
              0.7777777777777778,
              "#fb9f3a"
             ],
             [
              0.8888888888888888,
              "#fdca26"
             ],
             [
              1,
              "#f0f921"
             ]
            ],
            "type": "contour"
           }
          ],
          "contourcarpet": [
           {
            "colorbar": {
             "outlinewidth": 0,
             "ticks": ""
            },
            "type": "contourcarpet"
           }
          ],
          "heatmap": [
           {
            "colorbar": {
             "outlinewidth": 0,
             "ticks": ""
            },
            "colorscale": [
             [
              0,
              "#0d0887"
             ],
             [
              0.1111111111111111,
              "#46039f"
             ],
             [
              0.2222222222222222,
              "#7201a8"
             ],
             [
              0.3333333333333333,
              "#9c179e"
             ],
             [
              0.4444444444444444,
              "#bd3786"
             ],
             [
              0.5555555555555556,
              "#d8576b"
             ],
             [
              0.6666666666666666,
              "#ed7953"
             ],
             [
              0.7777777777777778,
              "#fb9f3a"
             ],
             [
              0.8888888888888888,
              "#fdca26"
             ],
             [
              1,
              "#f0f921"
             ]
            ],
            "type": "heatmap"
           }
          ],
          "histogram": [
           {
            "marker": {
             "pattern": {
              "fillmode": "overlay",
              "size": 10,
              "solidity": 0.2
             }
            },
            "type": "histogram"
           }
          ],
          "histogram2d": [
           {
            "colorbar": {
             "outlinewidth": 0,
             "ticks": ""
            },
            "colorscale": [
             [
              0,
              "#0d0887"
             ],
             [
              0.1111111111111111,
              "#46039f"
             ],
             [
              0.2222222222222222,
              "#7201a8"
             ],
             [
              0.3333333333333333,
              "#9c179e"
             ],
             [
              0.4444444444444444,
              "#bd3786"
             ],
             [
              0.5555555555555556,
              "#d8576b"
             ],
             [
              0.6666666666666666,
              "#ed7953"
             ],
             [
              0.7777777777777778,
              "#fb9f3a"
             ],
             [
              0.8888888888888888,
              "#fdca26"
             ],
             [
              1,
              "#f0f921"
             ]
            ],
            "type": "histogram2d"
           }
          ],
          "histogram2dcontour": [
           {
            "colorbar": {
             "outlinewidth": 0,
             "ticks": ""
            },
            "colorscale": [
             [
              0,
              "#0d0887"
             ],
             [
              0.1111111111111111,
              "#46039f"
             ],
             [
              0.2222222222222222,
              "#7201a8"
             ],
             [
              0.3333333333333333,
              "#9c179e"
             ],
             [
              0.4444444444444444,
              "#bd3786"
             ],
             [
              0.5555555555555556,
              "#d8576b"
             ],
             [
              0.6666666666666666,
              "#ed7953"
             ],
             [
              0.7777777777777778,
              "#fb9f3a"
             ],
             [
              0.8888888888888888,
              "#fdca26"
             ],
             [
              1,
              "#f0f921"
             ]
            ],
            "type": "histogram2dcontour"
           }
          ],
          "mesh3d": [
           {
            "colorbar": {
             "outlinewidth": 0,
             "ticks": ""
            },
            "type": "mesh3d"
           }
          ],
          "parcoords": [
           {
            "line": {
             "colorbar": {
              "outlinewidth": 0,
              "ticks": ""
             }
            },
            "type": "parcoords"
           }
          ],
          "pie": [
           {
            "automargin": true,
            "type": "pie"
           }
          ],
          "scatter": [
           {
            "fillpattern": {
             "fillmode": "overlay",
             "size": 10,
             "solidity": 0.2
            },
            "type": "scatter"
           }
          ],
          "scatter3d": [
           {
            "line": {
             "colorbar": {
              "outlinewidth": 0,
              "ticks": ""
             }
            },
            "marker": {
             "colorbar": {
              "outlinewidth": 0,
              "ticks": ""
             }
            },
            "type": "scatter3d"
           }
          ],
          "scattercarpet": [
           {
            "marker": {
             "colorbar": {
              "outlinewidth": 0,
              "ticks": ""
             }
            },
            "type": "scattercarpet"
           }
          ],
          "scattergeo": [
           {
            "marker": {
             "colorbar": {
              "outlinewidth": 0,
              "ticks": ""
             }
            },
            "type": "scattergeo"
           }
          ],
          "scattergl": [
           {
            "marker": {
             "colorbar": {
              "outlinewidth": 0,
              "ticks": ""
             }
            },
            "type": "scattergl"
           }
          ],
          "scattermap": [
           {
            "marker": {
             "colorbar": {
              "outlinewidth": 0,
              "ticks": ""
             }
            },
            "type": "scattermap"
           }
          ],
          "scattermapbox": [
           {
            "marker": {
             "colorbar": {
              "outlinewidth": 0,
              "ticks": ""
             }
            },
            "type": "scattermapbox"
           }
          ],
          "scatterpolar": [
           {
            "marker": {
             "colorbar": {
              "outlinewidth": 0,
              "ticks": ""
             }
            },
            "type": "scatterpolar"
           }
          ],
          "scatterpolargl": [
           {
            "marker": {
             "colorbar": {
              "outlinewidth": 0,
              "ticks": ""
             }
            },
            "type": "scatterpolargl"
           }
          ],
          "scatterternary": [
           {
            "marker": {
             "colorbar": {
              "outlinewidth": 0,
              "ticks": ""
             }
            },
            "type": "scatterternary"
           }
          ],
          "surface": [
           {
            "colorbar": {
             "outlinewidth": 0,
             "ticks": ""
            },
            "colorscale": [
             [
              0,
              "#0d0887"
             ],
             [
              0.1111111111111111,
              "#46039f"
             ],
             [
              0.2222222222222222,
              "#7201a8"
             ],
             [
              0.3333333333333333,
              "#9c179e"
             ],
             [
              0.4444444444444444,
              "#bd3786"
             ],
             [
              0.5555555555555556,
              "#d8576b"
             ],
             [
              0.6666666666666666,
              "#ed7953"
             ],
             [
              0.7777777777777778,
              "#fb9f3a"
             ],
             [
              0.8888888888888888,
              "#fdca26"
             ],
             [
              1,
              "#f0f921"
             ]
            ],
            "type": "surface"
           }
          ],
          "table": [
           {
            "cells": {
             "fill": {
              "color": "#EBF0F8"
             },
             "line": {
              "color": "white"
             }
            },
            "header": {
             "fill": {
              "color": "#C8D4E3"
             },
             "line": {
              "color": "white"
             }
            },
            "type": "table"
           }
          ]
         },
         "layout": {
          "annotationdefaults": {
           "arrowcolor": "#2a3f5f",
           "arrowhead": 0,
           "arrowwidth": 1
          },
          "autotypenumbers": "strict",
          "coloraxis": {
           "colorbar": {
            "outlinewidth": 0,
            "ticks": ""
           }
          },
          "colorscale": {
           "diverging": [
            [
             0,
             "#8e0152"
            ],
            [
             0.1,
             "#c51b7d"
            ],
            [
             0.2,
             "#de77ae"
            ],
            [
             0.3,
             "#f1b6da"
            ],
            [
             0.4,
             "#fde0ef"
            ],
            [
             0.5,
             "#f7f7f7"
            ],
            [
             0.6,
             "#e6f5d0"
            ],
            [
             0.7,
             "#b8e186"
            ],
            [
             0.8,
             "#7fbc41"
            ],
            [
             0.9,
             "#4d9221"
            ],
            [
             1,
             "#276419"
            ]
           ],
           "sequential": [
            [
             0,
             "#0d0887"
            ],
            [
             0.1111111111111111,
             "#46039f"
            ],
            [
             0.2222222222222222,
             "#7201a8"
            ],
            [
             0.3333333333333333,
             "#9c179e"
            ],
            [
             0.4444444444444444,
             "#bd3786"
            ],
            [
             0.5555555555555556,
             "#d8576b"
            ],
            [
             0.6666666666666666,
             "#ed7953"
            ],
            [
             0.7777777777777778,
             "#fb9f3a"
            ],
            [
             0.8888888888888888,
             "#fdca26"
            ],
            [
             1,
             "#f0f921"
            ]
           ],
           "sequentialminus": [
            [
             0,
             "#0d0887"
            ],
            [
             0.1111111111111111,
             "#46039f"
            ],
            [
             0.2222222222222222,
             "#7201a8"
            ],
            [
             0.3333333333333333,
             "#9c179e"
            ],
            [
             0.4444444444444444,
             "#bd3786"
            ],
            [
             0.5555555555555556,
             "#d8576b"
            ],
            [
             0.6666666666666666,
             "#ed7953"
            ],
            [
             0.7777777777777778,
             "#fb9f3a"
            ],
            [
             0.8888888888888888,
             "#fdca26"
            ],
            [
             1,
             "#f0f921"
            ]
           ]
          },
          "colorway": [
           "#636efa",
           "#EF553B",
           "#00cc96",
           "#ab63fa",
           "#FFA15A",
           "#19d3f3",
           "#FF6692",
           "#B6E880",
           "#FF97FF",
           "#FECB52"
          ],
          "font": {
           "color": "#2a3f5f"
          },
          "geo": {
           "bgcolor": "white",
           "lakecolor": "white",
           "landcolor": "#E5ECF6",
           "showlakes": true,
           "showland": true,
           "subunitcolor": "white"
          },
          "hoverlabel": {
           "align": "left"
          },
          "hovermode": "closest",
          "mapbox": {
           "style": "light"
          },
          "paper_bgcolor": "white",
          "plot_bgcolor": "#E5ECF6",
          "polar": {
           "angularaxis": {
            "gridcolor": "white",
            "linecolor": "white",
            "ticks": ""
           },
           "bgcolor": "#E5ECF6",
           "radialaxis": {
            "gridcolor": "white",
            "linecolor": "white",
            "ticks": ""
           }
          },
          "scene": {
           "xaxis": {
            "backgroundcolor": "#E5ECF6",
            "gridcolor": "white",
            "gridwidth": 2,
            "linecolor": "white",
            "showbackground": true,
            "ticks": "",
            "zerolinecolor": "white"
           },
           "yaxis": {
            "backgroundcolor": "#E5ECF6",
            "gridcolor": "white",
            "gridwidth": 2,
            "linecolor": "white",
            "showbackground": true,
            "ticks": "",
            "zerolinecolor": "white"
           },
           "zaxis": {
            "backgroundcolor": "#E5ECF6",
            "gridcolor": "white",
            "gridwidth": 2,
            "linecolor": "white",
            "showbackground": true,
            "ticks": "",
            "zerolinecolor": "white"
           }
          },
          "shapedefaults": {
           "line": {
            "color": "#2a3f5f"
           }
          },
          "ternary": {
           "aaxis": {
            "gridcolor": "white",
            "linecolor": "white",
            "ticks": ""
           },
           "baxis": {
            "gridcolor": "white",
            "linecolor": "white",
            "ticks": ""
           },
           "bgcolor": "#E5ECF6",
           "caxis": {
            "gridcolor": "white",
            "linecolor": "white",
            "ticks": ""
           }
          },
          "title": {
           "x": 0.05
          },
          "xaxis": {
           "automargin": true,
           "gridcolor": "white",
           "linecolor": "white",
           "ticks": "",
           "title": {
            "standoff": 15
           },
           "zerolinecolor": "white",
           "zerolinewidth": 2
          },
          "yaxis": {
           "automargin": true,
           "gridcolor": "white",
           "linecolor": "white",
           "ticks": "",
           "title": {
            "standoff": 15
           },
           "zerolinecolor": "white",
           "zerolinewidth": 2
          }
         }
        },
        "title": {
         "text": "Comparison of Y"
        },
        "xaxis": {
         "title": {
          "text": "Values"
         }
        },
        "yaxis": {
         "title": {
          "text": "Frequency"
         }
        }
       }
      }
     },
     "metadata": {},
     "output_type": "display_data"
    },
    {
     "data": {
      "application/vnd.plotly.v1+json": {
       "config": {
        "plotlyServerURL": "https://plot.ly"
       },
       "data": [
        {
         "domain": {
          "x": [
           0,
           1
          ],
          "y": [
           0,
           1
          ]
         },
         "hole": 0.3,
         "hovertemplate": "Segment=%{label}<extra></extra>",
         "labels": [
          "Class 2",
          "Class 2",
          "Class 2",
          "Class 2",
          "Class 2",
          "Class 2",
          "Class 2",
          "Class 2",
          "Class 2",
          "Class 2",
          "Class 2",
          "Class 2",
          "Class 2",
          "Class 2",
          "Class 2",
          "Class 2",
          "Class 2",
          "Class 2",
          "Class 2",
          "Class 2",
          "Class 2",
          "Class 2",
          "Class 2",
          "Class 2",
          "Class 2",
          "Class 2",
          "Class 2",
          "Class 2",
          "Class 2",
          "Class 2",
          "Class 2",
          "Class 2",
          "Class 2",
          "Class 2",
          "Class 2",
          "Class 2",
          "Class 2",
          "Class 2",
          "Class 2",
          "Class 2",
          "Class 2",
          "Class 2",
          "Class 2",
          "Class 2",
          "Class 2",
          "Class 2",
          "Class 2",
          "Class 2",
          "Class 2",
          "Class 2",
          "Class 2",
          "Class 2",
          "Class 2",
          "Class 2",
          "Class 2",
          "Class 2",
          "Class 2",
          "Class 2",
          "Class 2",
          "Class 2",
          "Class 2",
          "Class 2",
          "Class 2",
          "Class 2",
          "Class 2",
          "Class 2",
          "Class 2",
          "Class 2",
          "Class 4",
          "Class 4",
          "Class 4",
          "Class 4",
          "Class 4",
          "Class 4",
          "Class 4",
          "Class 4",
          "Class 4",
          "Class 4",
          "Class 4",
          "Class 4",
          "Class 3",
          "Class 3",
          "Class 3",
          "Class 3",
          "Class 3",
          "Class 3",
          "Class 3",
          "Class 3",
          "Class 3",
          "Class 3",
          "Class 3",
          "Class 3",
          "Class 3",
          "Class 3",
          "Class 2",
          "Class 2",
          "Class 2",
          "Class 2",
          "Class 2",
          "Class 2",
          "Class 2",
          "Class 2",
          "Class 2",
          "Class 2",
          "Class 2",
          "Class 2",
          "Class 2",
          "Class 2",
          "Class 2",
          "Class 2",
          "Class 2",
          "Class 2",
          "Class 2",
          "Class 2",
          "Class 3",
          "Class 3",
          "Class 3",
          "Class 3",
          "Class 3",
          "Class 3",
          "Class 3",
          "Class 3",
          "Class 3",
          "Class 3",
          "Class 3",
          "Class 3",
          "Class 2",
          "Class 2",
          "Class 2",
          "Class 2",
          "Class 2",
          "Class 2",
          "Class 2",
          "Class 2",
          "Class 2",
          "Class 2",
          "Class 2",
          "Class 2",
          "Class 2",
          "Class 2",
          "Class 2",
          "Class 2",
          "Class 2",
          "Class 2",
          "Class 2",
          "Class 2",
          "Class 2",
          "Class 2",
          "Class 2",
          "Class 2",
          "Class 2",
          "Class 2",
          "Class 2",
          "Class 2",
          "Class 2",
          "Class 2",
          "Class 2",
          "Class 2",
          "Class 2",
          "Class 2",
          "Class 2",
          "Class 2",
          "Class 2",
          "Class 2",
          "Class 2",
          "Class 2",
          "Class 2",
          "Class 2",
          "Class 2",
          "Class 2",
          "Class 2",
          "Class 4",
          "Class 4",
          "Class 4",
          "Class 4",
          "Class 3",
          "Class 3",
          "Class 3",
          "Class 3",
          "Class 3",
          "Class 3",
          "Class 3",
          "Class 3"
         ],
         "legendgroup": "",
         "name": "",
         "showlegend": true,
         "textinfo": "percent+label",
         "type": "pie"
        }
       ],
       "layout": {
        "legend": {
         "tracegroupgap": 0
        },
        "template": {
         "data": {
          "bar": [
           {
            "error_x": {
             "color": "#2a3f5f"
            },
            "error_y": {
             "color": "#2a3f5f"
            },
            "marker": {
             "line": {
              "color": "#E5ECF6",
              "width": 0.5
             },
             "pattern": {
              "fillmode": "overlay",
              "size": 10,
              "solidity": 0.2
             }
            },
            "type": "bar"
           }
          ],
          "barpolar": [
           {
            "marker": {
             "line": {
              "color": "#E5ECF6",
              "width": 0.5
             },
             "pattern": {
              "fillmode": "overlay",
              "size": 10,
              "solidity": 0.2
             }
            },
            "type": "barpolar"
           }
          ],
          "carpet": [
           {
            "aaxis": {
             "endlinecolor": "#2a3f5f",
             "gridcolor": "white",
             "linecolor": "white",
             "minorgridcolor": "white",
             "startlinecolor": "#2a3f5f"
            },
            "baxis": {
             "endlinecolor": "#2a3f5f",
             "gridcolor": "white",
             "linecolor": "white",
             "minorgridcolor": "white",
             "startlinecolor": "#2a3f5f"
            },
            "type": "carpet"
           }
          ],
          "choropleth": [
           {
            "colorbar": {
             "outlinewidth": 0,
             "ticks": ""
            },
            "type": "choropleth"
           }
          ],
          "contour": [
           {
            "colorbar": {
             "outlinewidth": 0,
             "ticks": ""
            },
            "colorscale": [
             [
              0,
              "#0d0887"
             ],
             [
              0.1111111111111111,
              "#46039f"
             ],
             [
              0.2222222222222222,
              "#7201a8"
             ],
             [
              0.3333333333333333,
              "#9c179e"
             ],
             [
              0.4444444444444444,
              "#bd3786"
             ],
             [
              0.5555555555555556,
              "#d8576b"
             ],
             [
              0.6666666666666666,
              "#ed7953"
             ],
             [
              0.7777777777777778,
              "#fb9f3a"
             ],
             [
              0.8888888888888888,
              "#fdca26"
             ],
             [
              1,
              "#f0f921"
             ]
            ],
            "type": "contour"
           }
          ],
          "contourcarpet": [
           {
            "colorbar": {
             "outlinewidth": 0,
             "ticks": ""
            },
            "type": "contourcarpet"
           }
          ],
          "heatmap": [
           {
            "colorbar": {
             "outlinewidth": 0,
             "ticks": ""
            },
            "colorscale": [
             [
              0,
              "#0d0887"
             ],
             [
              0.1111111111111111,
              "#46039f"
             ],
             [
              0.2222222222222222,
              "#7201a8"
             ],
             [
              0.3333333333333333,
              "#9c179e"
             ],
             [
              0.4444444444444444,
              "#bd3786"
             ],
             [
              0.5555555555555556,
              "#d8576b"
             ],
             [
              0.6666666666666666,
              "#ed7953"
             ],
             [
              0.7777777777777778,
              "#fb9f3a"
             ],
             [
              0.8888888888888888,
              "#fdca26"
             ],
             [
              1,
              "#f0f921"
             ]
            ],
            "type": "heatmap"
           }
          ],
          "histogram": [
           {
            "marker": {
             "pattern": {
              "fillmode": "overlay",
              "size": 10,
              "solidity": 0.2
             }
            },
            "type": "histogram"
           }
          ],
          "histogram2d": [
           {
            "colorbar": {
             "outlinewidth": 0,
             "ticks": ""
            },
            "colorscale": [
             [
              0,
              "#0d0887"
             ],
             [
              0.1111111111111111,
              "#46039f"
             ],
             [
              0.2222222222222222,
              "#7201a8"
             ],
             [
              0.3333333333333333,
              "#9c179e"
             ],
             [
              0.4444444444444444,
              "#bd3786"
             ],
             [
              0.5555555555555556,
              "#d8576b"
             ],
             [
              0.6666666666666666,
              "#ed7953"
             ],
             [
              0.7777777777777778,
              "#fb9f3a"
             ],
             [
              0.8888888888888888,
              "#fdca26"
             ],
             [
              1,
              "#f0f921"
             ]
            ],
            "type": "histogram2d"
           }
          ],
          "histogram2dcontour": [
           {
            "colorbar": {
             "outlinewidth": 0,
             "ticks": ""
            },
            "colorscale": [
             [
              0,
              "#0d0887"
             ],
             [
              0.1111111111111111,
              "#46039f"
             ],
             [
              0.2222222222222222,
              "#7201a8"
             ],
             [
              0.3333333333333333,
              "#9c179e"
             ],
             [
              0.4444444444444444,
              "#bd3786"
             ],
             [
              0.5555555555555556,
              "#d8576b"
             ],
             [
              0.6666666666666666,
              "#ed7953"
             ],
             [
              0.7777777777777778,
              "#fb9f3a"
             ],
             [
              0.8888888888888888,
              "#fdca26"
             ],
             [
              1,
              "#f0f921"
             ]
            ],
            "type": "histogram2dcontour"
           }
          ],
          "mesh3d": [
           {
            "colorbar": {
             "outlinewidth": 0,
             "ticks": ""
            },
            "type": "mesh3d"
           }
          ],
          "parcoords": [
           {
            "line": {
             "colorbar": {
              "outlinewidth": 0,
              "ticks": ""
             }
            },
            "type": "parcoords"
           }
          ],
          "pie": [
           {
            "automargin": true,
            "type": "pie"
           }
          ],
          "scatter": [
           {
            "fillpattern": {
             "fillmode": "overlay",
             "size": 10,
             "solidity": 0.2
            },
            "type": "scatter"
           }
          ],
          "scatter3d": [
           {
            "line": {
             "colorbar": {
              "outlinewidth": 0,
              "ticks": ""
             }
            },
            "marker": {
             "colorbar": {
              "outlinewidth": 0,
              "ticks": ""
             }
            },
            "type": "scatter3d"
           }
          ],
          "scattercarpet": [
           {
            "marker": {
             "colorbar": {
              "outlinewidth": 0,
              "ticks": ""
             }
            },
            "type": "scattercarpet"
           }
          ],
          "scattergeo": [
           {
            "marker": {
             "colorbar": {
              "outlinewidth": 0,
              "ticks": ""
             }
            },
            "type": "scattergeo"
           }
          ],
          "scattergl": [
           {
            "marker": {
             "colorbar": {
              "outlinewidth": 0,
              "ticks": ""
             }
            },
            "type": "scattergl"
           }
          ],
          "scattermap": [
           {
            "marker": {
             "colorbar": {
              "outlinewidth": 0,
              "ticks": ""
             }
            },
            "type": "scattermap"
           }
          ],
          "scattermapbox": [
           {
            "marker": {
             "colorbar": {
              "outlinewidth": 0,
              "ticks": ""
             }
            },
            "type": "scattermapbox"
           }
          ],
          "scatterpolar": [
           {
            "marker": {
             "colorbar": {
              "outlinewidth": 0,
              "ticks": ""
             }
            },
            "type": "scatterpolar"
           }
          ],
          "scatterpolargl": [
           {
            "marker": {
             "colorbar": {
              "outlinewidth": 0,
              "ticks": ""
             }
            },
            "type": "scatterpolargl"
           }
          ],
          "scatterternary": [
           {
            "marker": {
             "colorbar": {
              "outlinewidth": 0,
              "ticks": ""
             }
            },
            "type": "scatterternary"
           }
          ],
          "surface": [
           {
            "colorbar": {
             "outlinewidth": 0,
             "ticks": ""
            },
            "colorscale": [
             [
              0,
              "#0d0887"
             ],
             [
              0.1111111111111111,
              "#46039f"
             ],
             [
              0.2222222222222222,
              "#7201a8"
             ],
             [
              0.3333333333333333,
              "#9c179e"
             ],
             [
              0.4444444444444444,
              "#bd3786"
             ],
             [
              0.5555555555555556,
              "#d8576b"
             ],
             [
              0.6666666666666666,
              "#ed7953"
             ],
             [
              0.7777777777777778,
              "#fb9f3a"
             ],
             [
              0.8888888888888888,
              "#fdca26"
             ],
             [
              1,
              "#f0f921"
             ]
            ],
            "type": "surface"
           }
          ],
          "table": [
           {
            "cells": {
             "fill": {
              "color": "#EBF0F8"
             },
             "line": {
              "color": "white"
             }
            },
            "header": {
             "fill": {
              "color": "#C8D4E3"
             },
             "line": {
              "color": "white"
             }
            },
            "type": "table"
           }
          ]
         },
         "layout": {
          "annotationdefaults": {
           "arrowcolor": "#2a3f5f",
           "arrowhead": 0,
           "arrowwidth": 1
          },
          "autotypenumbers": "strict",
          "coloraxis": {
           "colorbar": {
            "outlinewidth": 0,
            "ticks": ""
           }
          },
          "colorscale": {
           "diverging": [
            [
             0,
             "#8e0152"
            ],
            [
             0.1,
             "#c51b7d"
            ],
            [
             0.2,
             "#de77ae"
            ],
            [
             0.3,
             "#f1b6da"
            ],
            [
             0.4,
             "#fde0ef"
            ],
            [
             0.5,
             "#f7f7f7"
            ],
            [
             0.6,
             "#e6f5d0"
            ],
            [
             0.7,
             "#b8e186"
            ],
            [
             0.8,
             "#7fbc41"
            ],
            [
             0.9,
             "#4d9221"
            ],
            [
             1,
             "#276419"
            ]
           ],
           "sequential": [
            [
             0,
             "#0d0887"
            ],
            [
             0.1111111111111111,
             "#46039f"
            ],
            [
             0.2222222222222222,
             "#7201a8"
            ],
            [
             0.3333333333333333,
             "#9c179e"
            ],
            [
             0.4444444444444444,
             "#bd3786"
            ],
            [
             0.5555555555555556,
             "#d8576b"
            ],
            [
             0.6666666666666666,
             "#ed7953"
            ],
            [
             0.7777777777777778,
             "#fb9f3a"
            ],
            [
             0.8888888888888888,
             "#fdca26"
            ],
            [
             1,
             "#f0f921"
            ]
           ],
           "sequentialminus": [
            [
             0,
             "#0d0887"
            ],
            [
             0.1111111111111111,
             "#46039f"
            ],
            [
             0.2222222222222222,
             "#7201a8"
            ],
            [
             0.3333333333333333,
             "#9c179e"
            ],
            [
             0.4444444444444444,
             "#bd3786"
            ],
            [
             0.5555555555555556,
             "#d8576b"
            ],
            [
             0.6666666666666666,
             "#ed7953"
            ],
            [
             0.7777777777777778,
             "#fb9f3a"
            ],
            [
             0.8888888888888888,
             "#fdca26"
            ],
            [
             1,
             "#f0f921"
            ]
           ]
          },
          "colorway": [
           "#636efa",
           "#EF553B",
           "#00cc96",
           "#ab63fa",
           "#FFA15A",
           "#19d3f3",
           "#FF6692",
           "#B6E880",
           "#FF97FF",
           "#FECB52"
          ],
          "font": {
           "color": "#2a3f5f"
          },
          "geo": {
           "bgcolor": "white",
           "lakecolor": "white",
           "landcolor": "#E5ECF6",
           "showlakes": true,
           "showland": true,
           "subunitcolor": "white"
          },
          "hoverlabel": {
           "align": "left"
          },
          "hovermode": "closest",
          "mapbox": {
           "style": "light"
          },
          "paper_bgcolor": "white",
          "plot_bgcolor": "#E5ECF6",
          "polar": {
           "angularaxis": {
            "gridcolor": "white",
            "linecolor": "white",
            "ticks": ""
           },
           "bgcolor": "#E5ECF6",
           "radialaxis": {
            "gridcolor": "white",
            "linecolor": "white",
            "ticks": ""
           }
          },
          "scene": {
           "xaxis": {
            "backgroundcolor": "#E5ECF6",
            "gridcolor": "white",
            "gridwidth": 2,
            "linecolor": "white",
            "showbackground": true,
            "ticks": "",
            "zerolinecolor": "white"
           },
           "yaxis": {
            "backgroundcolor": "#E5ECF6",
            "gridcolor": "white",
            "gridwidth": 2,
            "linecolor": "white",
            "showbackground": true,
            "ticks": "",
            "zerolinecolor": "white"
           },
           "zaxis": {
            "backgroundcolor": "#E5ECF6",
            "gridcolor": "white",
            "gridwidth": 2,
            "linecolor": "white",
            "showbackground": true,
            "ticks": "",
            "zerolinecolor": "white"
           }
          },
          "shapedefaults": {
           "line": {
            "color": "#2a3f5f"
           }
          },
          "ternary": {
           "aaxis": {
            "gridcolor": "white",
            "linecolor": "white",
            "ticks": ""
           },
           "baxis": {
            "gridcolor": "white",
            "linecolor": "white",
            "ticks": ""
           },
           "bgcolor": "#E5ECF6",
           "caxis": {
            "gridcolor": "white",
            "linecolor": "white",
            "ticks": ""
           }
          },
          "title": {
           "x": 0.05
          },
          "xaxis": {
           "automargin": true,
           "gridcolor": "white",
           "linecolor": "white",
           "ticks": "",
           "title": {
            "standoff": 15
           },
           "zerolinecolor": "white",
           "zerolinewidth": 2
          },
          "yaxis": {
           "automargin": true,
           "gridcolor": "white",
           "linecolor": "white",
           "ticks": "",
           "title": {
            "standoff": 15
           },
           "zerolinecolor": "white",
           "zerolinewidth": 2
          }
         }
        },
        "title": {
         "text": "Customer Segmentation by x1"
        }
       }
      }
     },
     "metadata": {},
     "output_type": "display_data"
    },
    {
     "data": {
      "application/vnd.plotly.v1+json": {
       "config": {
        "plotlyServerURL": "https://plot.ly"
       },
       "data": [
        {
         "hovertemplate": "x57 Category=HPMC<br>Class (x1)=%{x}<br>Count=%{y}<extra></extra>",
         "legendgroup": "HPMC",
         "marker": {
          "color": "#636efa",
          "pattern": {
           "shape": ""
          }
         },
         "name": "HPMC",
         "orientation": "v",
         "showlegend": true,
         "textposition": "auto",
         "type": "bar",
         "x": [
          "Class 2",
          "Class 3",
          "Class 4"
         ],
         "xaxis": "x",
         "y": {
          "bdata": "FxYQ",
          "dtype": "i1"
         },
         "yaxis": "y"
        },
        {
         "hovertemplate": "x57 Category=No<br>Class (x1)=%{x}<br>Count=%{y}<extra></extra>",
         "legendgroup": "No",
         "marker": {
          "color": "#EF553B",
          "pattern": {
           "shape": ""
          }
         },
         "name": "No",
         "orientation": "v",
         "showlegend": true,
         "textposition": "auto",
         "type": "bar",
         "x": [
          "Class 2",
          "Class 3"
         ],
         "xaxis": "x",
         "y": {
          "bdata": "BQw=",
          "dtype": "i1"
         },
         "yaxis": "y"
        },
        {
         "hovertemplate": "x57 Category=PVA<br>Class (x1)=%{x}<br>Count=%{y}<extra></extra>",
         "legendgroup": "PVA",
         "marker": {
          "color": "#00cc96",
          "pattern": {
           "shape": ""
          }
         },
         "name": "PVA",
         "orientation": "v",
         "showlegend": true,
         "textposition": "auto",
         "type": "bar",
         "x": [
          "Class 2"
         ],
         "xaxis": "x",
         "y": {
          "bdata": "aQ==",
          "dtype": "i1"
         },
         "yaxis": "y"
        }
       ],
       "layout": {
        "barmode": "stack",
        "legend": {
         "title": {
          "text": "x57 Category"
         },
         "tracegroupgap": 0
        },
        "template": {
         "data": {
          "bar": [
           {
            "error_x": {
             "color": "#2a3f5f"
            },
            "error_y": {
             "color": "#2a3f5f"
            },
            "marker": {
             "line": {
              "color": "#E5ECF6",
              "width": 0.5
             },
             "pattern": {
              "fillmode": "overlay",
              "size": 10,
              "solidity": 0.2
             }
            },
            "type": "bar"
           }
          ],
          "barpolar": [
           {
            "marker": {
             "line": {
              "color": "#E5ECF6",
              "width": 0.5
             },
             "pattern": {
              "fillmode": "overlay",
              "size": 10,
              "solidity": 0.2
             }
            },
            "type": "barpolar"
           }
          ],
          "carpet": [
           {
            "aaxis": {
             "endlinecolor": "#2a3f5f",
             "gridcolor": "white",
             "linecolor": "white",
             "minorgridcolor": "white",
             "startlinecolor": "#2a3f5f"
            },
            "baxis": {
             "endlinecolor": "#2a3f5f",
             "gridcolor": "white",
             "linecolor": "white",
             "minorgridcolor": "white",
             "startlinecolor": "#2a3f5f"
            },
            "type": "carpet"
           }
          ],
          "choropleth": [
           {
            "colorbar": {
             "outlinewidth": 0,
             "ticks": ""
            },
            "type": "choropleth"
           }
          ],
          "contour": [
           {
            "colorbar": {
             "outlinewidth": 0,
             "ticks": ""
            },
            "colorscale": [
             [
              0,
              "#0d0887"
             ],
             [
              0.1111111111111111,
              "#46039f"
             ],
             [
              0.2222222222222222,
              "#7201a8"
             ],
             [
              0.3333333333333333,
              "#9c179e"
             ],
             [
              0.4444444444444444,
              "#bd3786"
             ],
             [
              0.5555555555555556,
              "#d8576b"
             ],
             [
              0.6666666666666666,
              "#ed7953"
             ],
             [
              0.7777777777777778,
              "#fb9f3a"
             ],
             [
              0.8888888888888888,
              "#fdca26"
             ],
             [
              1,
              "#f0f921"
             ]
            ],
            "type": "contour"
           }
          ],
          "contourcarpet": [
           {
            "colorbar": {
             "outlinewidth": 0,
             "ticks": ""
            },
            "type": "contourcarpet"
           }
          ],
          "heatmap": [
           {
            "colorbar": {
             "outlinewidth": 0,
             "ticks": ""
            },
            "colorscale": [
             [
              0,
              "#0d0887"
             ],
             [
              0.1111111111111111,
              "#46039f"
             ],
             [
              0.2222222222222222,
              "#7201a8"
             ],
             [
              0.3333333333333333,
              "#9c179e"
             ],
             [
              0.4444444444444444,
              "#bd3786"
             ],
             [
              0.5555555555555556,
              "#d8576b"
             ],
             [
              0.6666666666666666,
              "#ed7953"
             ],
             [
              0.7777777777777778,
              "#fb9f3a"
             ],
             [
              0.8888888888888888,
              "#fdca26"
             ],
             [
              1,
              "#f0f921"
             ]
            ],
            "type": "heatmap"
           }
          ],
          "histogram": [
           {
            "marker": {
             "pattern": {
              "fillmode": "overlay",
              "size": 10,
              "solidity": 0.2
             }
            },
            "type": "histogram"
           }
          ],
          "histogram2d": [
           {
            "colorbar": {
             "outlinewidth": 0,
             "ticks": ""
            },
            "colorscale": [
             [
              0,
              "#0d0887"
             ],
             [
              0.1111111111111111,
              "#46039f"
             ],
             [
              0.2222222222222222,
              "#7201a8"
             ],
             [
              0.3333333333333333,
              "#9c179e"
             ],
             [
              0.4444444444444444,
              "#bd3786"
             ],
             [
              0.5555555555555556,
              "#d8576b"
             ],
             [
              0.6666666666666666,
              "#ed7953"
             ],
             [
              0.7777777777777778,
              "#fb9f3a"
             ],
             [
              0.8888888888888888,
              "#fdca26"
             ],
             [
              1,
              "#f0f921"
             ]
            ],
            "type": "histogram2d"
           }
          ],
          "histogram2dcontour": [
           {
            "colorbar": {
             "outlinewidth": 0,
             "ticks": ""
            },
            "colorscale": [
             [
              0,
              "#0d0887"
             ],
             [
              0.1111111111111111,
              "#46039f"
             ],
             [
              0.2222222222222222,
              "#7201a8"
             ],
             [
              0.3333333333333333,
              "#9c179e"
             ],
             [
              0.4444444444444444,
              "#bd3786"
             ],
             [
              0.5555555555555556,
              "#d8576b"
             ],
             [
              0.6666666666666666,
              "#ed7953"
             ],
             [
              0.7777777777777778,
              "#fb9f3a"
             ],
             [
              0.8888888888888888,
              "#fdca26"
             ],
             [
              1,
              "#f0f921"
             ]
            ],
            "type": "histogram2dcontour"
           }
          ],
          "mesh3d": [
           {
            "colorbar": {
             "outlinewidth": 0,
             "ticks": ""
            },
            "type": "mesh3d"
           }
          ],
          "parcoords": [
           {
            "line": {
             "colorbar": {
              "outlinewidth": 0,
              "ticks": ""
             }
            },
            "type": "parcoords"
           }
          ],
          "pie": [
           {
            "automargin": true,
            "type": "pie"
           }
          ],
          "scatter": [
           {
            "fillpattern": {
             "fillmode": "overlay",
             "size": 10,
             "solidity": 0.2
            },
            "type": "scatter"
           }
          ],
          "scatter3d": [
           {
            "line": {
             "colorbar": {
              "outlinewidth": 0,
              "ticks": ""
             }
            },
            "marker": {
             "colorbar": {
              "outlinewidth": 0,
              "ticks": ""
             }
            },
            "type": "scatter3d"
           }
          ],
          "scattercarpet": [
           {
            "marker": {
             "colorbar": {
              "outlinewidth": 0,
              "ticks": ""
             }
            },
            "type": "scattercarpet"
           }
          ],
          "scattergeo": [
           {
            "marker": {
             "colorbar": {
              "outlinewidth": 0,
              "ticks": ""
             }
            },
            "type": "scattergeo"
           }
          ],
          "scattergl": [
           {
            "marker": {
             "colorbar": {
              "outlinewidth": 0,
              "ticks": ""
             }
            },
            "type": "scattergl"
           }
          ],
          "scattermap": [
           {
            "marker": {
             "colorbar": {
              "outlinewidth": 0,
              "ticks": ""
             }
            },
            "type": "scattermap"
           }
          ],
          "scattermapbox": [
           {
            "marker": {
             "colorbar": {
              "outlinewidth": 0,
              "ticks": ""
             }
            },
            "type": "scattermapbox"
           }
          ],
          "scatterpolar": [
           {
            "marker": {
             "colorbar": {
              "outlinewidth": 0,
              "ticks": ""
             }
            },
            "type": "scatterpolar"
           }
          ],
          "scatterpolargl": [
           {
            "marker": {
             "colorbar": {
              "outlinewidth": 0,
              "ticks": ""
             }
            },
            "type": "scatterpolargl"
           }
          ],
          "scatterternary": [
           {
            "marker": {
             "colorbar": {
              "outlinewidth": 0,
              "ticks": ""
             }
            },
            "type": "scatterternary"
           }
          ],
          "surface": [
           {
            "colorbar": {
             "outlinewidth": 0,
             "ticks": ""
            },
            "colorscale": [
             [
              0,
              "#0d0887"
             ],
             [
              0.1111111111111111,
              "#46039f"
             ],
             [
              0.2222222222222222,
              "#7201a8"
             ],
             [
              0.3333333333333333,
              "#9c179e"
             ],
             [
              0.4444444444444444,
              "#bd3786"
             ],
             [
              0.5555555555555556,
              "#d8576b"
             ],
             [
              0.6666666666666666,
              "#ed7953"
             ],
             [
              0.7777777777777778,
              "#fb9f3a"
             ],
             [
              0.8888888888888888,
              "#fdca26"
             ],
             [
              1,
              "#f0f921"
             ]
            ],
            "type": "surface"
           }
          ],
          "table": [
           {
            "cells": {
             "fill": {
              "color": "#EBF0F8"
             },
             "line": {
              "color": "white"
             }
            },
            "header": {
             "fill": {
              "color": "#C8D4E3"
             },
             "line": {
              "color": "white"
             }
            },
            "type": "table"
           }
          ]
         },
         "layout": {
          "annotationdefaults": {
           "arrowcolor": "#2a3f5f",
           "arrowhead": 0,
           "arrowwidth": 1
          },
          "autotypenumbers": "strict",
          "coloraxis": {
           "colorbar": {
            "outlinewidth": 0,
            "ticks": ""
           }
          },
          "colorscale": {
           "diverging": [
            [
             0,
             "#8e0152"
            ],
            [
             0.1,
             "#c51b7d"
            ],
            [
             0.2,
             "#de77ae"
            ],
            [
             0.3,
             "#f1b6da"
            ],
            [
             0.4,
             "#fde0ef"
            ],
            [
             0.5,
             "#f7f7f7"
            ],
            [
             0.6,
             "#e6f5d0"
            ],
            [
             0.7,
             "#b8e186"
            ],
            [
             0.8,
             "#7fbc41"
            ],
            [
             0.9,
             "#4d9221"
            ],
            [
             1,
             "#276419"
            ]
           ],
           "sequential": [
            [
             0,
             "#0d0887"
            ],
            [
             0.1111111111111111,
             "#46039f"
            ],
            [
             0.2222222222222222,
             "#7201a8"
            ],
            [
             0.3333333333333333,
             "#9c179e"
            ],
            [
             0.4444444444444444,
             "#bd3786"
            ],
            [
             0.5555555555555556,
             "#d8576b"
            ],
            [
             0.6666666666666666,
             "#ed7953"
            ],
            [
             0.7777777777777778,
             "#fb9f3a"
            ],
            [
             0.8888888888888888,
             "#fdca26"
            ],
            [
             1,
             "#f0f921"
            ]
           ],
           "sequentialminus": [
            [
             0,
             "#0d0887"
            ],
            [
             0.1111111111111111,
             "#46039f"
            ],
            [
             0.2222222222222222,
             "#7201a8"
            ],
            [
             0.3333333333333333,
             "#9c179e"
            ],
            [
             0.4444444444444444,
             "#bd3786"
            ],
            [
             0.5555555555555556,
             "#d8576b"
            ],
            [
             0.6666666666666666,
             "#ed7953"
            ],
            [
             0.7777777777777778,
             "#fb9f3a"
            ],
            [
             0.8888888888888888,
             "#fdca26"
            ],
            [
             1,
             "#f0f921"
            ]
           ]
          },
          "colorway": [
           "#636efa",
           "#EF553B",
           "#00cc96",
           "#ab63fa",
           "#FFA15A",
           "#19d3f3",
           "#FF6692",
           "#B6E880",
           "#FF97FF",
           "#FECB52"
          ],
          "font": {
           "color": "#2a3f5f"
          },
          "geo": {
           "bgcolor": "white",
           "lakecolor": "white",
           "landcolor": "#E5ECF6",
           "showlakes": true,
           "showland": true,
           "subunitcolor": "white"
          },
          "hoverlabel": {
           "align": "left"
          },
          "hovermode": "closest",
          "mapbox": {
           "style": "light"
          },
          "paper_bgcolor": "white",
          "plot_bgcolor": "#E5ECF6",
          "polar": {
           "angularaxis": {
            "gridcolor": "white",
            "linecolor": "white",
            "ticks": ""
           },
           "bgcolor": "#E5ECF6",
           "radialaxis": {
            "gridcolor": "white",
            "linecolor": "white",
            "ticks": ""
           }
          },
          "scene": {
           "xaxis": {
            "backgroundcolor": "#E5ECF6",
            "gridcolor": "white",
            "gridwidth": 2,
            "linecolor": "white",
            "showbackground": true,
            "ticks": "",
            "zerolinecolor": "white"
           },
           "yaxis": {
            "backgroundcolor": "#E5ECF6",
            "gridcolor": "white",
            "gridwidth": 2,
            "linecolor": "white",
            "showbackground": true,
            "ticks": "",
            "zerolinecolor": "white"
           },
           "zaxis": {
            "backgroundcolor": "#E5ECF6",
            "gridcolor": "white",
            "gridwidth": 2,
            "linecolor": "white",
            "showbackground": true,
            "ticks": "",
            "zerolinecolor": "white"
           }
          },
          "shapedefaults": {
           "line": {
            "color": "#2a3f5f"
           }
          },
          "ternary": {
           "aaxis": {
            "gridcolor": "white",
            "linecolor": "white",
            "ticks": ""
           },
           "baxis": {
            "gridcolor": "white",
            "linecolor": "white",
            "ticks": ""
           },
           "bgcolor": "#E5ECF6",
           "caxis": {
            "gridcolor": "white",
            "linecolor": "white",
            "ticks": ""
           }
          },
          "title": {
           "x": 0.05
          },
          "xaxis": {
           "automargin": true,
           "gridcolor": "white",
           "linecolor": "white",
           "ticks": "",
           "title": {
            "standoff": 15
           },
           "zerolinecolor": "white",
           "zerolinewidth": 2
          },
          "yaxis": {
           "automargin": true,
           "gridcolor": "white",
           "linecolor": "white",
           "ticks": "",
           "title": {
            "standoff": 15
           },
           "zerolinecolor": "white",
           "zerolinewidth": 2
          }
         }
        },
        "title": {
         "text": "Raw Distribution of x57 Categories in Each x1 Class"
        },
        "xaxis": {
         "anchor": "y",
         "domain": [
          0,
          1
         ],
         "title": {
          "text": "Class (x1)"
         }
        },
        "yaxis": {
         "anchor": "x",
         "domain": [
          0,
          1
         ],
         "title": {
          "text": "Count"
         }
        }
       }
      }
     },
     "metadata": {},
     "output_type": "display_data"
    }
   ],
   "source": [
    "import plotly.graph_objects as go\n",
    "import pandas as pd\n",
    "import plotly.express as px\n",
    "\n",
    "# Create overlapping histograms for Y 10 min, Y 15 min, and Y 20 min\n",
    "fig_multi_hist = go.Figure()\n",
    "fig_multi_hist.add_trace(go.Histogram(x=df['Y 10 min'], name='Y 10 min', opacity=0.8))\n",
    "fig_multi_hist.add_trace(go.Histogram(x=df['Y 15 min'], name='Y 15 min', opacity=0.8))\n",
    "fig_multi_hist.add_trace(go.Histogram(x=df['Y 20 min'], name='Y 20 min', opacity=0.8))\n",
    "fig_multi_hist.add_trace(go.Histogram(x=df['Y 30 min'], name='Y 10 min', opacity=0.8))\n",
    "fig_multi_hist.add_trace(go.Histogram(x=df['Y 45 min'], name='Y 15 min', opacity=0.8))\n",
    "fig_multi_hist.add_trace(go.Histogram(x=df['Y 60 min'], name='Y 20 min', opacity=0.8))\n",
    "\n",
    "\n",
    "\n",
    "# Update layout for better readability\n",
    "fig_multi_hist.update_layout(\n",
    "    title='Comparison of Y',\n",
    "    xaxis_title='Values',\n",
    "    yaxis_title='Frequency',\n",
    "    barmode='overlay',  # Overlap the histograms\n",
    "    template='plotly'\n",
    ")\n",
    "\n",
    "# Show the plot\n",
    "fig_multi_hist.show()\n",
    "\n",
    "\n",
    "\n",
    "# Pie chart for customer segmentation by 'x1'\n",
    "fig_pie = px.pie(\n",
    "    df, \n",
    "    names='x1', \n",
    "    title='Customer Segmentation by x1',\n",
    "    hole=0.3,  # Makes it a donut chart\n",
    "    template='plotly',\n",
    "    labels={'x1': 'Segment'}\n",
    ")\n",
    "fig_pie.update_traces(textinfo='percent+label')\n",
    "fig_pie.show()\n",
    "\n",
    "# Group by x1 and x57, calculate the count\n",
    "category_distribution = df.groupby(['x1', 'x57']).size().reset_index(name='Count')\n",
    "\n",
    "# Stacked bar chart with raw counts\n",
    "fig = px.bar(\n",
    "    category_distribution, \n",
    "    x='x1', \n",
    "    y='Count', \n",
    "    color='x57',\n",
    "    title='Raw Distribution of x57 Categories in Each x1 Class',\n",
    "    labels={'x1': 'Class (x1)', 'x57': 'x57 Category'},\n",
    "    barmode='stack'\n",
    ")\n",
    "fig.show()"
   ]
  },
  {
   "cell_type": "code",
   "execution_count": null,
   "metadata": {},
   "outputs": [
    {
     "data": {
      "application/vnd.jupyter.widget-view+json": {
       "model_id": "9500485f63dc45be9608787418e88842",
       "version_major": 2,
       "version_minor": 0
      },
      "text/plain": [
       "Dropdown(description='Feature:', layout=Layout(border='1px solid white'), options=('x1', 'x2', 'x3', 'x4', 'x5…"
      ]
     },
     "metadata": {},
     "output_type": "display_data"
    },
    {
     "data": {
      "application/vnd.jupyter.widget-view+json": {
       "model_id": "df3cdbdc6e8a432db9e797e3da9d8a70",
       "version_major": 2,
       "version_minor": 0
      },
      "text/plain": [
       "Button(description='Show Value Counts', layout=Layout(border='1px solid white'), style=ButtonStyle())"
      ]
     },
     "metadata": {},
     "output_type": "display_data"
    },
    {
     "data": {
      "application/vnd.jupyter.widget-view+json": {
       "model_id": "efcce3e909de46af9abb09b44f28cd74",
       "version_major": 2,
       "version_minor": 0
      },
      "text/plain": [
       "Output()"
      ]
     },
     "metadata": {},
     "output_type": "display_data"
    }
   ],
   "source": [
    "import pandas as pd\n",
    "import ipywidgets as widgets\n",
    "from IPython.display import display\n",
    "from tabulate import tabulate\n",
    "\n",
    "\n",
    "def show_feature_null(df, name):\n",
    "    value_counts = df[df[name].notnull()][name].value_counts()\n",
    "\n",
    "    output.clear_output()\n",
    "    with output:\n",
    "        print(f\"\\n🔹 Feature: {name}\\n\")\n",
    "        print(tabulate(value_counts.reset_index(), headers=[\n",
    "              \"Value\", \"Count\"], tablefmt=\"pretty\"))\n",
    "\n",
    "\n",
    "dark_style = widgets.Layout(\n",
    "    background_color='#222222',  # สีดำเข้ม\n",
    "    color='white',  # สีตัวอักษรเป็นขาว\n",
    "    border='1px solid white'\n",
    ")\n",
    "feature_dropdown = widgets.Dropdown(\n",
    "    options=df.columns,\n",
    "    description='Feature:',\n",
    "    style={'description_width': 'initial'},\n",
    "    layout=dark_style\n",
    ")\n",
    "\n",
    "button = widgets.Button(description=\"Show Value Counts\",\n",
    "                        layout=dark_style)\n",
    "output = widgets.Output()\n",
    "\n",
    "\n",
    "def on_button_click(b):\n",
    "    show_feature_null(df, feature_dropdown.value)\n",
    "\n",
    "\n",
    "button.on_click(on_button_click)\n",
    "display(feature_dropdown, button, output)"
   ]
  },
  {
   "cell_type": "code",
   "execution_count": 22,
   "metadata": {},
   "outputs": [
    {
     "data": {
      "application/vnd.plotly.v1+json": {
       "config": {
        "plotlyServerURL": "https://plot.ly"
       },
       "data": [
        {
         "name": "x1",
         "text": {
          "bdata": "AAAAAACgYEAAAAAAAABBQAAAAAAAADBA",
          "dtype": "f8"
         },
         "textposition": "auto",
         "type": "bar",
         "x": [
          "Class 2",
          "Class 3",
          "Class 4"
         ],
         "y": {
          "bdata": "hQAiABAA",
          "dtype": "i2"
         }
        },
        {
         "name": "x2",
         "text": {
          "bdata": "AAAAAACAXUAAAAAAAEBQQA==",
          "dtype": "f8"
         },
         "textposition": "auto",
         "type": "bar",
         "x": [
          "Salt",
          "Base"
         ],
         "y": {
          "bdata": "dkE=",
          "dtype": "i1"
         }
        },
        {
         "name": "x3",
         "text": {
          "bdata": "AAAAAACgYkAAAAAAAABBQA==",
          "dtype": "f8"
         },
         "textposition": "auto",
         "type": "bar",
         "x": [
          "Low",
          "High"
         ],
         "y": {
          "bdata": "lQAiAA==",
          "dtype": "i2"
         }
        },
        {
         "name": "x4",
         "text": {
          "bdata": "AAAAAACgYEAAAAAAAABJQA==",
          "dtype": "f8"
         },
         "textposition": "auto",
         "type": "bar",
         "x": [
          "High",
          "Low"
         ],
         "y": {
          "bdata": "hQAyAA==",
          "dtype": "i2"
         }
        },
        {
         "name": "x5",
         "text": {
          "bdata": "AAAAAACAV0AAAAAAAABFQAAAAAAAADJAAAAAAAAALEAAAAAAAAAoQAAAAAAAAAhA",
          "dtype": "f8"
         },
         "textposition": "auto",
         "type": "bar",
         "x": [
          "0.0",
          "0.1",
          "0.008",
          "12.0",
          "100.0",
          "2.0"
         ],
         "y": {
          "bdata": "XioSDgwD",
          "dtype": "i1"
         }
        },
        {
         "name": "x6",
         "text": {
          "bdata": "AAAAAACAUUAAAAAAAABFQAAAAAAAADJAAAAAAAAAMkAAAAAAAAAoQAAAAAAAAChAAAAAAAAAIEAAAAAAAAAIQA==",
          "dtype": "f8"
         },
         "textposition": "auto",
         "type": "bar",
         "x": [
          "0.56",
          "0.1",
          "0.0",
          "0.006",
          "0.295",
          "100.0",
          "90.0",
          "2.0"
         ],
         "y": {
          "bdata": "RioSEgwMCAM=",
          "dtype": "i1"
         }
        },
        {
         "name": "x7",
         "text": {
          "bdata": "AAAAAACAUUAAAAAAAABFQAAAAAAAAD5AAAAAAAAAMkAAAAAAAAAoQAAAAAAAACBAAAAAAAAACEA=",
          "dtype": "f8"
         },
         "textposition": "auto",
         "type": "bar",
         "x": [
          "0.72",
          "0.1",
          "0.0",
          "0.005",
          "100.0",
          "53.0",
          "0.01"
         ],
         "y": {
          "bdata": "RioeEgwIAw==",
          "dtype": "i1"
         }
        },
        {
         "name": "x8",
         "text": {
          "bdata": "AAAAAAAAQkAAAAAAAAA3QAAAAAAAADNAAAAAAAAALEAAAAAAAAAqQAAAAAAAAChAAAAAAAAAKEAAAAAAAAAoQAAAAAAAAChAAAAAAAAAIEAAAAAAAAAYQAAAAAAAABBAAAAAAAAAEEAAAAAAAAAAQAAAAAAAAABAAAAAAAAA8D8AAAAAAADwPwAAAAAAAPA/AAAAAAAA8D8=",
          "dtype": "f8"
         },
         "textposition": "auto",
         "type": "bar",
         "x": [
          "7.0",
          "5.493",
          "10.2",
          "6.943",
          "40.7",
          "9.6",
          "9.439",
          "33.429",
          "8.249",
          "146.699",
          "7.7",
          "6.812",
          "5.05",
          "16.393",
          "8.0",
          "57.0",
          "10.1",
          "6.171",
          "15.534"
         ],
         "y": {
          "bdata": "JBcTDg0MDAwMCAYEBAICAQEBAQ==",
          "dtype": "i1"
         }
        },
        {
         "name": "x9",
         "text": {
          "bdata": "AAAAAACAUUAAAAAAAIBCQAAAAAAAADJAAAAAAAAALEAAAAAAAAAoQAAAAAAAAChAAAAAAAAAIEAAAAAAAAAUQAAAAAAAABBAAAAAAAAACEA=",
          "dtype": "f8"
         },
         "textposition": "auto",
         "type": "bar",
         "x": [
          "2.2",
          "6.36",
          "2.69",
          "-1.2",
          "2.1",
          "0.6",
          "-3.32",
          "4.94",
          "2.5",
          "2.8"
         ],
         "y": {
          "bdata": "RiUSDgwMCAUEAw==",
          "dtype": "i1"
         }
        },
        {
         "name": "x10",
         "text": {
          "bdata": "AAAAAACAUUAAAAAAAIBCQAAAAAAAADJAAAAAAAAALEAAAAAAAAAoQAAAAAAAAChAAAAAAAAAIEAAAAAAAAAUQAAAAAAAABBAAAAAAAAACEA=",
          "dtype": "f8"
         },
         "textposition": "auto",
         "type": "bar",
         "x": [
          "8.2",
          "6.68",
          "13.5",
          "8.0",
          "12.9",
          "6.11",
          "6.7",
          "7.6",
          "6.09",
          "3.2"
         ],
         "y": {
          "bdata": "RiUSDgwMCAUEAw==",
          "dtype": "i1"
         }
        },
        {
         "name": "x11",
         "text": {
          "bdata": "AAAAAACAUUAAAAAAAIBCQAAAAAAAADJAAAAAAAAALEAAAAAAAAAoQAAAAAAAAChAAAAAAAAAIEAAAAAAAAAUQAAAAAAAABBAAAAAAAAACEA=",
          "dtype": "f8"
         },
         "textposition": "auto",
         "type": "bar",
         "x": [
          "9.95",
          "6.87",
          "5.9",
          "5.95",
          "4.99",
          "4.3",
          "4.14",
          "6.4",
          "6.0",
          "4.0"
         ],
         "y": {
          "bdata": "RiUSDgwMCAUEAw==",
          "dtype": "i1"
         }
        },
        {
         "name": "x12",
         "text": {
          "bdata": "AAAAAACAUUAAAAAAAABKQAAAAAAAADJAAAAAAAAAMkAAAAAAAAAoQAAAAAAAACBAAAAAAAAAFEA=",
          "dtype": "f8"
         },
         "textposition": "auto",
         "type": "bar",
         "x": [
          "2.5",
          "1.5",
          "1.0",
          "3.0",
          "0.59",
          "1.25",
          "4.0"
         ],
         "y": {
          "bdata": "RjQSEgwIBQ==",
          "dtype": "i1"
         }
        },
        {
         "name": "x13",
         "text": {
          "bdata": "AAAAAACARkAAAAAAAIBAQAAAAAAAADdAAAAAAAAAKkAAAAAAAAAqQAAAAAAAAChAAAAAAAAAKEAAAAAAAAAoQAAAAAAAACBAAAAAAAAAFEAAAAAAAAAQQAAAAAAAAABAAAAAAAAA8D8=",
          "dtype": "f8"
         },
         "textposition": "auto",
         "type": "bar",
         "x": [
          "0.217",
          "0.208",
          "0.227",
          "0.333",
          "0.417",
          "0.213",
          "0.167",
          "0.238",
          "0.69",
          "0.185",
          "0.2",
          "0.345",
          "0.4"
         ],
         "y": {
          "bdata": "LSEXDQ0MDAwIBQQCAQ==",
          "dtype": "i1"
         }
        },
        {
         "name": "x14",
         "text": {
          "bdata": "AAAAAACASUAAAAAAAAA3QAAAAAAAADNAAAAAAAAAMkAAAAAAAAAqQAAAAAAAAChAAAAAAAAAKEAAAAAAAAAoQAAAAAAAACBAAAAAAAAAGEAAAAAAAAAQQAAAAAAAAABAAAAAAAAA8D8AAAAAAADwPwAAAAAAAPA/",
          "dtype": "f8"
         },
         "textposition": "auto",
         "type": "bar",
         "x": [
          "0.345",
          "0.303",
          "0.342",
          "0.294",
          "0.556",
          "0.214",
          "0.37",
          "0.588",
          "1.0",
          "0.333",
          "0.286",
          "0.455",
          "0.625",
          "0.278",
          "0.526"
         ],
         "y": {
          "bdata": "MxcTEg0MDAwIBgQCAQEB",
          "dtype": "i1"
         }
        },
        {
         "name": "x15",
         "text": {
          "bdata": "AAAAAAAAUUAAAAAAAIBCQAAAAAAAACxAAAAAAAAAKEAAAAAAAAAoQAAAAAAAAChAAAAAAAAAIEAAAAAAAAAYQAAAAAAAABRAAAAAAAAAEEAAAAAAAAAIQAAAAAAAAABA",
          "dtype": "f8"
         },
         "textposition": "auto",
         "type": "bar",
         "x": [
          "17.53",
          "10.83",
          "0.25",
          "30.0",
          "19.75",
          "1.52",
          "16.07",
          "19.61",
          "5.0",
          "28.57",
          "46.06",
          "14.22"
         ],
         "y": {
          "bdata": "RCUODAwMCAYFBAMC",
          "dtype": "i1"
         }
        },
        {
         "name": "x16",
         "text": {
          "bdata": "AAAAAACAWEAAAAAAAIBCQAAAAAAAADJAAAAAAAAALEAAAAAAAAAgQAAAAAAAABRAAAAAAAAACEA=",
          "dtype": "f8"
         },
         "textposition": "auto",
         "type": "bar",
         "x": [
          "0.0",
          "12.0",
          "22.45",
          "66.89",
          "58.43",
          "73.05",
          "12.16"
         ],
         "y": {
          "bdata": "YiUSDggFAw==",
          "dtype": "i1"
         }
        },
        {
         "name": "x17",
         "text": {
          "bdata": "AAAAAABAZkAAAAAAAAAUQA==",
          "dtype": "f8"
         },
         "textposition": "auto",
         "type": "bar",
         "x": [
          "0.0",
          "10.0"
         ],
         "y": {
          "bdata": "sgAFAA==",
          "dtype": "i2"
         }
        },
        {
         "name": "x18",
         "text": {
          "bdata": "AAAAAABAXEAAAAAAAABRQAAAAAAAAABA",
          "dtype": "f8"
         },
         "textposition": "auto",
         "type": "bar",
         "x": [
          "0.0",
          "48.47",
          "52.02"
         ],
         "y": {
          "bdata": "cUQC",
          "dtype": "i1"
         }
        },
        {
         "name": "x19",
         "text": {
          "bdata": "AAAAAABgZUAAAAAAAAAoQA==",
          "dtype": "f8"
         },
         "textposition": "auto",
         "type": "bar",
         "x": [
          "0.0",
          "33.33"
         ],
         "y": {
          "bdata": "qwAMAA==",
          "dtype": "i2"
         }
        },
        {
         "name": "x20",
         "text": {
          "bdata": "AAAAAABgZkAAAAAAAAAQQA==",
          "dtype": "f8"
         },
         "textposition": "auto",
         "type": "bar",
         "x": [
          "0.0",
          "32.65"
         ],
         "y": {
          "bdata": "swAEAA==",
          "dtype": "i2"
         }
        },
        {
         "name": "x21",
         "text": {
          "bdata": "AAAAAAAAUUAAAAAAAIBCQAAAAAAAAEBAAAAAAAAALEAAAAAAAAAoQAAAAAAAABhAAAAAAAAAFEAAAAAAAAAQQAAAAAAAAAhAAAAAAAAAAEA=",
          "dtype": "f8"
         },
         "textposition": "auto",
         "type": "bar",
         "x": [
          "20.0",
          "43.38",
          "0.0",
          "24.86",
          "49.86",
          "50.0",
          "8.5",
          "25.03",
          "10.67",
          "22.3"
         ],
         "y": {
          "bdata": "RCUgDgwGBQQDAg==",
          "dtype": "i1"
         }
        },
        {
         "name": "x22",
         "text": {
          "bdata": "AAAAAADgZUAAAAAAAAAgQA==",
          "dtype": "f8"
         },
         "textposition": "auto",
         "type": "bar",
         "x": [
          "0.0",
          "15.0"
         ],
         "y": {
          "bdata": "rwAIAA==",
          "dtype": "i2"
         }
        },
        {
         "name": "x23",
         "text": {
          "bdata": "AAAAAADAYUAAAAAAAIBCQAAAAAAAABBA",
          "dtype": "f8"
         },
         "textposition": "auto",
         "type": "bar",
         "x": [
          "0.0",
          "20.0",
          "2.5"
         ],
         "y": {
          "bdata": "jgAlAAQA",
          "dtype": "i2"
         }
        },
        {
         "name": "x24",
         "text": {
          "bdata": "AAAAAAAAZUAAAAAAAAAoQAAAAAAAAAhA",
          "dtype": "f8"
         },
         "textposition": "auto",
         "type": "bar",
         "x": [
          "0.0",
          "73.48",
          "8.83"
         ],
         "y": {
          "bdata": "qAAMAAMA",
          "dtype": "i2"
         }
        },
        {
         "name": "x25",
         "text": {
          "bdata": "AAAAAABgZEAAAAAAAAAoQAAAAAAAACBA",
          "dtype": "f8"
         },
         "textposition": "auto",
         "type": "bar",
         "x": [
          "0.0",
          "20.0",
          "5.0"
         ],
         "y": {
          "bdata": "owAMAAgA",
          "dtype": "i2"
         }
        },
        {
         "name": "x26",
         "text": {
          "bdata": "AAAAAAAAWkAAAAAAAIBCQAAAAAAAADJAAAAAAAAAKEAAAAAAAAAoQA==",
          "dtype": "f8"
         },
         "textposition": "auto",
         "type": "bar",
         "x": [
          "0.0",
          "3.0",
          "2.94",
          "4.0",
          "2.0"
         ],
         "y": {
          "bdata": "aCUSDAw=",
          "dtype": "i1"
         }
        },
        {
         "name": "x27",
         "text": {
          "bdata": "AAAAAACAW0AAAAAAAABRQAAAAAAAAAhAAAAAAAAAAEA=",
          "dtype": "f8"
         },
         "textposition": "auto",
         "type": "bar",
         "x": [
          "0.0",
          "5.0",
          "3.19",
          "4.05"
         ],
         "y": {
          "bdata": "bkQDAg==",
          "dtype": "i1"
         }
        },
        {
         "name": "x28",
         "text": {
          "bdata": "AAAAAAAgZEAAAAAAAAAsQAAAAAAAACBA",
          "dtype": "f8"
         },
         "textposition": "auto",
         "type": "bar",
         "x": [
          "0.0",
          "2.5",
          "5.0"
         ],
         "y": {
          "bdata": "oQAOAAgA",
          "dtype": "i2"
         }
        },
        {
         "name": "x29",
         "text": {
          "bdata": "AAAAAADgZkA=",
          "dtype": "f8"
         },
         "textposition": "auto",
         "type": "bar",
         "x": [
          "0.0"
         ],
         "y": {
          "bdata": "twA=",
          "dtype": "i2"
         }
        },
        {
         "name": "x30",
         "text": {
          "bdata": "AAAAAABAZkAAAAAAAAAUQA==",
          "dtype": "f8"
         },
         "textposition": "auto",
         "type": "bar",
         "x": [
          "0.0",
          "1.0"
         ],
         "y": {
          "bdata": "sgAFAA==",
          "dtype": "i2"
         }
        },
        {
         "name": "x31",
         "text": {
          "bdata": "AAAAAADAYEAAAAAAAIBCQAAAAAAAAChA",
          "dtype": "f8"
         },
         "textposition": "auto",
         "type": "bar",
         "x": [
          "0.0",
          "1.8",
          "3.0"
         ],
         "y": {
          "bdata": "hgAlAAwA",
          "dtype": "i2"
         }
        },
        {
         "name": "x32",
         "text": {
          "bdata": "AAAAAAAAV0AAAAAAAABRQAAAAAAAACxAAAAAAAAAEEAAAAAAAAAIQAAAAAAAAABA",
          "dtype": "f8"
         },
         "textposition": "auto",
         "type": "bar",
         "x": [
          "0.0",
          "5.0",
          "2.0",
          "2.5",
          "3.19",
          "4.05"
         ],
         "y": {
          "bdata": "XEQOBAMC",
          "dtype": "i1"
         }
        },
        {
         "name": "x33",
         "text": {
          "bdata": "AAAAAACgZEAAAAAAAAAyQA==",
          "dtype": "f8"
         },
         "textposition": "auto",
         "type": "bar",
         "x": [
          "0.0",
          "1.96"
         ],
         "y": {
          "bdata": "pQASAA==",
          "dtype": "i2"
         }
        },
        {
         "name": "x34",
         "text": {
          "bdata": "AAAAAABAYkAAAAAAAIBCQA==",
          "dtype": "f8"
         },
         "textposition": "auto",
         "type": "bar",
         "x": [
          "0.0",
          "1.0"
         ],
         "y": {
          "bdata": "kgAlAA==",
          "dtype": "i2"
         }
        },
        {
         "name": "x35",
         "text": {
          "bdata": "AAAAAACgZEAAAAAAAAAyQA==",
          "dtype": "f8"
         },
         "textposition": "auto",
         "type": "bar",
         "x": [
          "0.0",
          "0.49"
         ],
         "y": {
          "bdata": "pQASAA==",
          "dtype": "i2"
         }
        },
        {
         "name": "x36",
         "text": {
          "bdata": "AAAAAABAYkAAAAAAAIBCQA==",
          "dtype": "f8"
         },
         "textposition": "auto",
         "type": "bar",
         "x": [
          "0.0",
          "5.0"
         ],
         "y": {
          "bdata": "kgAlAA==",
          "dtype": "i2"
         }
        },
        {
         "name": "x37",
         "text": {
          "bdata": "AAAAAADgZkA=",
          "dtype": "f8"
         },
         "textposition": "auto",
         "type": "bar",
         "x": [
          "0.0"
         ],
         "y": {
          "bdata": "twA=",
          "dtype": "i2"
         }
        },
        {
         "name": "x38",
         "text": {
          "bdata": "AAAAAABgZUAAAAAAAAAoQA==",
          "dtype": "f8"
         },
         "textposition": "auto",
         "type": "bar",
         "x": [
          "0.0",
          "8.67"
         ],
         "y": {
          "bdata": "qwAMAA==",
          "dtype": "i2"
         }
        },
        {
         "name": "x39",
         "text": {
          "bdata": "AAAAAABgZkAAAAAAAAAQQA==",
          "dtype": "f8"
         },
         "textposition": "auto",
         "type": "bar",
         "x": [
          "0.0",
          "5.0"
         ],
         "y": {
          "bdata": "swAEAA==",
          "dtype": "i2"
         }
        },
        {
         "name": "x40",
         "text": {
          "bdata": "AAAAAACAZkAAAAAAAAAIQA==",
          "dtype": "f8"
         },
         "textposition": "auto",
         "type": "bar",
         "x": [
          "0.0",
          "7.55"
         ],
         "y": {
          "bdata": "tAADAA==",
          "dtype": "i2"
         }
        },
        {
         "name": "x41",
         "text": {
          "bdata": "AAAAAABAZkAAAAAAAAAUQA==",
          "dtype": "f8"
         },
         "textposition": "auto",
         "type": "bar",
         "x": [
          "0.0",
          "1.2"
         ],
         "y": {
          "bdata": "sgAFAA==",
          "dtype": "i2"
         }
        },
        {
         "name": "x42",
         "text": {
          "bdata": "AAAAAABgZUAAAAAAAAAoQA==",
          "dtype": "f8"
         },
         "textposition": "auto",
         "type": "bar",
         "x": [
          "0.0",
          "19.0"
         ],
         "y": {
          "bdata": "qwAMAA==",
          "dtype": "i2"
         }
        },
        {
         "name": "x43",
         "text": {
          "bdata": "AAAAAAAAWUAAAAAAAIBIQAAAAAAAADJAAAAAAAAAKEAAAAAAAAAQQA==",
          "dtype": "f8"
         },
         "textposition": "auto",
         "type": "bar",
         "x": [
          "0.0",
          "2.0",
          "1.96",
          "1.0",
          "2.5"
         ],
         "y": {
          "bdata": "ZDESDAQ=",
          "dtype": "i1"
         }
        },
        {
         "name": "x44",
         "text": {
          "bdata": "AAAAAACAW0AAAAAAAIBRQAAAAAAAAAhA",
          "dtype": "f8"
         },
         "textposition": "auto",
         "type": "bar",
         "x": [
          "0.0",
          "2.0",
          "4.19"
         ],
         "y": {
          "bdata": "bkYD",
          "dtype": "i1"
         }
        },
        {
         "name": "x45",
         "text": {
          "bdata": "AAAAAAAgZUAAAAAAAAAsQA==",
          "dtype": "f8"
         },
         "textposition": "auto",
         "type": "bar",
         "x": [
          "0.0",
          "2.5"
         ],
         "y": {
          "bdata": "qQAOAA==",
          "dtype": "i2"
         }
        },
        {
         "name": "x46",
         "text": {
          "bdata": "AAAAAACAZkAAAAAAAAAIQA==",
          "dtype": "f8"
         },
         "textposition": "auto",
         "type": "bar",
         "x": [
          "0.0",
          "1.03"
         ],
         "y": {
          "bdata": "tAADAA==",
          "dtype": "i2"
         }
        },
        {
         "name": "x47",
         "text": {
          "bdata": "AAAAAAAAVkAAAAAAAABUQAAAAAAAACBAAAAAAAAAEEAAAAAAAAAIQA==",
          "dtype": "f8"
         },
         "textposition": "auto",
         "type": "bar",
         "x": [
          "0.0",
          "1.0",
          "0.5",
          "1.25",
          "3.13"
         ],
         "y": {
          "bdata": "WFAIBAM=",
          "dtype": "i1"
         }
        },
        {
         "name": "x48",
         "text": {
          "bdata": "AAAAAABgZEAAAAAAAAAyQAAAAAAAAABA",
          "dtype": "f8"
         },
         "textposition": "auto",
         "type": "bar",
         "x": [
          "0.0",
          "0.59",
          "1.35"
         ],
         "y": {
          "bdata": "owASAAIA",
          "dtype": "i2"
         }
        },
        {
         "name": "x49",
         "text": {
          "bdata": "AAAAAADAXEAAAAAAAABRQA==",
          "dtype": "f8"
         },
         "textposition": "auto",
         "type": "bar",
         "x": [
          "0.0",
          "2.0"
         ],
         "y": {
          "bdata": "c0Q=",
          "dtype": "i1"
         }
        },
        {
         "name": "x50",
         "text": {
          "bdata": "AAAAAACAQkAAAAAAAABCQAAAAAAAADRAAAAAAAAALEAAAAAAAAAoQAAAAAAAAChAAAAAAAAAKEAAAAAAAAAoQAAAAAAAACBAAAAAAAAAGEAAAAAAAAAUQAAAAAAAABBAAAAAAAAACEAAAAAAAADwPwAAAAAAAPA/",
          "dtype": "f8"
         },
         "textposition": "auto",
         "type": "bar",
         "x": [
          "58.05",
          "18.403",
          "17.67",
          "19.546",
          "17.5",
          "28.673",
          "41.92",
          "24.74",
          "24.12",
          "39.12",
          "17.89",
          "26.61",
          "20.57",
          "30.48",
          "29.362"
         ],
         "y": {
          "bdata": "JSQUDgwMDAwIBgUEAwEB",
          "dtype": "i1"
         }
        },
        {
         "name": "x51",
         "text": {
          "bdata": "AAAAAAAARUAAAAAAAABEQAAAAAAAAEBAAAAAAAAAQEAAAAAAAAAsQAAAAAAAAChAAAAAAAAAIEAAAAAAAAAIQA==",
          "dtype": "f8"
         },
         "textposition": "auto",
         "type": "bar",
         "x": [
          "272.133",
          "1632.8",
          "255.39",
          "272.13",
          "319.23",
          "209.333",
          "319.233",
          "435.413"
         ],
         "y": {
          "bdata": "KiggIA4MCAM=",
          "dtype": "i1"
         }
        },
        {
         "name": "x52",
         "text": {
          "bdata": "AAAAAAAAW0AAAAAAAABEQAAAAAAAgEFA",
          "dtype": "f8"
         },
         "textposition": "auto",
         "type": "bar",
         "x": [
          "100.0",
          "300.0",
          "80.0"
         ],
         "y": {
          "bdata": "bCgj",
          "dtype": "i1"
         }
        },
        {
         "name": "x53",
         "text": {
          "bdata": "AAAAAADAX0AAAAAAAABHQAAAAAAAABRAAAAAAAAACEAAAAAAAAAAQA==",
          "dtype": "f8"
         },
         "textposition": "auto",
         "type": "bar",
         "x": [
          "1000.0",
          "500.0",
          "2000.0",
          "1500.0",
          "1200.0"
         ],
         "y": {
          "bdata": "fy4FAwI=",
          "dtype": "i1"
         }
        },
        {
         "name": "x54",
         "text": {
          "bdata": "AAAAAADAUkAAAAAAAIBCQAAAAAAAAD1AAAAAAAAAMEAAAAAAAAAsQAAAAAAAAChA",
          "dtype": "f8"
         },
         "textposition": "auto",
         "type": "bar",
         "x": [
          "8.0",
          "13.0",
          "9.0",
          "6.0",
          "3.0",
          "10.0"
         ],
         "y": {
          "bdata": "SyUdEA4M",
          "dtype": "i1"
         }
        },
        {
         "name": "x55",
         "text": {
          "bdata": "AAAAAAAAM0AAAAAAAAAsQAAAAAAAACpAAAAAAAAAKEAAAAAAAAAoQAAAAAAAAChAAAAAAAAAKEAAAAAAAAAoQAAAAAAAAChAAAAAAAAAKEAAAAAAAAAoQAAAAAAAACZAAAAAAAAAIEAAAAAAAAAYQAAAAAAAABBAAAAAAAAAEEAAAAAAAAAIQAAAAAAAAPA/AAAAAAAA8D8AAAAAAADwPwAAAAAAAPA/AAAAAAAA8D8=",
          "dtype": "f8"
         },
         "textposition": "auto",
         "type": "bar",
         "x": [
          "0.63",
          "0.79",
          "1.03",
          "0.27",
          "0.71",
          "0.88",
          "0.75",
          "0.46",
          "0.87",
          "1.33",
          "0.55",
          "0.77",
          "2.0",
          "1.44",
          "0.93",
          "0.98",
          "1.25",
          "0.96",
          "0.53",
          "0.43",
          "0.9",
          "1.17"
         ],
         "y": {
          "bdata": "Ew4NDAwMDAwMDAwLCAYEBAMBAQEBAQ==",
          "dtype": "i1"
         }
        },
        {
         "name": "x56",
         "text": {
          "bdata": "AAAAAABAYEAAAAAAAIBCQAAAAAAAADBA",
          "dtype": "f8"
         },
         "textposition": "auto",
         "type": "bar",
         "x": [
          "0.85",
          "0.6",
          "1.0"
         ],
         "y": {
          "bdata": "ggAlABAA",
          "dtype": "i2"
         }
        },
        {
         "name": "x57",
         "text": {
          "bdata": "AAAAAABAWkAAAAAAAIBOQAAAAAAAADFA",
          "dtype": "f8"
         },
         "textposition": "auto",
         "type": "bar",
         "x": [
          "PVA",
          "HPMC",
          "No"
         ],
         "y": {
          "bdata": "aT0R",
          "dtype": "i1"
         }
        },
        {
         "name": "x58",
         "text": {
          "bdata": "AAAAAABgZEAAAAAAAAAxQAAAAAAAAAhA",
          "dtype": "f8"
         },
         "textposition": "auto",
         "type": "bar",
         "x": [
          "3.0",
          "0.0",
          "2.5"
         ],
         "y": {
          "bdata": "owARAAMA",
          "dtype": "i2"
         }
        },
        {
         "name": "x59",
         "text": {
          "bdata": "AAAAAAAAOkAAAAAAAAA6QAAAAAAAADhAAAAAAAAAM0AAAAAAAAAyQAAAAAAAADFAAAAAAAAAKEAAAAAAAAAoQAAAAAAAAChAAAAAAAAAIkAAAAAAAAAUQAAAAAAAAPA/AAAAAAAA8D8AAAAAAADwPw==",
          "dtype": "f8"
         },
         "textposition": "auto",
         "type": "bar",
         "x": [
          "0.526",
          "0.556",
          "0.581",
          "0.465",
          "0.488",
          "0.588",
          "0.586",
          "0.541",
          "0.8",
          "0.606",
          "0.571",
          "0.476",
          "0.59",
          "0.6"
         ],
         "y": {
          "bdata": "GhoYExIRDAwMCQUBAQE=",
          "dtype": "i1"
         }
        },
        {
         "name": "x60",
         "text": {
          "bdata": "AAAAAAAAOUAAAAAAAAA2QAAAAAAAADNAAAAAAAAAMUAAAAAAAAAuQAAAAAAAACpAAAAAAAAAKkAAAAAAAAAoQAAAAAAAAChAAAAAAAAAKEAAAAAAAAAoQAAAAAAAACBAAAAAAAAA8D8AAAAAAADwPwAAAAAAAPA/",
          "dtype": "f8"
         },
         "textposition": "auto",
         "type": "bar",
         "x": [
          "0.741",
          "0.667",
          "0.637",
          "0.8",
          "0.769",
          "0.645",
          "0.676",
          "0.748",
          "0.757",
          "0.749",
          "1.0",
          "0.73",
          "0.68",
          "0.71",
          "0.67"
         ],
         "y": {
          "bdata": "GRYTEQ8NDQwMDAwIAQEB",
          "dtype": "i1"
         }
        },
        {
         "name": "x61",
         "text": {
          "bdata": "AAAAAAAAVEAAAAAAAIBCQAAAAAAAADJAAAAAAAAAMUAAAAAAAAAsQAAAAAAAACRAAAAAAAAAEEAAAAAAAAAAQAAAAAAAAPA/",
          "dtype": "f8"
         },
         "textposition": "auto",
         "type": "bar",
         "x": [
          "300.0",
          "400.0",
          "102.0",
          "100.0",
          "210.0",
          "250.0",
          "700.0",
          "850.0",
          "500.0"
         ],
         "y": {
          "bdata": "UCUSEQ4KBAIB",
          "dtype": "i1"
         }
        },
        {
         "name": "x62",
         "text": {
          "bdata": "AAAAAACAZEAAAAAAAAAqQAAAAAAAABhA",
          "dtype": "f8"
         },
         "textposition": "auto",
         "type": "bar",
         "x": [
          "Round",
          "Oblong",
          "Oval"
         ],
         "y": {
          "bdata": "pAANAAYA",
          "dtype": "i2"
         }
        },
        {
         "name": "x63",
         "text": {
          "bdata": "AAAAAAAAKEAAAAAAAAAoQAAAAAAAAChAAAAAAAAAKEAAAAAAAAAoQAAAAAAAAChAAAAAAAAAKEAAAAAAAAAoQAAAAAAAACZAAAAAAAAAIkAAAAAAAAAgQAAAAAAAACBAAAAAAAAAGEAAAAAAAAAYQAAAAAAAABRAAAAAAAAAFEAAAAAAAAAUQAAAAAAAABBAAAAAAAAAEEAAAAAAAAAQQAAAAAAAAAhAAAAAAAAAAEAAAAAAAADwPwAAAAAAAPA/AAAAAAAA8D8AAAAAAADwPwAAAAAAAPA/AAAAAAAA8D8AAAAAAADwPw==",
          "dtype": "f8"
         },
         "textposition": "auto",
         "type": "bar",
         "x": [
          "4.25",
          "4.0",
          "7.4",
          "6.6",
          "6.04",
          "6.27",
          "6.42",
          "10.35",
          "7.05",
          "7.65",
          "9.33",
          "16.3",
          "3.55",
          "5.0",
          "5.15",
          "7.35",
          "11.0",
          "4.5",
          "19.2",
          "8.3",
          "3.45",
          "9.3",
          "19.5",
          "20.0",
          "7.81",
          "5.95",
          "10.45",
          "9.4",
          "9.1"
         ],
         "y": {
          "bdata": "DAwMDAwMDAwLCQgIBgYFBQUEBAQDAgEBAQEBAQE=",
          "dtype": "i1"
         }
        },
        {
         "name": "x64",
         "text": {
          "bdata": "AAAAAABAWEAAAAAAAMBTQAAAAAAAABRAAAAAAAAAAEA=",
          "dtype": "f8"
         },
         "textposition": "auto",
         "type": "bar",
         "x": [
          "50 rpm",
          "75 rpm",
          "60 rpm",
          "65 rpm"
         ],
         "y": {
          "bdata": "YU8FAg==",
          "dtype": "i1"
         }
        },
        {
         "name": "x65",
         "text": {
          "bdata": "AAAAAABAV0AAAAAAAIBTQAAAAAAAAChA",
          "dtype": "f8"
         },
         "textposition": "auto",
         "type": "bar",
         "x": [
          "SLS",
          "No",
          "Tween"
         ],
         "y": {
          "bdata": "XU4M",
          "dtype": "i1"
         }
        },
        {
         "name": "x66",
         "text": {
          "bdata": "AAAAAACAU0AAAAAAAABRQAAAAAAAADJAAAAAAAAALEAAAAAAAAAUQA==",
          "dtype": "f8"
         },
         "textposition": "auto",
         "type": "bar",
         "x": [
          "0.0",
          "0.25",
          "0.4",
          "0.2",
          "0.1"
         ],
         "y": {
          "bdata": "TkQSDgU=",
          "dtype": "i1"
         }
        },
        {
         "name": "Y 10 min",
         "text": {
          "bdata": "AAAAAAAAEEAAAAAAAAAIQAAAAAAAAABAAAAAAAAAAEAAAAAAAAAAQAAAAAAAAABAAAAAAAAAAEAAAAAAAAAAQAAAAAAAAABAAAAAAAAAAEAAAAAAAADwPwAAAAAAAPA/AAAAAAAA8D8AAAAAAADwPwAAAAAAAPA/AAAAAAAA8D8AAAAAAADwPwAAAAAAAPA/AAAAAAAA8D8AAAAAAADwPwAAAAAAAPA/AAAAAAAA8D8AAAAAAADwPwAAAAAAAPA/AAAAAAAA8D8AAAAAAADwPwAAAAAAAPA/AAAAAAAA8D8AAAAAAADwPwAAAAAAAPA/AAAAAAAA8D8AAAAAAADwPwAAAAAAAPA/AAAAAAAA8D8AAAAAAADwPwAAAAAAAPA/AAAAAAAA8D8AAAAAAADwPwAAAAAAAPA/AAAAAAAA8D8AAAAAAADwPwAAAAAAAPA/AAAAAAAA8D8AAAAAAADwPwAAAAAAAPA/AAAAAAAA8D8AAAAAAADwPwAAAAAAAPA/AAAAAAAA8D8AAAAAAADwPwAAAAAAAPA/AAAAAAAA8D8AAAAAAADwPwAAAAAAAPA/AAAAAAAA8D8AAAAAAADwPwAAAAAAAPA/AAAAAAAA8D8AAAAAAADwPwAAAAAAAPA/AAAAAAAA8D8AAAAAAADwPwAAAAAAAPA/AAAAAAAA8D8AAAAAAADwPwAAAAAAAPA/AAAAAAAA8D8AAAAAAADwPwAAAAAAAPA/AAAAAAAA8D8AAAAAAADwPwAAAAAAAPA/AAAAAAAA8D8AAAAAAADwPwAAAAAAAPA/AAAAAAAA8D8AAAAAAADwPwAAAAAAAPA/AAAAAAAA8D8AAAAAAADwPwAAAAAAAPA/AAAAAAAA8D8AAAAAAADwPwAAAAAAAPA/AAAAAAAA8D8AAAAAAADwPwAAAAAAAPA/AAAAAAAA8D8AAAAAAADwPwAAAAAAAPA/AAAAAAAA8D8AAAAAAADwPwAAAAAAAPA/AAAAAAAA8D8AAAAAAADwPwAAAAAAAPA/AAAAAAAA8D8AAAAAAADwPwAAAAAAAPA/AAAAAAAA8D8AAAAAAADwPwAAAAAAAPA/AAAAAAAA8D8AAAAAAADwPwAAAAAAAPA/AAAAAAAA8D8AAAAAAADwPwAAAAAAAPA/AAAAAAAA8D8AAAAAAADwPwAAAAAAAPA/AAAAAAAA8D8AAAAAAADwPwAAAAAAAPA/AAAAAAAA8D8AAAAAAADwPwAAAAAAAPA/AAAAAAAA8D8AAAAAAADwPwAAAAAAAPA/AAAAAAAA8D8AAAAAAADwPwAAAAAAAPA/AAAAAAAA8D8AAAAAAADwPwAAAAAAAPA/AAAAAAAA8D8AAAAAAADwPwAAAAAAAPA/AAAAAAAA8D8AAAAAAADwPwAAAAAAAPA/AAAAAAAA8D8AAAAAAADwPwAAAAAAAPA/AAAAAAAA8D8AAAAAAADwPwAAAAAAAPA/AAAAAAAA8D8AAAAAAADwPwAAAAAAAPA/AAAAAAAA8D8AAAAAAADwPwAAAAAAAPA/AAAAAAAA8D8AAAAAAADwPwAAAAAAAPA/AAAAAAAA8D8AAAAAAADwPwAAAAAAAPA/AAAAAAAA8D8AAAAAAADwPwAAAAAAAPA/AAAAAAAA8D8AAAAAAADwPwAAAAAAAPA/AAAAAAAA8D8AAAAAAADwPwAAAAAAAPA/AAAAAAAA8D8AAAAAAADwPwAAAAAAAPA/AAAAAAAA8D8AAAAAAADwPwAAAAAAAPA/AAAAAAAA8D8AAAAAAADwPwAAAAAAAPA/AAAAAAAA8D8AAAAAAADwPw==",
          "dtype": "f8"
         },
         "textposition": "auto",
         "type": "bar",
         "x": [
          "100.0",
          "101.0",
          "94.0",
          "75.5",
          "92.0",
          "53.02",
          "102.0",
          "99.0",
          "89.88",
          "97.0",
          "87.22",
          "93.25",
          "86.21",
          "86.56",
          "87.37",
          "79.32",
          "83.91",
          "103.0",
          "102.95",
          "102.94",
          "89.93",
          "96.0",
          "91.31",
          "94.54",
          "88.87",
          "89.61",
          "94.45",
          "89.52",
          "93.23",
          "88.65",
          "86.31",
          "86.05",
          "98.0",
          "89.92",
          "85.48",
          "93.97",
          "94.25",
          "94.95",
          "94.93",
          "95.0",
          "92.58",
          "87.31",
          "86.23",
          "88.05",
          "88.38",
          "86.62",
          "86.77",
          "89.54",
          "87.53",
          "85.53",
          "88.96",
          "86.69",
          "90.66",
          "90.01",
          "86.73",
          "90.88",
          "90.11",
          "87.82",
          "92.52",
          "93.24",
          "92.07",
          "90.26",
          "92.74",
          "89.58",
          "45.0",
          "40.0",
          "46.0",
          "88.5",
          "90.99",
          "89.06",
          "88.86",
          "91.17",
          "87.75",
          "88.62",
          "85.0",
          "87.13",
          "89.03",
          "90.12",
          "90.76",
          "88.1",
          "88.07",
          "85.03",
          "88.84",
          "93.65",
          "89.84",
          "89.43",
          "87.18",
          "67.6",
          "88.0",
          "74.38",
          "77.87",
          "74.07",
          "74.89",
          "76.15",
          "74.95",
          "72.09",
          "75.34",
          "75.83",
          "67.69",
          "67.36",
          "78.83",
          "80.09",
          "77.32",
          "79.28",
          "78.49",
          "74.59",
          "78.59",
          "78.93",
          "64.01",
          "68.17",
          "63.3",
          "63.6",
          "73.43",
          "65.84",
          "63.58",
          "61.2",
          "60.91",
          "71.84",
          "78.53",
          "78.86",
          "76.17",
          "78.56",
          "79.2",
          "47.74",
          "47.58",
          "38.42",
          "46.38",
          "40.38",
          "73.84",
          "68.52",
          "76.19",
          "71.55",
          "70.45",
          "69.29",
          "53.26",
          "51.75",
          "52.62",
          "51.91",
          "51.47",
          "50.51",
          "50.42",
          "50.7",
          "49.08",
          "50.14",
          "96.9",
          "92.46",
          "96.14",
          "95.09",
          "98.64",
          "65.35",
          "68.07",
          "63.7",
          "69.61",
          "65.0",
          "68.34",
          "72.91",
          "69.42",
          "75.58",
          "68.06",
          "67.87",
          "64.1",
          "65.76",
          "75.35",
          "78.21",
          "64.17",
          "62.1",
          "77.08",
          "61.4",
          "60.21",
          "93.38"
         ],
         "y": {
          "bdata": "BAMCAgICAgICAgEBAQEBAQEBAQEBAQEBAQEBAQEBAQEBAQEBAQEBAQEBAQEBAQEBAQEBAQEBAQEBAQEBAQEBAQEBAQEBAQEBAQEBAQEBAQEBAQEBAQEBAQEBAQEBAQEBAQEBAQEBAQEBAQEBAQEBAQEBAQEBAQEBAQEBAQEBAQEBAQEBAQEBAQEBAQEBAQEBAQEBAQEBAQEBAQEBAQEBAQEBAQEBAQEBAQE=",
          "dtype": "i1"
         }
        },
        {
         "name": "Y 15 min",
         "text": {
          "bdata": "AAAAAAAAFEAAAAAAAAAIQAAAAAAAAABAAAAAAAAAAEAAAAAAAAAAQAAAAAAAAABAAAAAAAAAAEAAAAAAAAAAQAAAAAAAAABAAAAAAAAAAEAAAAAAAAAAQAAAAAAAAABAAAAAAAAAAEAAAAAAAAAAQAAAAAAAAPA/AAAAAAAA8D8AAAAAAADwPwAAAAAAAPA/AAAAAAAA8D8AAAAAAADwPwAAAAAAAPA/AAAAAAAA8D8AAAAAAADwPwAAAAAAAPA/AAAAAAAA8D8AAAAAAADwPwAAAAAAAPA/AAAAAAAA8D8AAAAAAADwPwAAAAAAAPA/AAAAAAAA8D8AAAAAAADwPwAAAAAAAPA/AAAAAAAA8D8AAAAAAADwPwAAAAAAAPA/AAAAAAAA8D8AAAAAAADwPwAAAAAAAPA/AAAAAAAA8D8AAAAAAADwPwAAAAAAAPA/AAAAAAAA8D8AAAAAAADwPwAAAAAAAPA/AAAAAAAA8D8AAAAAAADwPwAAAAAAAPA/AAAAAAAA8D8AAAAAAADwPwAAAAAAAPA/AAAAAAAA8D8AAAAAAADwPwAAAAAAAPA/AAAAAAAA8D8AAAAAAADwPwAAAAAAAPA/AAAAAAAA8D8AAAAAAADwPwAAAAAAAPA/AAAAAAAA8D8AAAAAAADwPwAAAAAAAPA/AAAAAAAA8D8AAAAAAADwPwAAAAAAAPA/AAAAAAAA8D8AAAAAAADwPwAAAAAAAPA/AAAAAAAA8D8AAAAAAADwPwAAAAAAAPA/AAAAAAAA8D8AAAAAAADwPwAAAAAAAPA/AAAAAAAA8D8AAAAAAADwPwAAAAAAAPA/AAAAAAAA8D8AAAAAAADwPwAAAAAAAPA/AAAAAAAA8D8AAAAAAADwPwAAAAAAAPA/AAAAAAAA8D8AAAAAAADwPwAAAAAAAPA/AAAAAAAA8D8AAAAAAADwPwAAAAAAAPA/AAAAAAAA8D8AAAAAAADwPwAAAAAAAPA/AAAAAAAA8D8AAAAAAADwPwAAAAAAAPA/AAAAAAAA8D8AAAAAAADwPwAAAAAAAPA/AAAAAAAA8D8AAAAAAADwPwAAAAAAAPA/AAAAAAAA8D8AAAAAAADwPwAAAAAAAPA/AAAAAAAA8D8AAAAAAADwPwAAAAAAAPA/AAAAAAAA8D8AAAAAAADwPwAAAAAAAPA/AAAAAAAA8D8AAAAAAADwPwAAAAAAAPA/AAAAAAAA8D8AAAAAAADwPwAAAAAAAPA/AAAAAAAA8D8AAAAAAADwPwAAAAAAAPA/AAAAAAAA8D8AAAAAAADwPwAAAAAAAPA/AAAAAAAA8D8AAAAAAADwPwAAAAAAAPA/AAAAAAAA8D8AAAAAAADwPwAAAAAAAPA/AAAAAAAA8D8AAAAAAADwPwAAAAAAAPA/AAAAAAAA8D8AAAAAAADwPwAAAAAAAPA/AAAAAAAA8D8AAAAAAADwPwAAAAAAAPA/AAAAAAAA8D8AAAAAAADwPwAAAAAAAPA/AAAAAAAA8D8AAAAAAADwPwAAAAAAAPA/AAAAAAAA8D8AAAAAAADwPwAAAAAAAPA/AAAAAAAA8D8AAAAAAADwPwAAAAAAAPA/AAAAAAAA8D8AAAAAAADwPwAAAAAAAPA/AAAAAAAA8D8AAAAAAADwPwAAAAAAAPA/AAAAAAAA8D8AAAAAAADwPwAAAAAAAPA/AAAAAAAA8D8AAAAAAADwPwAAAAAAAPA/AAAAAAAA8D8AAAAAAADwPwAAAAAAAPA/",
          "dtype": "f8"
         },
         "textposition": "auto",
         "type": "bar",
         "x": [
          "101.0",
          "88.25",
          "91.5",
          "94.05",
          "102.0",
          "90.1",
          "99.0",
          "90.82",
          "90.7",
          "90.89",
          "96.0",
          "103.0",
          "91.0",
          "97.0",
          "98.0",
          "95.22",
          "100.0",
          "92.3",
          "92.54",
          "93.52",
          "92.23",
          "92.78",
          "90.57",
          "93.77",
          "96.59",
          "92.96",
          "89.22",
          "89.59",
          "94.65",
          "92.0",
          "97.62",
          "96.64",
          "96.8",
          "98.42",
          "97.65",
          "90.09",
          "91.28",
          "89.92",
          "91.52",
          "91.27",
          "89.7",
          "95.84",
          "89.54",
          "91.01",
          "84.66",
          "91.79",
          "91.94",
          "93.66",
          "93.47",
          "64.0",
          "56.0",
          "60.0",
          "91.68",
          "94.21",
          "95.58",
          "91.37",
          "103.1",
          "97.14",
          "103.66",
          "101.5",
          "100.46",
          "99.94",
          "93.07",
          "92.9",
          "91.48",
          "90.52",
          "91.99",
          "92.2",
          "92.82",
          "93.17",
          "91.22",
          "91.87",
          "89.32",
          "95.65",
          "91.78",
          "92.24",
          "91.46",
          "92.77",
          "91.9",
          "89.84",
          "93.96",
          "93.36",
          "88.43",
          "94.0",
          "100.27",
          "95.0",
          "85.13",
          "91.47",
          "89.75",
          "91.84",
          "90.2",
          "90.76",
          "89.91",
          "86.46",
          "87.88",
          "87.84",
          "87.67",
          "89.68",
          "88.28",
          "85.49",
          "88.65",
          "87.35",
          "85.08",
          "86.65",
          "90.87",
          "94.69",
          "92.95",
          "92.68",
          "79.67",
          "86.42",
          "83.25",
          "82.07",
          "80.04",
          "82.53",
          "90.9",
          "89.02",
          "86.28",
          "78.92",
          "78.87",
          "72.93",
          "80.24",
          "77.788",
          "89.72",
          "86.03",
          "84.89",
          "87.97",
          "84.71",
          "57.71",
          "61.17",
          "61.42",
          "60.35",
          "60.56",
          "75.88",
          "60.14",
          "58.85",
          "58.34",
          "84.99",
          "60.29",
          "58.04",
          "57.7",
          "98.22",
          "96.65",
          "97.97",
          "96.69",
          "87.59",
          "83.64",
          "87.19",
          "88.51",
          "88.17",
          "87.34",
          "87.98",
          "85.8",
          "86.55",
          "86.17",
          "85.15",
          "87.83",
          "85.81",
          "82.7",
          "83.15",
          "86.85",
          "85.34",
          "83.04",
          "84.6",
          "86.35",
          "95.57"
         ],
         "y": {
          "bdata": "BQMCAgICAgICAgICAgIBAQEBAQEBAQEBAQEBAQEBAQEBAQEBAQEBAQEBAQEBAQEBAQEBAQEBAQEBAQEBAQEBAQEBAQEBAQEBAQEBAQEBAQEBAQEBAQEBAQEBAQEBAQEBAQEBAQEBAQEBAQEBAQEBAQEBAQEBAQEBAQEBAQEBAQEBAQEBAQEBAQEBAQEBAQEBAQEBAQEBAQEBAQEBAQEBAQEBAQEB",
          "dtype": "i1"
         }
        },
        {
         "name": "Y 20 min",
         "text": {
          "bdata": "AAAAAAAAFEAAAAAAAAAIQAAAAAAAAABAAAAAAAAAAEAAAAAAAAAAQAAAAAAAAABAAAAAAAAAAEAAAAAAAAAAQAAAAAAAAABAAAAAAAAAAEAAAAAAAAAAQAAAAAAAAABAAAAAAAAA8D8AAAAAAADwPwAAAAAAAPA/AAAAAAAA8D8AAAAAAADwPwAAAAAAAPA/AAAAAAAA8D8AAAAAAADwPwAAAAAAAPA/AAAAAAAA8D8AAAAAAADwPwAAAAAAAPA/AAAAAAAA8D8AAAAAAADwPwAAAAAAAPA/AAAAAAAA8D8AAAAAAADwPwAAAAAAAPA/AAAAAAAA8D8AAAAAAADwPwAAAAAAAPA/AAAAAAAA8D8AAAAAAADwPwAAAAAAAPA/AAAAAAAA8D8AAAAAAADwPwAAAAAAAPA/AAAAAAAA8D8AAAAAAADwPwAAAAAAAPA/AAAAAAAA8D8AAAAAAADwPwAAAAAAAPA/AAAAAAAA8D8AAAAAAADwPwAAAAAAAPA/AAAAAAAA8D8AAAAAAADwPwAAAAAAAPA/AAAAAAAA8D8AAAAAAADwPwAAAAAAAPA/AAAAAAAA8D8AAAAAAADwPwAAAAAAAPA/AAAAAAAA8D8AAAAAAADwPwAAAAAAAPA/AAAAAAAA8D8AAAAAAADwPwAAAAAAAPA/AAAAAAAA8D8AAAAAAADwPwAAAAAAAPA/AAAAAAAA8D8AAAAAAADwPwAAAAAAAPA/AAAAAAAA8D8AAAAAAADwPwAAAAAAAPA/AAAAAAAA8D8AAAAAAADwPwAAAAAAAPA/AAAAAAAA8D8AAAAAAADwPwAAAAAAAPA/AAAAAAAA8D8AAAAAAADwPwAAAAAAAPA/AAAAAAAA8D8AAAAAAADwPwAAAAAAAPA/AAAAAAAA8D8AAAAAAADwPwAAAAAAAPA/AAAAAAAA8D8AAAAAAADwPwAAAAAAAPA/AAAAAAAA8D8AAAAAAADwPwAAAAAAAPA/AAAAAAAA8D8AAAAAAADwPwAAAAAAAPA/AAAAAAAA8D8AAAAAAADwPwAAAAAAAPA/AAAAAAAA8D8AAAAAAADwPwAAAAAAAPA/AAAAAAAA8D8AAAAAAADwPwAAAAAAAPA/AAAAAAAA8D8AAAAAAADwPwAAAAAAAPA/AAAAAAAA8D8AAAAAAADwPwAAAAAAAPA/AAAAAAAA8D8AAAAAAADwPwAAAAAAAPA/AAAAAAAA8D8AAAAAAADwPwAAAAAAAPA/AAAAAAAA8D8AAAAAAADwPwAAAAAAAPA/AAAAAAAA8D8AAAAAAADwPwAAAAAAAPA/AAAAAAAA8D8AAAAAAADwPwAAAAAAAPA/AAAAAAAA8D8AAAAAAADwPwAAAAAAAPA/AAAAAAAA8D8AAAAAAADwPwAAAAAAAPA/AAAAAAAA8D8AAAAAAADwPwAAAAAAAPA/AAAAAAAA8D8AAAAAAADwPwAAAAAAAPA/AAAAAAAA8D8AAAAAAADwPwAAAAAAAPA/AAAAAAAA8D8AAAAAAADwPwAAAAAAAPA/AAAAAAAA8D8AAAAAAADwPwAAAAAAAPA/AAAAAAAA8D8AAAAAAADwPwAAAAAAAPA/AAAAAAAA8D8AAAAAAADwPwAAAAAAAPA/AAAAAAAA8D8AAAAAAADwPwAAAAAAAPA/AAAAAAAA8D8AAAAAAADwPwAAAAAAAPA/AAAAAAAA8D8AAAAAAADwPwAAAAAAAPA/AAAAAAAA8D8AAAAAAADwPwAAAAAAAPA/AAAAAAAA8D8AAAAAAADwPw==",
          "dtype": "f8"
         },
         "textposition": "auto",
         "type": "bar",
         "x": [
          "101.0",
          "99.0",
          "97.0",
          "93.14",
          "103.0",
          "92.0",
          "98.0",
          "102.0",
          "93.47",
          "93.72",
          "94.0",
          "93.35",
          "97.11",
          "97.52",
          "100.0",
          "95.02",
          "97.03",
          "94.61",
          "92.72",
          "93.86",
          "93.51",
          "94.88",
          "92.64",
          "96.67",
          "92.77",
          "91.51",
          "92.39",
          "97.09",
          "96.0",
          "100.33",
          "99.59",
          "100.56",
          "100.16",
          "100.49",
          "92.28",
          "93.52",
          "92.41",
          "93.16",
          "91.94",
          "91.58",
          "92.29",
          "91.98",
          "92.59",
          "88.55",
          "100.35",
          "92.98",
          "92.9",
          "93.66",
          "90.89",
          "90.1",
          "74.0",
          "65.0",
          "69.0",
          "96.16",
          "93.48",
          "96.38",
          "103.35",
          "98.64",
          "103.78",
          "101.89",
          "100.81",
          "102.26",
          "94.37",
          "92.16",
          "95.14",
          "89.53",
          "96.25",
          "93.55",
          "94.01",
          "94.53",
          "93.39",
          "92.82",
          "91.24",
          "92.31",
          "92.94",
          "92.33",
          "92.23",
          "91.81",
          "90.98",
          "93.15",
          "91.09",
          "95.59",
          "95.07",
          "92.05",
          "97.25",
          "87.35",
          "95.75",
          "100.25",
          "97.07",
          "98.41",
          "91.61",
          "98.4",
          "95.72",
          "96.26",
          "91.12",
          "93.88",
          "92.53",
          "91.9",
          "90.8",
          "92.36",
          "88.92",
          "93.22",
          "92.76",
          "92.58",
          "101.06",
          "96.61",
          "98.58",
          "98.31",
          "86.21",
          "89.83",
          "88.07",
          "86.63",
          "85.33",
          "88.35",
          "94.49",
          "95.63",
          "97.42",
          "94.7",
          "95.73",
          "95.6",
          "89.78",
          "89.14",
          "88.23",
          "90.4",
          "89.87",
          "90.7",
          "92.83",
          "91.71",
          "90.36",
          "90.15",
          "89.92",
          "92.34",
          "68.06",
          "68.65",
          "67.3",
          "67.01",
          "80.98",
          "66.54",
          "65.51",
          "63.58",
          "65.21",
          "67.37",
          "64.64",
          "63.93",
          "99.11",
          "98.15",
          "91.14",
          "92.85",
          "90.81",
          "92.04",
          "93.23",
          "90.79",
          "91.55",
          "92.01",
          "91.68",
          "93.75",
          "92.37",
          "90.82",
          "89.48",
          "89.86",
          "93.17",
          "93.31",
          "89.51",
          "90.34",
          "91.08",
          "91.91",
          "96.08"
         ],
         "y": {
          "bdata": "BQMCAgICAgICAgICAQEBAQEBAQEBAQEBAQEBAQEBAQEBAQEBAQEBAQEBAQEBAQEBAQEBAQEBAQEBAQEBAQEBAQEBAQEBAQEBAQEBAQEBAQEBAQEBAQEBAQEBAQEBAQEBAQEBAQEBAQEBAQEBAQEBAQEBAQEBAQEBAQEBAQEBAQEBAQEBAQEBAQEBAQEBAQEBAQEBAQEBAQEBAQEBAQEBAQEBAQEBAQE=",
          "dtype": "i1"
         }
        },
        {
         "name": "Y 30 min",
         "text": {
          "bdata": "AAAAAAAAEEAAAAAAAAAQQAAAAAAAAAhAAAAAAAAACEAAAAAAAAAAQAAAAAAAAABAAAAAAAAAAEAAAAAAAAAAQAAAAAAAAABAAAAAAAAAAEAAAAAAAAAAQAAAAAAAAABAAAAAAAAAAEAAAAAAAAAAQAAAAAAAAABAAAAAAAAAAEAAAAAAAAAAQAAAAAAAAABAAAAAAAAAAEAAAAAAAADwPwAAAAAAAPA/AAAAAAAA8D8AAAAAAADwPwAAAAAAAPA/AAAAAAAA8D8AAAAAAADwPwAAAAAAAPA/AAAAAAAA8D8AAAAAAADwPwAAAAAAAPA/AAAAAAAA8D8AAAAAAADwPwAAAAAAAPA/AAAAAAAA8D8AAAAAAADwPwAAAAAAAPA/AAAAAAAA8D8AAAAAAADwPwAAAAAAAPA/AAAAAAAA8D8AAAAAAADwPwAAAAAAAPA/AAAAAAAA8D8AAAAAAADwPwAAAAAAAPA/AAAAAAAA8D8AAAAAAADwPwAAAAAAAPA/AAAAAAAA8D8AAAAAAADwPwAAAAAAAPA/AAAAAAAA8D8AAAAAAADwPwAAAAAAAPA/AAAAAAAA8D8AAAAAAADwPwAAAAAAAPA/AAAAAAAA8D8AAAAAAADwPwAAAAAAAPA/AAAAAAAA8D8AAAAAAADwPwAAAAAAAPA/AAAAAAAA8D8AAAAAAADwPwAAAAAAAPA/AAAAAAAA8D8AAAAAAADwPwAAAAAAAPA/AAAAAAAA8D8AAAAAAADwPwAAAAAAAPA/AAAAAAAA8D8AAAAAAADwPwAAAAAAAPA/AAAAAAAA8D8AAAAAAADwPwAAAAAAAPA/AAAAAAAA8D8AAAAAAADwPwAAAAAAAPA/AAAAAAAA8D8AAAAAAADwPwAAAAAAAPA/AAAAAAAA8D8AAAAAAADwPwAAAAAAAPA/AAAAAAAA8D8AAAAAAADwPwAAAAAAAPA/AAAAAAAA8D8AAAAAAADwPwAAAAAAAPA/AAAAAAAA8D8AAAAAAADwPwAAAAAAAPA/AAAAAAAA8D8AAAAAAADwPwAAAAAAAPA/AAAAAAAA8D8AAAAAAADwPwAAAAAAAPA/AAAAAAAA8D8AAAAAAADwPwAAAAAAAPA/AAAAAAAA8D8AAAAAAADwPwAAAAAAAPA/AAAAAAAA8D8AAAAAAADwPwAAAAAAAPA/AAAAAAAA8D8AAAAAAADwPwAAAAAAAPA/AAAAAAAA8D8AAAAAAADwPwAAAAAAAPA/AAAAAAAA8D8AAAAAAADwPwAAAAAAAPA/AAAAAAAA8D8AAAAAAADwPwAAAAAAAPA/AAAAAAAA8D8AAAAAAADwPwAAAAAAAPA/AAAAAAAA8D8AAAAAAADwPwAAAAAAAPA/AAAAAAAA8D8AAAAAAADwPwAAAAAAAPA/AAAAAAAA8D8AAAAAAADwPwAAAAAAAPA/AAAAAAAA8D8AAAAAAADwPwAAAAAAAPA/AAAAAAAA8D8AAAAAAADwPwAAAAAAAPA/AAAAAAAA8D8AAAAAAADwPwAAAAAAAPA/AAAAAAAA8D8AAAAAAADwPwAAAAAAAPA/AAAAAAAA8D8AAAAAAADwPwAAAAAAAPA/AAAAAAAA8D8AAAAAAADwPwAAAAAAAPA/AAAAAAAA8D8AAAAAAADwPwAAAAAAAPA/AAAAAAAA8D8AAAAAAADwPw==",
          "dtype": "f8"
         },
         "textposition": "auto",
         "type": "bar",
         "x": [
          "99.0",
          "102.0",
          "101.0",
          "96.49",
          "93.93",
          "95.27",
          "95.37",
          "94.25",
          "94.61",
          "93.49",
          "95.04",
          "98.58",
          "100.0",
          "103.0",
          "94.72",
          "94.0",
          "92.9",
          "96.35",
          "92.81",
          "90.89",
          "102.05",
          "93.71",
          "94.29",
          "94.48",
          "99.29",
          "98.86",
          "100.76",
          "103.86",
          "93.37",
          "99.38",
          "103.35",
          "98.14",
          "95.94",
          "97.62",
          "93.34",
          "93.46",
          "94.52",
          "93.25",
          "94.59",
          "102.3",
          "93.66",
          "94.04",
          "98.77",
          "102.66",
          "102.26",
          "103.17",
          "101.76",
          "102.84",
          "97.0",
          "96.71",
          "94.5",
          "95.96",
          "95.65",
          "94.2",
          "92.64",
          "94.93",
          "94.11",
          "96.19",
          "90.09",
          "93.39",
          "95.72",
          "96.46",
          "91.82",
          "93.94",
          "93.97",
          "91.51",
          "90.18",
          "84.0",
          "97.08",
          "97.47",
          "76.0",
          "93.15",
          "93.4",
          "93.86",
          "95.26",
          "79.0",
          "92.0",
          "95.2",
          "99.22",
          "94.79",
          "97.74",
          "94.44",
          "93.13",
          "93.44",
          "91.9",
          "97.56",
          "104.0",
          "98.0",
          "98.82",
          "101.67",
          "102.51",
          "101.68",
          "101.31",
          "98.72",
          "100.95",
          "98.84",
          "99.19",
          "97.12",
          "96.53",
          "93.32",
          "97.61",
          "91.83",
          "97.52",
          "100.58",
          "101.87",
          "95.83",
          "96.72",
          "90.65",
          "91.71",
          "90.83",
          "88.65",
          "93.35",
          "95.78",
          "99.65",
          "95.77",
          "97.9",
          "98.31",
          "98.62",
          "95.69",
          "95.13",
          "94.99",
          "96.25",
          "96.07",
          "95.5",
          "74.41",
          "76.84",
          "75.98",
          "87.23",
          "75.71",
          "74.68",
          "72.09",
          "76.99",
          "77.38",
          "73.46",
          "72.21",
          "99.63",
          "99.84",
          "92.61",
          "100.84",
          "77.78",
          "95.81",
          "95.45",
          "97.11",
          "96.39",
          "96.33",
          "96.45",
          "97.21",
          "94.41",
          "96.74",
          "93.55",
          "93.38",
          "94.49",
          "95.7",
          "94.21",
          "97.14",
          "96.08",
          "94.58",
          "97.7"
         ],
         "y": {
          "bdata": "BAQDAwICAgICAgICAgICAgICAgEBAQEBAQEBAQEBAQEBAQEBAQEBAQEBAQEBAQEBAQEBAQEBAQEBAQEBAQEBAQEBAQEBAQEBAQEBAQEBAQEBAQEBAQEBAQEBAQEBAQEBAQEBAQEBAQEBAQEBAQEBAQEBAQEBAQEBAQEBAQEBAQEBAQEBAQEBAQEBAQEBAQEBAQEBAQEBAQEBAQEBAQE=",
          "dtype": "i1"
         }
        },
        {
         "name": "Y 45 min",
         "text": {
          "bdata": "AAAAAAAAQ0AAAAAAAAAUQAAAAAAAABBAAAAAAAAACEAAAAAAAAAIQAAAAAAAAABAAAAAAAAAAEAAAAAAAAAAQAAAAAAAAABAAAAAAAAAAEAAAAAAAAAAQAAAAAAAAPA/AAAAAAAA8D8AAAAAAADwPwAAAAAAAPA/AAAAAAAA8D8AAAAAAADwPwAAAAAAAPA/AAAAAAAA8D8AAAAAAADwPwAAAAAAAPA/AAAAAAAA8D8AAAAAAADwPwAAAAAAAPA/AAAAAAAA8D8AAAAAAADwPwAAAAAAAPA/AAAAAAAA8D8AAAAAAADwPwAAAAAAAPA/AAAAAAAA8D8AAAAAAADwPwAAAAAAAPA/AAAAAAAA8D8AAAAAAADwPwAAAAAAAPA/AAAAAAAA8D8AAAAAAADwPwAAAAAAAPA/AAAAAAAA8D8AAAAAAADwPwAAAAAAAPA/AAAAAAAA8D8AAAAAAADwPwAAAAAAAPA/AAAAAAAA8D8AAAAAAADwPwAAAAAAAPA/AAAAAAAA8D8AAAAAAADwPwAAAAAAAPA/AAAAAAAA8D8AAAAAAADwPwAAAAAAAPA/AAAAAAAA8D8AAAAAAADwPwAAAAAAAPA/AAAAAAAA8D8AAAAAAADwPwAAAAAAAPA/AAAAAAAA8D8AAAAAAADwPwAAAAAAAPA/AAAAAAAA8D8AAAAAAADwPwAAAAAAAPA/AAAAAAAA8D8AAAAAAADwPwAAAAAAAPA/AAAAAAAA8D8AAAAAAADwPwAAAAAAAPA/AAAAAAAA8D8AAAAAAADwPwAAAAAAAPA/AAAAAAAA8D8AAAAAAADwPwAAAAAAAPA/AAAAAAAA8D8AAAAAAADwPwAAAAAAAPA/AAAAAAAA8D8AAAAAAADwPwAAAAAAAPA/AAAAAAAA8D8AAAAAAADwPwAAAAAAAPA/AAAAAAAA8D8AAAAAAADwPwAAAAAAAPA/AAAAAAAA8D8AAAAAAADwPwAAAAAAAPA/AAAAAAAA8D8AAAAAAADwPwAAAAAAAPA/AAAAAAAA8D8AAAAAAADwPwAAAAAAAPA/AAAAAAAA8D8AAAAAAADwPwAAAAAAAPA/AAAAAAAA8D8AAAAAAADwPwAAAAAAAPA/AAAAAAAA8D8AAAAAAADwPwAAAAAAAPA/AAAAAAAA8D8AAAAAAADwPwAAAAAAAPA/AAAAAAAA8D8AAAAAAADwPwAAAAAAAPA/AAAAAAAA8D8AAAAAAADwPwAAAAAAAPA/AAAAAAAA8D8AAAAAAADwPwAAAAAAAPA/AAAAAAAA8D8AAAAAAADwPwAAAAAAAPA/AAAAAAAA8D8AAAAAAADwPwAAAAAAAPA/AAAAAAAA8D8AAAAAAADwPwAAAAAAAPA/",
          "dtype": "f8"
         },
         "textposition": "auto",
         "type": "bar",
         "x": [
          "100.0",
          "102.0",
          "101.0",
          "103.0",
          "95.16",
          "95.8",
          "95.0",
          "99.0",
          "94.7",
          "94.26",
          "95.56",
          "95.82",
          "95.04",
          "94.66",
          "93.95",
          "97.6",
          "95.73",
          "94.2",
          "93.47",
          "97.65",
          "93.28",
          "96.87",
          "96.58",
          "97.71",
          "96.2",
          "92.81",
          "94.46",
          "99.68",
          "100.41",
          "96.07",
          "96.25",
          "95.64",
          "97.41",
          "95.41",
          "93.32",
          "94.43",
          "91.72",
          "94.59",
          "98.4",
          "102.55",
          "100.91",
          "102.26",
          "104.01",
          "101.69",
          "103.45",
          "98.87",
          "96.69",
          "100.9",
          "104.69",
          "86.0",
          "84.0",
          "90.0",
          "90.81",
          "94.75",
          "91.06",
          "94.86",
          "93.17",
          "95.9",
          "95.26",
          "94.88",
          "97.29",
          "90.29",
          "93.4",
          "96.03",
          "97.45",
          "92.61",
          "94.31",
          "94.92",
          "95.78",
          "94.55",
          "96.06",
          "99.13",
          "99.76",
          "99.37",
          "99.57",
          "102.02",
          "102.76",
          "103.01",
          "101.82",
          "100.11",
          "103.5",
          "103.86",
          "99.03",
          "98.22",
          "98.55",
          "97.93",
          "98.03",
          "99.74",
          "99.53",
          "99.07",
          "100.97",
          "99.43",
          "100.85",
          "90.87",
          "92.58",
          "92.75",
          "95.09",
          "92.22",
          "99.31",
          "85.99",
          "86.01",
          "100.84",
          "96.16",
          "100.83",
          "104.67",
          "104.15",
          "104.43",
          "103.8",
          "104.95",
          "97.0",
          "92.0",
          "94.0",
          "104.0",
          "98.0",
          "97.56",
          "85.23",
          "98.74",
          "100.7",
          "99.84",
          "79.38",
          "81.25",
          "85.74",
          "82.07",
          "79.54",
          "82.73",
          "83.78",
          "90.74",
          "83.64",
          "97.87"
         ],
         "y": {
          "bdata": "JgUEAwMCAgICAgIBAQEBAQEBAQEBAQEBAQEBAQEBAQEBAQEBAQEBAQEBAQEBAQEBAQEBAQEBAQEBAQEBAQEBAQEBAQEBAQEBAQEBAQEBAQEBAQEBAQEBAQEBAQEBAQEBAQEBAQEBAQEBAQEBAQEBAQEBAQEBAQEBAQEBAQEBAQEB",
          "dtype": "i1"
         }
        },
        {
         "name": "Y 60 min",
         "text": {
          "bdata": "AAAAAACAQkAAAAAAAAAUQAAAAAAAABBAAAAAAAAACEAAAAAAAAAAQAAAAAAAAABAAAAAAAAAAEAAAAAAAAAAQAAAAAAAAPA/AAAAAAAA8D8AAAAAAADwPwAAAAAAAPA/AAAAAAAA8D8AAAAAAADwPwAAAAAAAPA/AAAAAAAA8D8AAAAAAADwPwAAAAAAAPA/AAAAAAAA8D8AAAAAAADwPwAAAAAAAPA/AAAAAAAA8D8AAAAAAADwPwAAAAAAAPA/AAAAAAAA8D8AAAAAAADwPwAAAAAAAPA/AAAAAAAA8D8AAAAAAADwPwAAAAAAAPA/AAAAAAAA8D8AAAAAAADwPwAAAAAAAPA/AAAAAAAA8D8AAAAAAADwPwAAAAAAAPA/AAAAAAAA8D8AAAAAAADwPwAAAAAAAPA/AAAAAAAA8D8AAAAAAADwPwAAAAAAAPA/AAAAAAAA8D8AAAAAAADwPwAAAAAAAPA/AAAAAAAA8D8AAAAAAADwPwAAAAAAAPA/AAAAAAAA8D8AAAAAAADwPwAAAAAAAPA/AAAAAAAA8D8AAAAAAADwPwAAAAAAAPA/AAAAAAAA8D8AAAAAAADwPwAAAAAAAPA/AAAAAAAA8D8AAAAAAADwPwAAAAAAAPA/AAAAAAAA8D8AAAAAAADwPwAAAAAAAPA/AAAAAAAA8D8AAAAAAADwPwAAAAAAAPA/AAAAAAAA8D8AAAAAAADwPwAAAAAAAPA/AAAAAAAA8D8AAAAAAADwPwAAAAAAAPA/AAAAAAAA8D8AAAAAAADwPwAAAAAAAPA/AAAAAAAA8D8AAAAAAADwPwAAAAAAAPA/AAAAAAAA8D8AAAAAAADwPwAAAAAAAPA/AAAAAAAA8D8AAAAAAADwPwAAAAAAAPA/AAAAAAAA8D8AAAAAAADwPwAAAAAAAPA/AAAAAAAA8D8AAAAAAADwPwAAAAAAAPA/AAAAAAAA8D8AAAAAAADwPwAAAAAAAPA/AAAAAAAA8D8AAAAAAADwPwAAAAAAAPA/AAAAAAAA8D8AAAAAAADwPwAAAAAAAPA/AAAAAAAA8D8AAAAAAADwPwAAAAAAAPA/AAAAAAAA8D8AAAAAAADwPwAAAAAAAPA/AAAAAAAA8D8AAAAAAADwPwAAAAAAAPA/AAAAAAAA8D8AAAAAAADwPwAAAAAAAPA/AAAAAAAA8D8AAAAAAADwPwAAAAAAAPA/AAAAAAAA8D8AAAAAAADwPwAAAAAAAPA/AAAAAAAA8D8AAAAAAADwPwAAAAAAAPA/AAAAAAAA8D8AAAAAAADwPwAAAAAAAPA/AAAAAAAA8D8AAAAAAADwPwAAAAAAAPA/AAAAAAAA8D8AAAAAAADwPwAAAAAAAPA/AAAAAAAA8D8AAAAAAADwPwAAAAAAAPA/AAAAAAAA8D8AAAAAAADwPw==",
          "dtype": "f8"
         },
         "textposition": "auto",
         "type": "bar",
         "x": [
          "100.0",
          "101.0",
          "103.0",
          "102.0",
          "97.71",
          "99.0",
          "95.75",
          "95.13",
          "96.44",
          "95.52",
          "96.23",
          "95.28",
          "96.22",
          "95.07",
          "96.32",
          "94.25",
          "93.83",
          "95.1",
          "93.97",
          "96.58",
          "96.4",
          "94.7",
          "95.12",
          "94.8",
          "96.87",
          "94.46",
          "99.68",
          "100.94",
          "96.77",
          "97.17",
          "96.0",
          "97.41",
          "95.41",
          "95.18",
          "97.6",
          "93.75",
          "95.65",
          "90.81",
          "98.81",
          "102.52",
          "100.91",
          "102.31",
          "104.01",
          "102.12",
          "103.45",
          "99.26",
          "97.08",
          "104.7",
          "106.89",
          "86.0",
          "84.0",
          "90.0",
          "90.24",
          "93.04",
          "96.36",
          "93.29",
          "92.99",
          "95.44",
          "95.15",
          "97.81",
          "90.65",
          "93.66",
          "96.03",
          "97.66",
          "93.31",
          "94.48",
          "94.77",
          "91.96",
          "93.33",
          "96.72",
          "95.22",
          "97.09",
          "99.27",
          "100.28",
          "100.75",
          "102.53",
          "100.13",
          "102.83",
          "102.76",
          "103.44",
          "102.36",
          "101.02",
          "104.54",
          "104.41",
          "99.86",
          "98.9",
          "100.35",
          "98.69",
          "98.83",
          "100.59",
          "99.62",
          "100.39",
          "100.97",
          "99.78",
          "101.01",
          "96.34",
          "91.84",
          "93.52",
          "93.59",
          "95.09",
          "93.58",
          "99.99",
          "91.56",
          "91.32",
          "98.0",
          "96.93",
          "96.19",
          "102.35",
          "104.96",
          "105.66",
          "106.52",
          "105.39",
          "106.53",
          "97.0",
          "95.0",
          "92.0",
          "94.0",
          "104.0",
          "100.84",
          "90.84",
          "97.56",
          "98.74",
          "100.7",
          "99.84",
          "83.78",
          "85.44",
          "91.17",
          "86.41",
          "83.54",
          "87.39",
          "89.0",
          "90.74",
          "88.98",
          "98.08"
         ],
         "y": {
          "bdata": "JQUEAwICAgIBAQEBAQEBAQEBAQEBAQEBAQEBAQEBAQEBAQEBAQEBAQEBAQEBAQEBAQEBAQEBAQEBAQEBAQEBAQEBAQEBAQEBAQEBAQEBAQEBAQEBAQEBAQEBAQEBAQEBAQEBAQEBAQEBAQEBAQEBAQEBAQEBAQEBAQEBAQEBAQEBAQEBAQE=",
          "dtype": "i1"
         }
        }
       ],
       "layout": {
        "showlegend": false,
        "template": {
         "data": {
          "bar": [
           {
            "error_x": {
             "color": "#2a3f5f"
            },
            "error_y": {
             "color": "#2a3f5f"
            },
            "marker": {
             "line": {
              "color": "#E5ECF6",
              "width": 0.5
             },
             "pattern": {
              "fillmode": "overlay",
              "size": 10,
              "solidity": 0.2
             }
            },
            "type": "bar"
           }
          ],
          "barpolar": [
           {
            "marker": {
             "line": {
              "color": "#E5ECF6",
              "width": 0.5
             },
             "pattern": {
              "fillmode": "overlay",
              "size": 10,
              "solidity": 0.2
             }
            },
            "type": "barpolar"
           }
          ],
          "carpet": [
           {
            "aaxis": {
             "endlinecolor": "#2a3f5f",
             "gridcolor": "white",
             "linecolor": "white",
             "minorgridcolor": "white",
             "startlinecolor": "#2a3f5f"
            },
            "baxis": {
             "endlinecolor": "#2a3f5f",
             "gridcolor": "white",
             "linecolor": "white",
             "minorgridcolor": "white",
             "startlinecolor": "#2a3f5f"
            },
            "type": "carpet"
           }
          ],
          "choropleth": [
           {
            "colorbar": {
             "outlinewidth": 0,
             "ticks": ""
            },
            "type": "choropleth"
           }
          ],
          "contour": [
           {
            "colorbar": {
             "outlinewidth": 0,
             "ticks": ""
            },
            "colorscale": [
             [
              0,
              "#0d0887"
             ],
             [
              0.1111111111111111,
              "#46039f"
             ],
             [
              0.2222222222222222,
              "#7201a8"
             ],
             [
              0.3333333333333333,
              "#9c179e"
             ],
             [
              0.4444444444444444,
              "#bd3786"
             ],
             [
              0.5555555555555556,
              "#d8576b"
             ],
             [
              0.6666666666666666,
              "#ed7953"
             ],
             [
              0.7777777777777778,
              "#fb9f3a"
             ],
             [
              0.8888888888888888,
              "#fdca26"
             ],
             [
              1,
              "#f0f921"
             ]
            ],
            "type": "contour"
           }
          ],
          "contourcarpet": [
           {
            "colorbar": {
             "outlinewidth": 0,
             "ticks": ""
            },
            "type": "contourcarpet"
           }
          ],
          "heatmap": [
           {
            "colorbar": {
             "outlinewidth": 0,
             "ticks": ""
            },
            "colorscale": [
             [
              0,
              "#0d0887"
             ],
             [
              0.1111111111111111,
              "#46039f"
             ],
             [
              0.2222222222222222,
              "#7201a8"
             ],
             [
              0.3333333333333333,
              "#9c179e"
             ],
             [
              0.4444444444444444,
              "#bd3786"
             ],
             [
              0.5555555555555556,
              "#d8576b"
             ],
             [
              0.6666666666666666,
              "#ed7953"
             ],
             [
              0.7777777777777778,
              "#fb9f3a"
             ],
             [
              0.8888888888888888,
              "#fdca26"
             ],
             [
              1,
              "#f0f921"
             ]
            ],
            "type": "heatmap"
           }
          ],
          "histogram": [
           {
            "marker": {
             "pattern": {
              "fillmode": "overlay",
              "size": 10,
              "solidity": 0.2
             }
            },
            "type": "histogram"
           }
          ],
          "histogram2d": [
           {
            "colorbar": {
             "outlinewidth": 0,
             "ticks": ""
            },
            "colorscale": [
             [
              0,
              "#0d0887"
             ],
             [
              0.1111111111111111,
              "#46039f"
             ],
             [
              0.2222222222222222,
              "#7201a8"
             ],
             [
              0.3333333333333333,
              "#9c179e"
             ],
             [
              0.4444444444444444,
              "#bd3786"
             ],
             [
              0.5555555555555556,
              "#d8576b"
             ],
             [
              0.6666666666666666,
              "#ed7953"
             ],
             [
              0.7777777777777778,
              "#fb9f3a"
             ],
             [
              0.8888888888888888,
              "#fdca26"
             ],
             [
              1,
              "#f0f921"
             ]
            ],
            "type": "histogram2d"
           }
          ],
          "histogram2dcontour": [
           {
            "colorbar": {
             "outlinewidth": 0,
             "ticks": ""
            },
            "colorscale": [
             [
              0,
              "#0d0887"
             ],
             [
              0.1111111111111111,
              "#46039f"
             ],
             [
              0.2222222222222222,
              "#7201a8"
             ],
             [
              0.3333333333333333,
              "#9c179e"
             ],
             [
              0.4444444444444444,
              "#bd3786"
             ],
             [
              0.5555555555555556,
              "#d8576b"
             ],
             [
              0.6666666666666666,
              "#ed7953"
             ],
             [
              0.7777777777777778,
              "#fb9f3a"
             ],
             [
              0.8888888888888888,
              "#fdca26"
             ],
             [
              1,
              "#f0f921"
             ]
            ],
            "type": "histogram2dcontour"
           }
          ],
          "mesh3d": [
           {
            "colorbar": {
             "outlinewidth": 0,
             "ticks": ""
            },
            "type": "mesh3d"
           }
          ],
          "parcoords": [
           {
            "line": {
             "colorbar": {
              "outlinewidth": 0,
              "ticks": ""
             }
            },
            "type": "parcoords"
           }
          ],
          "pie": [
           {
            "automargin": true,
            "type": "pie"
           }
          ],
          "scatter": [
           {
            "fillpattern": {
             "fillmode": "overlay",
             "size": 10,
             "solidity": 0.2
            },
            "type": "scatter"
           }
          ],
          "scatter3d": [
           {
            "line": {
             "colorbar": {
              "outlinewidth": 0,
              "ticks": ""
             }
            },
            "marker": {
             "colorbar": {
              "outlinewidth": 0,
              "ticks": ""
             }
            },
            "type": "scatter3d"
           }
          ],
          "scattercarpet": [
           {
            "marker": {
             "colorbar": {
              "outlinewidth": 0,
              "ticks": ""
             }
            },
            "type": "scattercarpet"
           }
          ],
          "scattergeo": [
           {
            "marker": {
             "colorbar": {
              "outlinewidth": 0,
              "ticks": ""
             }
            },
            "type": "scattergeo"
           }
          ],
          "scattergl": [
           {
            "marker": {
             "colorbar": {
              "outlinewidth": 0,
              "ticks": ""
             }
            },
            "type": "scattergl"
           }
          ],
          "scattermap": [
           {
            "marker": {
             "colorbar": {
              "outlinewidth": 0,
              "ticks": ""
             }
            },
            "type": "scattermap"
           }
          ],
          "scattermapbox": [
           {
            "marker": {
             "colorbar": {
              "outlinewidth": 0,
              "ticks": ""
             }
            },
            "type": "scattermapbox"
           }
          ],
          "scatterpolar": [
           {
            "marker": {
             "colorbar": {
              "outlinewidth": 0,
              "ticks": ""
             }
            },
            "type": "scatterpolar"
           }
          ],
          "scatterpolargl": [
           {
            "marker": {
             "colorbar": {
              "outlinewidth": 0,
              "ticks": ""
             }
            },
            "type": "scatterpolargl"
           }
          ],
          "scatterternary": [
           {
            "marker": {
             "colorbar": {
              "outlinewidth": 0,
              "ticks": ""
             }
            },
            "type": "scatterternary"
           }
          ],
          "surface": [
           {
            "colorbar": {
             "outlinewidth": 0,
             "ticks": ""
            },
            "colorscale": [
             [
              0,
              "#0d0887"
             ],
             [
              0.1111111111111111,
              "#46039f"
             ],
             [
              0.2222222222222222,
              "#7201a8"
             ],
             [
              0.3333333333333333,
              "#9c179e"
             ],
             [
              0.4444444444444444,
              "#bd3786"
             ],
             [
              0.5555555555555556,
              "#d8576b"
             ],
             [
              0.6666666666666666,
              "#ed7953"
             ],
             [
              0.7777777777777778,
              "#fb9f3a"
             ],
             [
              0.8888888888888888,
              "#fdca26"
             ],
             [
              1,
              "#f0f921"
             ]
            ],
            "type": "surface"
           }
          ],
          "table": [
           {
            "cells": {
             "fill": {
              "color": "#EBF0F8"
             },
             "line": {
              "color": "white"
             }
            },
            "header": {
             "fill": {
              "color": "#C8D4E3"
             },
             "line": {
              "color": "white"
             }
            },
            "type": "table"
           }
          ]
         },
         "layout": {
          "annotationdefaults": {
           "arrowcolor": "#2a3f5f",
           "arrowhead": 0,
           "arrowwidth": 1
          },
          "autotypenumbers": "strict",
          "coloraxis": {
           "colorbar": {
            "outlinewidth": 0,
            "ticks": ""
           }
          },
          "colorscale": {
           "diverging": [
            [
             0,
             "#8e0152"
            ],
            [
             0.1,
             "#c51b7d"
            ],
            [
             0.2,
             "#de77ae"
            ],
            [
             0.3,
             "#f1b6da"
            ],
            [
             0.4,
             "#fde0ef"
            ],
            [
             0.5,
             "#f7f7f7"
            ],
            [
             0.6,
             "#e6f5d0"
            ],
            [
             0.7,
             "#b8e186"
            ],
            [
             0.8,
             "#7fbc41"
            ],
            [
             0.9,
             "#4d9221"
            ],
            [
             1,
             "#276419"
            ]
           ],
           "sequential": [
            [
             0,
             "#0d0887"
            ],
            [
             0.1111111111111111,
             "#46039f"
            ],
            [
             0.2222222222222222,
             "#7201a8"
            ],
            [
             0.3333333333333333,
             "#9c179e"
            ],
            [
             0.4444444444444444,
             "#bd3786"
            ],
            [
             0.5555555555555556,
             "#d8576b"
            ],
            [
             0.6666666666666666,
             "#ed7953"
            ],
            [
             0.7777777777777778,
             "#fb9f3a"
            ],
            [
             0.8888888888888888,
             "#fdca26"
            ],
            [
             1,
             "#f0f921"
            ]
           ],
           "sequentialminus": [
            [
             0,
             "#0d0887"
            ],
            [
             0.1111111111111111,
             "#46039f"
            ],
            [
             0.2222222222222222,
             "#7201a8"
            ],
            [
             0.3333333333333333,
             "#9c179e"
            ],
            [
             0.4444444444444444,
             "#bd3786"
            ],
            [
             0.5555555555555556,
             "#d8576b"
            ],
            [
             0.6666666666666666,
             "#ed7953"
            ],
            [
             0.7777777777777778,
             "#fb9f3a"
            ],
            [
             0.8888888888888888,
             "#fdca26"
            ],
            [
             1,
             "#f0f921"
            ]
           ]
          },
          "colorway": [
           "#636efa",
           "#EF553B",
           "#00cc96",
           "#ab63fa",
           "#FFA15A",
           "#19d3f3",
           "#FF6692",
           "#B6E880",
           "#FF97FF",
           "#FECB52"
          ],
          "font": {
           "color": "#2a3f5f"
          },
          "geo": {
           "bgcolor": "white",
           "lakecolor": "white",
           "landcolor": "#E5ECF6",
           "showlakes": true,
           "showland": true,
           "subunitcolor": "white"
          },
          "hoverlabel": {
           "align": "left"
          },
          "hovermode": "closest",
          "mapbox": {
           "style": "light"
          },
          "paper_bgcolor": "white",
          "plot_bgcolor": "#E5ECF6",
          "polar": {
           "angularaxis": {
            "gridcolor": "white",
            "linecolor": "white",
            "ticks": ""
           },
           "bgcolor": "#E5ECF6",
           "radialaxis": {
            "gridcolor": "white",
            "linecolor": "white",
            "ticks": ""
           }
          },
          "scene": {
           "xaxis": {
            "backgroundcolor": "#E5ECF6",
            "gridcolor": "white",
            "gridwidth": 2,
            "linecolor": "white",
            "showbackground": true,
            "ticks": "",
            "zerolinecolor": "white"
           },
           "yaxis": {
            "backgroundcolor": "#E5ECF6",
            "gridcolor": "white",
            "gridwidth": 2,
            "linecolor": "white",
            "showbackground": true,
            "ticks": "",
            "zerolinecolor": "white"
           },
           "zaxis": {
            "backgroundcolor": "#E5ECF6",
            "gridcolor": "white",
            "gridwidth": 2,
            "linecolor": "white",
            "showbackground": true,
            "ticks": "",
            "zerolinecolor": "white"
           }
          },
          "shapedefaults": {
           "line": {
            "color": "#2a3f5f"
           }
          },
          "ternary": {
           "aaxis": {
            "gridcolor": "white",
            "linecolor": "white",
            "ticks": ""
           },
           "baxis": {
            "gridcolor": "white",
            "linecolor": "white",
            "ticks": ""
           },
           "bgcolor": "#E5ECF6",
           "caxis": {
            "gridcolor": "white",
            "linecolor": "white",
            "ticks": ""
           }
          },
          "title": {
           "x": 0.05
          },
          "xaxis": {
           "automargin": true,
           "gridcolor": "white",
           "linecolor": "white",
           "ticks": "",
           "title": {
            "standoff": 15
           },
           "zerolinecolor": "white",
           "zerolinewidth": 2
          },
          "yaxis": {
           "automargin": true,
           "gridcolor": "white",
           "linecolor": "white",
           "ticks": "",
           "title": {
            "standoff": 15
           },
           "zerolinecolor": "white",
           "zerolinewidth": 2
          }
         }
        },
        "title": {
         "text": "Select a Column to View Value Counts"
        },
        "updatemenus": [
         {
          "buttons": [
           {
            "args": [
             {
              "visible": [
               true,
               false,
               false,
               false,
               false,
               false,
               false,
               false,
               false,
               false,
               false,
               false,
               false,
               false,
               false,
               false,
               false,
               false,
               false,
               false,
               false,
               false,
               false,
               false,
               false,
               false,
               false,
               false,
               false,
               false,
               false,
               false,
               false,
               false,
               false,
               false,
               false,
               false,
               false,
               false,
               false,
               false,
               false,
               false,
               false,
               false,
               false,
               false,
               false,
               false,
               false,
               false,
               false,
               false,
               false,
               false,
               false,
               false,
               false,
               false,
               false,
               false,
               false,
               false,
               false,
               false,
               false,
               false,
               false,
               false,
               false,
               false
              ]
             },
             {
              "title": "Value Counts of x1"
             }
            ],
            "label": "x1",
            "method": "update"
           },
           {
            "args": [
             {
              "visible": [
               false,
               true,
               false,
               false,
               false,
               false,
               false,
               false,
               false,
               false,
               false,
               false,
               false,
               false,
               false,
               false,
               false,
               false,
               false,
               false,
               false,
               false,
               false,
               false,
               false,
               false,
               false,
               false,
               false,
               false,
               false,
               false,
               false,
               false,
               false,
               false,
               false,
               false,
               false,
               false,
               false,
               false,
               false,
               false,
               false,
               false,
               false,
               false,
               false,
               false,
               false,
               false,
               false,
               false,
               false,
               false,
               false,
               false,
               false,
               false,
               false,
               false,
               false,
               false,
               false,
               false,
               false,
               false,
               false,
               false,
               false,
               false
              ]
             },
             {
              "title": "Value Counts of x2"
             }
            ],
            "label": "x2",
            "method": "update"
           },
           {
            "args": [
             {
              "visible": [
               false,
               false,
               true,
               false,
               false,
               false,
               false,
               false,
               false,
               false,
               false,
               false,
               false,
               false,
               false,
               false,
               false,
               false,
               false,
               false,
               false,
               false,
               false,
               false,
               false,
               false,
               false,
               false,
               false,
               false,
               false,
               false,
               false,
               false,
               false,
               false,
               false,
               false,
               false,
               false,
               false,
               false,
               false,
               false,
               false,
               false,
               false,
               false,
               false,
               false,
               false,
               false,
               false,
               false,
               false,
               false,
               false,
               false,
               false,
               false,
               false,
               false,
               false,
               false,
               false,
               false,
               false,
               false,
               false,
               false,
               false,
               false
              ]
             },
             {
              "title": "Value Counts of x3"
             }
            ],
            "label": "x3",
            "method": "update"
           },
           {
            "args": [
             {
              "visible": [
               false,
               false,
               false,
               true,
               false,
               false,
               false,
               false,
               false,
               false,
               false,
               false,
               false,
               false,
               false,
               false,
               false,
               false,
               false,
               false,
               false,
               false,
               false,
               false,
               false,
               false,
               false,
               false,
               false,
               false,
               false,
               false,
               false,
               false,
               false,
               false,
               false,
               false,
               false,
               false,
               false,
               false,
               false,
               false,
               false,
               false,
               false,
               false,
               false,
               false,
               false,
               false,
               false,
               false,
               false,
               false,
               false,
               false,
               false,
               false,
               false,
               false,
               false,
               false,
               false,
               false,
               false,
               false,
               false,
               false,
               false,
               false
              ]
             },
             {
              "title": "Value Counts of x4"
             }
            ],
            "label": "x4",
            "method": "update"
           },
           {
            "args": [
             {
              "visible": [
               false,
               false,
               false,
               false,
               true,
               false,
               false,
               false,
               false,
               false,
               false,
               false,
               false,
               false,
               false,
               false,
               false,
               false,
               false,
               false,
               false,
               false,
               false,
               false,
               false,
               false,
               false,
               false,
               false,
               false,
               false,
               false,
               false,
               false,
               false,
               false,
               false,
               false,
               false,
               false,
               false,
               false,
               false,
               false,
               false,
               false,
               false,
               false,
               false,
               false,
               false,
               false,
               false,
               false,
               false,
               false,
               false,
               false,
               false,
               false,
               false,
               false,
               false,
               false,
               false,
               false,
               false,
               false,
               false,
               false,
               false,
               false
              ]
             },
             {
              "title": "Value Counts of x5"
             }
            ],
            "label": "x5",
            "method": "update"
           },
           {
            "args": [
             {
              "visible": [
               false,
               false,
               false,
               false,
               false,
               true,
               false,
               false,
               false,
               false,
               false,
               false,
               false,
               false,
               false,
               false,
               false,
               false,
               false,
               false,
               false,
               false,
               false,
               false,
               false,
               false,
               false,
               false,
               false,
               false,
               false,
               false,
               false,
               false,
               false,
               false,
               false,
               false,
               false,
               false,
               false,
               false,
               false,
               false,
               false,
               false,
               false,
               false,
               false,
               false,
               false,
               false,
               false,
               false,
               false,
               false,
               false,
               false,
               false,
               false,
               false,
               false,
               false,
               false,
               false,
               false,
               false,
               false,
               false,
               false,
               false,
               false
              ]
             },
             {
              "title": "Value Counts of x6"
             }
            ],
            "label": "x6",
            "method": "update"
           },
           {
            "args": [
             {
              "visible": [
               false,
               false,
               false,
               false,
               false,
               false,
               true,
               false,
               false,
               false,
               false,
               false,
               false,
               false,
               false,
               false,
               false,
               false,
               false,
               false,
               false,
               false,
               false,
               false,
               false,
               false,
               false,
               false,
               false,
               false,
               false,
               false,
               false,
               false,
               false,
               false,
               false,
               false,
               false,
               false,
               false,
               false,
               false,
               false,
               false,
               false,
               false,
               false,
               false,
               false,
               false,
               false,
               false,
               false,
               false,
               false,
               false,
               false,
               false,
               false,
               false,
               false,
               false,
               false,
               false,
               false,
               false,
               false,
               false,
               false,
               false,
               false
              ]
             },
             {
              "title": "Value Counts of x7"
             }
            ],
            "label": "x7",
            "method": "update"
           },
           {
            "args": [
             {
              "visible": [
               false,
               false,
               false,
               false,
               false,
               false,
               false,
               true,
               false,
               false,
               false,
               false,
               false,
               false,
               false,
               false,
               false,
               false,
               false,
               false,
               false,
               false,
               false,
               false,
               false,
               false,
               false,
               false,
               false,
               false,
               false,
               false,
               false,
               false,
               false,
               false,
               false,
               false,
               false,
               false,
               false,
               false,
               false,
               false,
               false,
               false,
               false,
               false,
               false,
               false,
               false,
               false,
               false,
               false,
               false,
               false,
               false,
               false,
               false,
               false,
               false,
               false,
               false,
               false,
               false,
               false,
               false,
               false,
               false,
               false,
               false,
               false
              ]
             },
             {
              "title": "Value Counts of x8"
             }
            ],
            "label": "x8",
            "method": "update"
           },
           {
            "args": [
             {
              "visible": [
               false,
               false,
               false,
               false,
               false,
               false,
               false,
               false,
               true,
               false,
               false,
               false,
               false,
               false,
               false,
               false,
               false,
               false,
               false,
               false,
               false,
               false,
               false,
               false,
               false,
               false,
               false,
               false,
               false,
               false,
               false,
               false,
               false,
               false,
               false,
               false,
               false,
               false,
               false,
               false,
               false,
               false,
               false,
               false,
               false,
               false,
               false,
               false,
               false,
               false,
               false,
               false,
               false,
               false,
               false,
               false,
               false,
               false,
               false,
               false,
               false,
               false,
               false,
               false,
               false,
               false,
               false,
               false,
               false,
               false,
               false,
               false
              ]
             },
             {
              "title": "Value Counts of x9"
             }
            ],
            "label": "x9",
            "method": "update"
           },
           {
            "args": [
             {
              "visible": [
               false,
               false,
               false,
               false,
               false,
               false,
               false,
               false,
               false,
               true,
               false,
               false,
               false,
               false,
               false,
               false,
               false,
               false,
               false,
               false,
               false,
               false,
               false,
               false,
               false,
               false,
               false,
               false,
               false,
               false,
               false,
               false,
               false,
               false,
               false,
               false,
               false,
               false,
               false,
               false,
               false,
               false,
               false,
               false,
               false,
               false,
               false,
               false,
               false,
               false,
               false,
               false,
               false,
               false,
               false,
               false,
               false,
               false,
               false,
               false,
               false,
               false,
               false,
               false,
               false,
               false,
               false,
               false,
               false,
               false,
               false,
               false
              ]
             },
             {
              "title": "Value Counts of x10"
             }
            ],
            "label": "x10",
            "method": "update"
           },
           {
            "args": [
             {
              "visible": [
               false,
               false,
               false,
               false,
               false,
               false,
               false,
               false,
               false,
               false,
               true,
               false,
               false,
               false,
               false,
               false,
               false,
               false,
               false,
               false,
               false,
               false,
               false,
               false,
               false,
               false,
               false,
               false,
               false,
               false,
               false,
               false,
               false,
               false,
               false,
               false,
               false,
               false,
               false,
               false,
               false,
               false,
               false,
               false,
               false,
               false,
               false,
               false,
               false,
               false,
               false,
               false,
               false,
               false,
               false,
               false,
               false,
               false,
               false,
               false,
               false,
               false,
               false,
               false,
               false,
               false,
               false,
               false,
               false,
               false,
               false,
               false
              ]
             },
             {
              "title": "Value Counts of x11"
             }
            ],
            "label": "x11",
            "method": "update"
           },
           {
            "args": [
             {
              "visible": [
               false,
               false,
               false,
               false,
               false,
               false,
               false,
               false,
               false,
               false,
               false,
               true,
               false,
               false,
               false,
               false,
               false,
               false,
               false,
               false,
               false,
               false,
               false,
               false,
               false,
               false,
               false,
               false,
               false,
               false,
               false,
               false,
               false,
               false,
               false,
               false,
               false,
               false,
               false,
               false,
               false,
               false,
               false,
               false,
               false,
               false,
               false,
               false,
               false,
               false,
               false,
               false,
               false,
               false,
               false,
               false,
               false,
               false,
               false,
               false,
               false,
               false,
               false,
               false,
               false,
               false,
               false,
               false,
               false,
               false,
               false,
               false
              ]
             },
             {
              "title": "Value Counts of x12"
             }
            ],
            "label": "x12",
            "method": "update"
           },
           {
            "args": [
             {
              "visible": [
               false,
               false,
               false,
               false,
               false,
               false,
               false,
               false,
               false,
               false,
               false,
               false,
               true,
               false,
               false,
               false,
               false,
               false,
               false,
               false,
               false,
               false,
               false,
               false,
               false,
               false,
               false,
               false,
               false,
               false,
               false,
               false,
               false,
               false,
               false,
               false,
               false,
               false,
               false,
               false,
               false,
               false,
               false,
               false,
               false,
               false,
               false,
               false,
               false,
               false,
               false,
               false,
               false,
               false,
               false,
               false,
               false,
               false,
               false,
               false,
               false,
               false,
               false,
               false,
               false,
               false,
               false,
               false,
               false,
               false,
               false,
               false
              ]
             },
             {
              "title": "Value Counts of x13"
             }
            ],
            "label": "x13",
            "method": "update"
           },
           {
            "args": [
             {
              "visible": [
               false,
               false,
               false,
               false,
               false,
               false,
               false,
               false,
               false,
               false,
               false,
               false,
               false,
               true,
               false,
               false,
               false,
               false,
               false,
               false,
               false,
               false,
               false,
               false,
               false,
               false,
               false,
               false,
               false,
               false,
               false,
               false,
               false,
               false,
               false,
               false,
               false,
               false,
               false,
               false,
               false,
               false,
               false,
               false,
               false,
               false,
               false,
               false,
               false,
               false,
               false,
               false,
               false,
               false,
               false,
               false,
               false,
               false,
               false,
               false,
               false,
               false,
               false,
               false,
               false,
               false,
               false,
               false,
               false,
               false,
               false,
               false
              ]
             },
             {
              "title": "Value Counts of x14"
             }
            ],
            "label": "x14",
            "method": "update"
           },
           {
            "args": [
             {
              "visible": [
               false,
               false,
               false,
               false,
               false,
               false,
               false,
               false,
               false,
               false,
               false,
               false,
               false,
               false,
               true,
               false,
               false,
               false,
               false,
               false,
               false,
               false,
               false,
               false,
               false,
               false,
               false,
               false,
               false,
               false,
               false,
               false,
               false,
               false,
               false,
               false,
               false,
               false,
               false,
               false,
               false,
               false,
               false,
               false,
               false,
               false,
               false,
               false,
               false,
               false,
               false,
               false,
               false,
               false,
               false,
               false,
               false,
               false,
               false,
               false,
               false,
               false,
               false,
               false,
               false,
               false,
               false,
               false,
               false,
               false,
               false,
               false
              ]
             },
             {
              "title": "Value Counts of x15"
             }
            ],
            "label": "x15",
            "method": "update"
           },
           {
            "args": [
             {
              "visible": [
               false,
               false,
               false,
               false,
               false,
               false,
               false,
               false,
               false,
               false,
               false,
               false,
               false,
               false,
               false,
               true,
               false,
               false,
               false,
               false,
               false,
               false,
               false,
               false,
               false,
               false,
               false,
               false,
               false,
               false,
               false,
               false,
               false,
               false,
               false,
               false,
               false,
               false,
               false,
               false,
               false,
               false,
               false,
               false,
               false,
               false,
               false,
               false,
               false,
               false,
               false,
               false,
               false,
               false,
               false,
               false,
               false,
               false,
               false,
               false,
               false,
               false,
               false,
               false,
               false,
               false,
               false,
               false,
               false,
               false,
               false,
               false
              ]
             },
             {
              "title": "Value Counts of x16"
             }
            ],
            "label": "x16",
            "method": "update"
           },
           {
            "args": [
             {
              "visible": [
               false,
               false,
               false,
               false,
               false,
               false,
               false,
               false,
               false,
               false,
               false,
               false,
               false,
               false,
               false,
               false,
               true,
               false,
               false,
               false,
               false,
               false,
               false,
               false,
               false,
               false,
               false,
               false,
               false,
               false,
               false,
               false,
               false,
               false,
               false,
               false,
               false,
               false,
               false,
               false,
               false,
               false,
               false,
               false,
               false,
               false,
               false,
               false,
               false,
               false,
               false,
               false,
               false,
               false,
               false,
               false,
               false,
               false,
               false,
               false,
               false,
               false,
               false,
               false,
               false,
               false,
               false,
               false,
               false,
               false,
               false,
               false
              ]
             },
             {
              "title": "Value Counts of x17"
             }
            ],
            "label": "x17",
            "method": "update"
           },
           {
            "args": [
             {
              "visible": [
               false,
               false,
               false,
               false,
               false,
               false,
               false,
               false,
               false,
               false,
               false,
               false,
               false,
               false,
               false,
               false,
               false,
               true,
               false,
               false,
               false,
               false,
               false,
               false,
               false,
               false,
               false,
               false,
               false,
               false,
               false,
               false,
               false,
               false,
               false,
               false,
               false,
               false,
               false,
               false,
               false,
               false,
               false,
               false,
               false,
               false,
               false,
               false,
               false,
               false,
               false,
               false,
               false,
               false,
               false,
               false,
               false,
               false,
               false,
               false,
               false,
               false,
               false,
               false,
               false,
               false,
               false,
               false,
               false,
               false,
               false,
               false
              ]
             },
             {
              "title": "Value Counts of x18"
             }
            ],
            "label": "x18",
            "method": "update"
           },
           {
            "args": [
             {
              "visible": [
               false,
               false,
               false,
               false,
               false,
               false,
               false,
               false,
               false,
               false,
               false,
               false,
               false,
               false,
               false,
               false,
               false,
               false,
               true,
               false,
               false,
               false,
               false,
               false,
               false,
               false,
               false,
               false,
               false,
               false,
               false,
               false,
               false,
               false,
               false,
               false,
               false,
               false,
               false,
               false,
               false,
               false,
               false,
               false,
               false,
               false,
               false,
               false,
               false,
               false,
               false,
               false,
               false,
               false,
               false,
               false,
               false,
               false,
               false,
               false,
               false,
               false,
               false,
               false,
               false,
               false,
               false,
               false,
               false,
               false,
               false,
               false
              ]
             },
             {
              "title": "Value Counts of x19"
             }
            ],
            "label": "x19",
            "method": "update"
           },
           {
            "args": [
             {
              "visible": [
               false,
               false,
               false,
               false,
               false,
               false,
               false,
               false,
               false,
               false,
               false,
               false,
               false,
               false,
               false,
               false,
               false,
               false,
               false,
               true,
               false,
               false,
               false,
               false,
               false,
               false,
               false,
               false,
               false,
               false,
               false,
               false,
               false,
               false,
               false,
               false,
               false,
               false,
               false,
               false,
               false,
               false,
               false,
               false,
               false,
               false,
               false,
               false,
               false,
               false,
               false,
               false,
               false,
               false,
               false,
               false,
               false,
               false,
               false,
               false,
               false,
               false,
               false,
               false,
               false,
               false,
               false,
               false,
               false,
               false,
               false,
               false
              ]
             },
             {
              "title": "Value Counts of x20"
             }
            ],
            "label": "x20",
            "method": "update"
           },
           {
            "args": [
             {
              "visible": [
               false,
               false,
               false,
               false,
               false,
               false,
               false,
               false,
               false,
               false,
               false,
               false,
               false,
               false,
               false,
               false,
               false,
               false,
               false,
               false,
               true,
               false,
               false,
               false,
               false,
               false,
               false,
               false,
               false,
               false,
               false,
               false,
               false,
               false,
               false,
               false,
               false,
               false,
               false,
               false,
               false,
               false,
               false,
               false,
               false,
               false,
               false,
               false,
               false,
               false,
               false,
               false,
               false,
               false,
               false,
               false,
               false,
               false,
               false,
               false,
               false,
               false,
               false,
               false,
               false,
               false,
               false,
               false,
               false,
               false,
               false,
               false
              ]
             },
             {
              "title": "Value Counts of x21"
             }
            ],
            "label": "x21",
            "method": "update"
           },
           {
            "args": [
             {
              "visible": [
               false,
               false,
               false,
               false,
               false,
               false,
               false,
               false,
               false,
               false,
               false,
               false,
               false,
               false,
               false,
               false,
               false,
               false,
               false,
               false,
               false,
               true,
               false,
               false,
               false,
               false,
               false,
               false,
               false,
               false,
               false,
               false,
               false,
               false,
               false,
               false,
               false,
               false,
               false,
               false,
               false,
               false,
               false,
               false,
               false,
               false,
               false,
               false,
               false,
               false,
               false,
               false,
               false,
               false,
               false,
               false,
               false,
               false,
               false,
               false,
               false,
               false,
               false,
               false,
               false,
               false,
               false,
               false,
               false,
               false,
               false,
               false
              ]
             },
             {
              "title": "Value Counts of x22"
             }
            ],
            "label": "x22",
            "method": "update"
           },
           {
            "args": [
             {
              "visible": [
               false,
               false,
               false,
               false,
               false,
               false,
               false,
               false,
               false,
               false,
               false,
               false,
               false,
               false,
               false,
               false,
               false,
               false,
               false,
               false,
               false,
               false,
               true,
               false,
               false,
               false,
               false,
               false,
               false,
               false,
               false,
               false,
               false,
               false,
               false,
               false,
               false,
               false,
               false,
               false,
               false,
               false,
               false,
               false,
               false,
               false,
               false,
               false,
               false,
               false,
               false,
               false,
               false,
               false,
               false,
               false,
               false,
               false,
               false,
               false,
               false,
               false,
               false,
               false,
               false,
               false,
               false,
               false,
               false,
               false,
               false,
               false
              ]
             },
             {
              "title": "Value Counts of x23"
             }
            ],
            "label": "x23",
            "method": "update"
           },
           {
            "args": [
             {
              "visible": [
               false,
               false,
               false,
               false,
               false,
               false,
               false,
               false,
               false,
               false,
               false,
               false,
               false,
               false,
               false,
               false,
               false,
               false,
               false,
               false,
               false,
               false,
               false,
               true,
               false,
               false,
               false,
               false,
               false,
               false,
               false,
               false,
               false,
               false,
               false,
               false,
               false,
               false,
               false,
               false,
               false,
               false,
               false,
               false,
               false,
               false,
               false,
               false,
               false,
               false,
               false,
               false,
               false,
               false,
               false,
               false,
               false,
               false,
               false,
               false,
               false,
               false,
               false,
               false,
               false,
               false,
               false,
               false,
               false,
               false,
               false,
               false
              ]
             },
             {
              "title": "Value Counts of x24"
             }
            ],
            "label": "x24",
            "method": "update"
           },
           {
            "args": [
             {
              "visible": [
               false,
               false,
               false,
               false,
               false,
               false,
               false,
               false,
               false,
               false,
               false,
               false,
               false,
               false,
               false,
               false,
               false,
               false,
               false,
               false,
               false,
               false,
               false,
               false,
               true,
               false,
               false,
               false,
               false,
               false,
               false,
               false,
               false,
               false,
               false,
               false,
               false,
               false,
               false,
               false,
               false,
               false,
               false,
               false,
               false,
               false,
               false,
               false,
               false,
               false,
               false,
               false,
               false,
               false,
               false,
               false,
               false,
               false,
               false,
               false,
               false,
               false,
               false,
               false,
               false,
               false,
               false,
               false,
               false,
               false,
               false,
               false
              ]
             },
             {
              "title": "Value Counts of x25"
             }
            ],
            "label": "x25",
            "method": "update"
           },
           {
            "args": [
             {
              "visible": [
               false,
               false,
               false,
               false,
               false,
               false,
               false,
               false,
               false,
               false,
               false,
               false,
               false,
               false,
               false,
               false,
               false,
               false,
               false,
               false,
               false,
               false,
               false,
               false,
               false,
               true,
               false,
               false,
               false,
               false,
               false,
               false,
               false,
               false,
               false,
               false,
               false,
               false,
               false,
               false,
               false,
               false,
               false,
               false,
               false,
               false,
               false,
               false,
               false,
               false,
               false,
               false,
               false,
               false,
               false,
               false,
               false,
               false,
               false,
               false,
               false,
               false,
               false,
               false,
               false,
               false,
               false,
               false,
               false,
               false,
               false,
               false
              ]
             },
             {
              "title": "Value Counts of x26"
             }
            ],
            "label": "x26",
            "method": "update"
           },
           {
            "args": [
             {
              "visible": [
               false,
               false,
               false,
               false,
               false,
               false,
               false,
               false,
               false,
               false,
               false,
               false,
               false,
               false,
               false,
               false,
               false,
               false,
               false,
               false,
               false,
               false,
               false,
               false,
               false,
               false,
               true,
               false,
               false,
               false,
               false,
               false,
               false,
               false,
               false,
               false,
               false,
               false,
               false,
               false,
               false,
               false,
               false,
               false,
               false,
               false,
               false,
               false,
               false,
               false,
               false,
               false,
               false,
               false,
               false,
               false,
               false,
               false,
               false,
               false,
               false,
               false,
               false,
               false,
               false,
               false,
               false,
               false,
               false,
               false,
               false,
               false
              ]
             },
             {
              "title": "Value Counts of x27"
             }
            ],
            "label": "x27",
            "method": "update"
           },
           {
            "args": [
             {
              "visible": [
               false,
               false,
               false,
               false,
               false,
               false,
               false,
               false,
               false,
               false,
               false,
               false,
               false,
               false,
               false,
               false,
               false,
               false,
               false,
               false,
               false,
               false,
               false,
               false,
               false,
               false,
               false,
               true,
               false,
               false,
               false,
               false,
               false,
               false,
               false,
               false,
               false,
               false,
               false,
               false,
               false,
               false,
               false,
               false,
               false,
               false,
               false,
               false,
               false,
               false,
               false,
               false,
               false,
               false,
               false,
               false,
               false,
               false,
               false,
               false,
               false,
               false,
               false,
               false,
               false,
               false,
               false,
               false,
               false,
               false,
               false,
               false
              ]
             },
             {
              "title": "Value Counts of x28"
             }
            ],
            "label": "x28",
            "method": "update"
           },
           {
            "args": [
             {
              "visible": [
               false,
               false,
               false,
               false,
               false,
               false,
               false,
               false,
               false,
               false,
               false,
               false,
               false,
               false,
               false,
               false,
               false,
               false,
               false,
               false,
               false,
               false,
               false,
               false,
               false,
               false,
               false,
               false,
               true,
               false,
               false,
               false,
               false,
               false,
               false,
               false,
               false,
               false,
               false,
               false,
               false,
               false,
               false,
               false,
               false,
               false,
               false,
               false,
               false,
               false,
               false,
               false,
               false,
               false,
               false,
               false,
               false,
               false,
               false,
               false,
               false,
               false,
               false,
               false,
               false,
               false,
               false,
               false,
               false,
               false,
               false,
               false
              ]
             },
             {
              "title": "Value Counts of x29"
             }
            ],
            "label": "x29",
            "method": "update"
           },
           {
            "args": [
             {
              "visible": [
               false,
               false,
               false,
               false,
               false,
               false,
               false,
               false,
               false,
               false,
               false,
               false,
               false,
               false,
               false,
               false,
               false,
               false,
               false,
               false,
               false,
               false,
               false,
               false,
               false,
               false,
               false,
               false,
               false,
               true,
               false,
               false,
               false,
               false,
               false,
               false,
               false,
               false,
               false,
               false,
               false,
               false,
               false,
               false,
               false,
               false,
               false,
               false,
               false,
               false,
               false,
               false,
               false,
               false,
               false,
               false,
               false,
               false,
               false,
               false,
               false,
               false,
               false,
               false,
               false,
               false,
               false,
               false,
               false,
               false,
               false,
               false
              ]
             },
             {
              "title": "Value Counts of x30"
             }
            ],
            "label": "x30",
            "method": "update"
           },
           {
            "args": [
             {
              "visible": [
               false,
               false,
               false,
               false,
               false,
               false,
               false,
               false,
               false,
               false,
               false,
               false,
               false,
               false,
               false,
               false,
               false,
               false,
               false,
               false,
               false,
               false,
               false,
               false,
               false,
               false,
               false,
               false,
               false,
               false,
               true,
               false,
               false,
               false,
               false,
               false,
               false,
               false,
               false,
               false,
               false,
               false,
               false,
               false,
               false,
               false,
               false,
               false,
               false,
               false,
               false,
               false,
               false,
               false,
               false,
               false,
               false,
               false,
               false,
               false,
               false,
               false,
               false,
               false,
               false,
               false,
               false,
               false,
               false,
               false,
               false,
               false
              ]
             },
             {
              "title": "Value Counts of x31"
             }
            ],
            "label": "x31",
            "method": "update"
           },
           {
            "args": [
             {
              "visible": [
               false,
               false,
               false,
               false,
               false,
               false,
               false,
               false,
               false,
               false,
               false,
               false,
               false,
               false,
               false,
               false,
               false,
               false,
               false,
               false,
               false,
               false,
               false,
               false,
               false,
               false,
               false,
               false,
               false,
               false,
               false,
               true,
               false,
               false,
               false,
               false,
               false,
               false,
               false,
               false,
               false,
               false,
               false,
               false,
               false,
               false,
               false,
               false,
               false,
               false,
               false,
               false,
               false,
               false,
               false,
               false,
               false,
               false,
               false,
               false,
               false,
               false,
               false,
               false,
               false,
               false,
               false,
               false,
               false,
               false,
               false,
               false
              ]
             },
             {
              "title": "Value Counts of x32"
             }
            ],
            "label": "x32",
            "method": "update"
           },
           {
            "args": [
             {
              "visible": [
               false,
               false,
               false,
               false,
               false,
               false,
               false,
               false,
               false,
               false,
               false,
               false,
               false,
               false,
               false,
               false,
               false,
               false,
               false,
               false,
               false,
               false,
               false,
               false,
               false,
               false,
               false,
               false,
               false,
               false,
               false,
               false,
               true,
               false,
               false,
               false,
               false,
               false,
               false,
               false,
               false,
               false,
               false,
               false,
               false,
               false,
               false,
               false,
               false,
               false,
               false,
               false,
               false,
               false,
               false,
               false,
               false,
               false,
               false,
               false,
               false,
               false,
               false,
               false,
               false,
               false,
               false,
               false,
               false,
               false,
               false,
               false
              ]
             },
             {
              "title": "Value Counts of x33"
             }
            ],
            "label": "x33",
            "method": "update"
           },
           {
            "args": [
             {
              "visible": [
               false,
               false,
               false,
               false,
               false,
               false,
               false,
               false,
               false,
               false,
               false,
               false,
               false,
               false,
               false,
               false,
               false,
               false,
               false,
               false,
               false,
               false,
               false,
               false,
               false,
               false,
               false,
               false,
               false,
               false,
               false,
               false,
               false,
               true,
               false,
               false,
               false,
               false,
               false,
               false,
               false,
               false,
               false,
               false,
               false,
               false,
               false,
               false,
               false,
               false,
               false,
               false,
               false,
               false,
               false,
               false,
               false,
               false,
               false,
               false,
               false,
               false,
               false,
               false,
               false,
               false,
               false,
               false,
               false,
               false,
               false,
               false
              ]
             },
             {
              "title": "Value Counts of x34"
             }
            ],
            "label": "x34",
            "method": "update"
           },
           {
            "args": [
             {
              "visible": [
               false,
               false,
               false,
               false,
               false,
               false,
               false,
               false,
               false,
               false,
               false,
               false,
               false,
               false,
               false,
               false,
               false,
               false,
               false,
               false,
               false,
               false,
               false,
               false,
               false,
               false,
               false,
               false,
               false,
               false,
               false,
               false,
               false,
               false,
               true,
               false,
               false,
               false,
               false,
               false,
               false,
               false,
               false,
               false,
               false,
               false,
               false,
               false,
               false,
               false,
               false,
               false,
               false,
               false,
               false,
               false,
               false,
               false,
               false,
               false,
               false,
               false,
               false,
               false,
               false,
               false,
               false,
               false,
               false,
               false,
               false,
               false
              ]
             },
             {
              "title": "Value Counts of x35"
             }
            ],
            "label": "x35",
            "method": "update"
           },
           {
            "args": [
             {
              "visible": [
               false,
               false,
               false,
               false,
               false,
               false,
               false,
               false,
               false,
               false,
               false,
               false,
               false,
               false,
               false,
               false,
               false,
               false,
               false,
               false,
               false,
               false,
               false,
               false,
               false,
               false,
               false,
               false,
               false,
               false,
               false,
               false,
               false,
               false,
               false,
               true,
               false,
               false,
               false,
               false,
               false,
               false,
               false,
               false,
               false,
               false,
               false,
               false,
               false,
               false,
               false,
               false,
               false,
               false,
               false,
               false,
               false,
               false,
               false,
               false,
               false,
               false,
               false,
               false,
               false,
               false,
               false,
               false,
               false,
               false,
               false,
               false
              ]
             },
             {
              "title": "Value Counts of x36"
             }
            ],
            "label": "x36",
            "method": "update"
           },
           {
            "args": [
             {
              "visible": [
               false,
               false,
               false,
               false,
               false,
               false,
               false,
               false,
               false,
               false,
               false,
               false,
               false,
               false,
               false,
               false,
               false,
               false,
               false,
               false,
               false,
               false,
               false,
               false,
               false,
               false,
               false,
               false,
               false,
               false,
               false,
               false,
               false,
               false,
               false,
               false,
               true,
               false,
               false,
               false,
               false,
               false,
               false,
               false,
               false,
               false,
               false,
               false,
               false,
               false,
               false,
               false,
               false,
               false,
               false,
               false,
               false,
               false,
               false,
               false,
               false,
               false,
               false,
               false,
               false,
               false,
               false,
               false,
               false,
               false,
               false,
               false
              ]
             },
             {
              "title": "Value Counts of x37"
             }
            ],
            "label": "x37",
            "method": "update"
           },
           {
            "args": [
             {
              "visible": [
               false,
               false,
               false,
               false,
               false,
               false,
               false,
               false,
               false,
               false,
               false,
               false,
               false,
               false,
               false,
               false,
               false,
               false,
               false,
               false,
               false,
               false,
               false,
               false,
               false,
               false,
               false,
               false,
               false,
               false,
               false,
               false,
               false,
               false,
               false,
               false,
               false,
               true,
               false,
               false,
               false,
               false,
               false,
               false,
               false,
               false,
               false,
               false,
               false,
               false,
               false,
               false,
               false,
               false,
               false,
               false,
               false,
               false,
               false,
               false,
               false,
               false,
               false,
               false,
               false,
               false,
               false,
               false,
               false,
               false,
               false,
               false
              ]
             },
             {
              "title": "Value Counts of x38"
             }
            ],
            "label": "x38",
            "method": "update"
           },
           {
            "args": [
             {
              "visible": [
               false,
               false,
               false,
               false,
               false,
               false,
               false,
               false,
               false,
               false,
               false,
               false,
               false,
               false,
               false,
               false,
               false,
               false,
               false,
               false,
               false,
               false,
               false,
               false,
               false,
               false,
               false,
               false,
               false,
               false,
               false,
               false,
               false,
               false,
               false,
               false,
               false,
               false,
               true,
               false,
               false,
               false,
               false,
               false,
               false,
               false,
               false,
               false,
               false,
               false,
               false,
               false,
               false,
               false,
               false,
               false,
               false,
               false,
               false,
               false,
               false,
               false,
               false,
               false,
               false,
               false,
               false,
               false,
               false,
               false,
               false,
               false
              ]
             },
             {
              "title": "Value Counts of x39"
             }
            ],
            "label": "x39",
            "method": "update"
           },
           {
            "args": [
             {
              "visible": [
               false,
               false,
               false,
               false,
               false,
               false,
               false,
               false,
               false,
               false,
               false,
               false,
               false,
               false,
               false,
               false,
               false,
               false,
               false,
               false,
               false,
               false,
               false,
               false,
               false,
               false,
               false,
               false,
               false,
               false,
               false,
               false,
               false,
               false,
               false,
               false,
               false,
               false,
               false,
               true,
               false,
               false,
               false,
               false,
               false,
               false,
               false,
               false,
               false,
               false,
               false,
               false,
               false,
               false,
               false,
               false,
               false,
               false,
               false,
               false,
               false,
               false,
               false,
               false,
               false,
               false,
               false,
               false,
               false,
               false,
               false,
               false
              ]
             },
             {
              "title": "Value Counts of x40"
             }
            ],
            "label": "x40",
            "method": "update"
           },
           {
            "args": [
             {
              "visible": [
               false,
               false,
               false,
               false,
               false,
               false,
               false,
               false,
               false,
               false,
               false,
               false,
               false,
               false,
               false,
               false,
               false,
               false,
               false,
               false,
               false,
               false,
               false,
               false,
               false,
               false,
               false,
               false,
               false,
               false,
               false,
               false,
               false,
               false,
               false,
               false,
               false,
               false,
               false,
               false,
               true,
               false,
               false,
               false,
               false,
               false,
               false,
               false,
               false,
               false,
               false,
               false,
               false,
               false,
               false,
               false,
               false,
               false,
               false,
               false,
               false,
               false,
               false,
               false,
               false,
               false,
               false,
               false,
               false,
               false,
               false,
               false
              ]
             },
             {
              "title": "Value Counts of x41"
             }
            ],
            "label": "x41",
            "method": "update"
           },
           {
            "args": [
             {
              "visible": [
               false,
               false,
               false,
               false,
               false,
               false,
               false,
               false,
               false,
               false,
               false,
               false,
               false,
               false,
               false,
               false,
               false,
               false,
               false,
               false,
               false,
               false,
               false,
               false,
               false,
               false,
               false,
               false,
               false,
               false,
               false,
               false,
               false,
               false,
               false,
               false,
               false,
               false,
               false,
               false,
               false,
               true,
               false,
               false,
               false,
               false,
               false,
               false,
               false,
               false,
               false,
               false,
               false,
               false,
               false,
               false,
               false,
               false,
               false,
               false,
               false,
               false,
               false,
               false,
               false,
               false,
               false,
               false,
               false,
               false,
               false,
               false
              ]
             },
             {
              "title": "Value Counts of x42"
             }
            ],
            "label": "x42",
            "method": "update"
           },
           {
            "args": [
             {
              "visible": [
               false,
               false,
               false,
               false,
               false,
               false,
               false,
               false,
               false,
               false,
               false,
               false,
               false,
               false,
               false,
               false,
               false,
               false,
               false,
               false,
               false,
               false,
               false,
               false,
               false,
               false,
               false,
               false,
               false,
               false,
               false,
               false,
               false,
               false,
               false,
               false,
               false,
               false,
               false,
               false,
               false,
               false,
               true,
               false,
               false,
               false,
               false,
               false,
               false,
               false,
               false,
               false,
               false,
               false,
               false,
               false,
               false,
               false,
               false,
               false,
               false,
               false,
               false,
               false,
               false,
               false,
               false,
               false,
               false,
               false,
               false,
               false
              ]
             },
             {
              "title": "Value Counts of x43"
             }
            ],
            "label": "x43",
            "method": "update"
           },
           {
            "args": [
             {
              "visible": [
               false,
               false,
               false,
               false,
               false,
               false,
               false,
               false,
               false,
               false,
               false,
               false,
               false,
               false,
               false,
               false,
               false,
               false,
               false,
               false,
               false,
               false,
               false,
               false,
               false,
               false,
               false,
               false,
               false,
               false,
               false,
               false,
               false,
               false,
               false,
               false,
               false,
               false,
               false,
               false,
               false,
               false,
               false,
               true,
               false,
               false,
               false,
               false,
               false,
               false,
               false,
               false,
               false,
               false,
               false,
               false,
               false,
               false,
               false,
               false,
               false,
               false,
               false,
               false,
               false,
               false,
               false,
               false,
               false,
               false,
               false,
               false
              ]
             },
             {
              "title": "Value Counts of x44"
             }
            ],
            "label": "x44",
            "method": "update"
           },
           {
            "args": [
             {
              "visible": [
               false,
               false,
               false,
               false,
               false,
               false,
               false,
               false,
               false,
               false,
               false,
               false,
               false,
               false,
               false,
               false,
               false,
               false,
               false,
               false,
               false,
               false,
               false,
               false,
               false,
               false,
               false,
               false,
               false,
               false,
               false,
               false,
               false,
               false,
               false,
               false,
               false,
               false,
               false,
               false,
               false,
               false,
               false,
               false,
               true,
               false,
               false,
               false,
               false,
               false,
               false,
               false,
               false,
               false,
               false,
               false,
               false,
               false,
               false,
               false,
               false,
               false,
               false,
               false,
               false,
               false,
               false,
               false,
               false,
               false,
               false,
               false
              ]
             },
             {
              "title": "Value Counts of x45"
             }
            ],
            "label": "x45",
            "method": "update"
           },
           {
            "args": [
             {
              "visible": [
               false,
               false,
               false,
               false,
               false,
               false,
               false,
               false,
               false,
               false,
               false,
               false,
               false,
               false,
               false,
               false,
               false,
               false,
               false,
               false,
               false,
               false,
               false,
               false,
               false,
               false,
               false,
               false,
               false,
               false,
               false,
               false,
               false,
               false,
               false,
               false,
               false,
               false,
               false,
               false,
               false,
               false,
               false,
               false,
               false,
               true,
               false,
               false,
               false,
               false,
               false,
               false,
               false,
               false,
               false,
               false,
               false,
               false,
               false,
               false,
               false,
               false,
               false,
               false,
               false,
               false,
               false,
               false,
               false,
               false,
               false,
               false
              ]
             },
             {
              "title": "Value Counts of x46"
             }
            ],
            "label": "x46",
            "method": "update"
           },
           {
            "args": [
             {
              "visible": [
               false,
               false,
               false,
               false,
               false,
               false,
               false,
               false,
               false,
               false,
               false,
               false,
               false,
               false,
               false,
               false,
               false,
               false,
               false,
               false,
               false,
               false,
               false,
               false,
               false,
               false,
               false,
               false,
               false,
               false,
               false,
               false,
               false,
               false,
               false,
               false,
               false,
               false,
               false,
               false,
               false,
               false,
               false,
               false,
               false,
               false,
               true,
               false,
               false,
               false,
               false,
               false,
               false,
               false,
               false,
               false,
               false,
               false,
               false,
               false,
               false,
               false,
               false,
               false,
               false,
               false,
               false,
               false,
               false,
               false,
               false,
               false
              ]
             },
             {
              "title": "Value Counts of x47"
             }
            ],
            "label": "x47",
            "method": "update"
           },
           {
            "args": [
             {
              "visible": [
               false,
               false,
               false,
               false,
               false,
               false,
               false,
               false,
               false,
               false,
               false,
               false,
               false,
               false,
               false,
               false,
               false,
               false,
               false,
               false,
               false,
               false,
               false,
               false,
               false,
               false,
               false,
               false,
               false,
               false,
               false,
               false,
               false,
               false,
               false,
               false,
               false,
               false,
               false,
               false,
               false,
               false,
               false,
               false,
               false,
               false,
               false,
               true,
               false,
               false,
               false,
               false,
               false,
               false,
               false,
               false,
               false,
               false,
               false,
               false,
               false,
               false,
               false,
               false,
               false,
               false,
               false,
               false,
               false,
               false,
               false,
               false
              ]
             },
             {
              "title": "Value Counts of x48"
             }
            ],
            "label": "x48",
            "method": "update"
           },
           {
            "args": [
             {
              "visible": [
               false,
               false,
               false,
               false,
               false,
               false,
               false,
               false,
               false,
               false,
               false,
               false,
               false,
               false,
               false,
               false,
               false,
               false,
               false,
               false,
               false,
               false,
               false,
               false,
               false,
               false,
               false,
               false,
               false,
               false,
               false,
               false,
               false,
               false,
               false,
               false,
               false,
               false,
               false,
               false,
               false,
               false,
               false,
               false,
               false,
               false,
               false,
               false,
               true,
               false,
               false,
               false,
               false,
               false,
               false,
               false,
               false,
               false,
               false,
               false,
               false,
               false,
               false,
               false,
               false,
               false,
               false,
               false,
               false,
               false,
               false,
               false
              ]
             },
             {
              "title": "Value Counts of x49"
             }
            ],
            "label": "x49",
            "method": "update"
           },
           {
            "args": [
             {
              "visible": [
               false,
               false,
               false,
               false,
               false,
               false,
               false,
               false,
               false,
               false,
               false,
               false,
               false,
               false,
               false,
               false,
               false,
               false,
               false,
               false,
               false,
               false,
               false,
               false,
               false,
               false,
               false,
               false,
               false,
               false,
               false,
               false,
               false,
               false,
               false,
               false,
               false,
               false,
               false,
               false,
               false,
               false,
               false,
               false,
               false,
               false,
               false,
               false,
               false,
               true,
               false,
               false,
               false,
               false,
               false,
               false,
               false,
               false,
               false,
               false,
               false,
               false,
               false,
               false,
               false,
               false,
               false,
               false,
               false,
               false,
               false,
               false
              ]
             },
             {
              "title": "Value Counts of x50"
             }
            ],
            "label": "x50",
            "method": "update"
           },
           {
            "args": [
             {
              "visible": [
               false,
               false,
               false,
               false,
               false,
               false,
               false,
               false,
               false,
               false,
               false,
               false,
               false,
               false,
               false,
               false,
               false,
               false,
               false,
               false,
               false,
               false,
               false,
               false,
               false,
               false,
               false,
               false,
               false,
               false,
               false,
               false,
               false,
               false,
               false,
               false,
               false,
               false,
               false,
               false,
               false,
               false,
               false,
               false,
               false,
               false,
               false,
               false,
               false,
               false,
               true,
               false,
               false,
               false,
               false,
               false,
               false,
               false,
               false,
               false,
               false,
               false,
               false,
               false,
               false,
               false,
               false,
               false,
               false,
               false,
               false,
               false
              ]
             },
             {
              "title": "Value Counts of x51"
             }
            ],
            "label": "x51",
            "method": "update"
           },
           {
            "args": [
             {
              "visible": [
               false,
               false,
               false,
               false,
               false,
               false,
               false,
               false,
               false,
               false,
               false,
               false,
               false,
               false,
               false,
               false,
               false,
               false,
               false,
               false,
               false,
               false,
               false,
               false,
               false,
               false,
               false,
               false,
               false,
               false,
               false,
               false,
               false,
               false,
               false,
               false,
               false,
               false,
               false,
               false,
               false,
               false,
               false,
               false,
               false,
               false,
               false,
               false,
               false,
               false,
               false,
               true,
               false,
               false,
               false,
               false,
               false,
               false,
               false,
               false,
               false,
               false,
               false,
               false,
               false,
               false,
               false,
               false,
               false,
               false,
               false,
               false
              ]
             },
             {
              "title": "Value Counts of x52"
             }
            ],
            "label": "x52",
            "method": "update"
           },
           {
            "args": [
             {
              "visible": [
               false,
               false,
               false,
               false,
               false,
               false,
               false,
               false,
               false,
               false,
               false,
               false,
               false,
               false,
               false,
               false,
               false,
               false,
               false,
               false,
               false,
               false,
               false,
               false,
               false,
               false,
               false,
               false,
               false,
               false,
               false,
               false,
               false,
               false,
               false,
               false,
               false,
               false,
               false,
               false,
               false,
               false,
               false,
               false,
               false,
               false,
               false,
               false,
               false,
               false,
               false,
               false,
               true,
               false,
               false,
               false,
               false,
               false,
               false,
               false,
               false,
               false,
               false,
               false,
               false,
               false,
               false,
               false,
               false,
               false,
               false,
               false
              ]
             },
             {
              "title": "Value Counts of x53"
             }
            ],
            "label": "x53",
            "method": "update"
           },
           {
            "args": [
             {
              "visible": [
               false,
               false,
               false,
               false,
               false,
               false,
               false,
               false,
               false,
               false,
               false,
               false,
               false,
               false,
               false,
               false,
               false,
               false,
               false,
               false,
               false,
               false,
               false,
               false,
               false,
               false,
               false,
               false,
               false,
               false,
               false,
               false,
               false,
               false,
               false,
               false,
               false,
               false,
               false,
               false,
               false,
               false,
               false,
               false,
               false,
               false,
               false,
               false,
               false,
               false,
               false,
               false,
               false,
               true,
               false,
               false,
               false,
               false,
               false,
               false,
               false,
               false,
               false,
               false,
               false,
               false,
               false,
               false,
               false,
               false,
               false,
               false
              ]
             },
             {
              "title": "Value Counts of x54"
             }
            ],
            "label": "x54",
            "method": "update"
           },
           {
            "args": [
             {
              "visible": [
               false,
               false,
               false,
               false,
               false,
               false,
               false,
               false,
               false,
               false,
               false,
               false,
               false,
               false,
               false,
               false,
               false,
               false,
               false,
               false,
               false,
               false,
               false,
               false,
               false,
               false,
               false,
               false,
               false,
               false,
               false,
               false,
               false,
               false,
               false,
               false,
               false,
               false,
               false,
               false,
               false,
               false,
               false,
               false,
               false,
               false,
               false,
               false,
               false,
               false,
               false,
               false,
               false,
               false,
               true,
               false,
               false,
               false,
               false,
               false,
               false,
               false,
               false,
               false,
               false,
               false,
               false,
               false,
               false,
               false,
               false,
               false
              ]
             },
             {
              "title": "Value Counts of x55"
             }
            ],
            "label": "x55",
            "method": "update"
           },
           {
            "args": [
             {
              "visible": [
               false,
               false,
               false,
               false,
               false,
               false,
               false,
               false,
               false,
               false,
               false,
               false,
               false,
               false,
               false,
               false,
               false,
               false,
               false,
               false,
               false,
               false,
               false,
               false,
               false,
               false,
               false,
               false,
               false,
               false,
               false,
               false,
               false,
               false,
               false,
               false,
               false,
               false,
               false,
               false,
               false,
               false,
               false,
               false,
               false,
               false,
               false,
               false,
               false,
               false,
               false,
               false,
               false,
               false,
               false,
               true,
               false,
               false,
               false,
               false,
               false,
               false,
               false,
               false,
               false,
               false,
               false,
               false,
               false,
               false,
               false,
               false
              ]
             },
             {
              "title": "Value Counts of x56"
             }
            ],
            "label": "x56",
            "method": "update"
           },
           {
            "args": [
             {
              "visible": [
               false,
               false,
               false,
               false,
               false,
               false,
               false,
               false,
               false,
               false,
               false,
               false,
               false,
               false,
               false,
               false,
               false,
               false,
               false,
               false,
               false,
               false,
               false,
               false,
               false,
               false,
               false,
               false,
               false,
               false,
               false,
               false,
               false,
               false,
               false,
               false,
               false,
               false,
               false,
               false,
               false,
               false,
               false,
               false,
               false,
               false,
               false,
               false,
               false,
               false,
               false,
               false,
               false,
               false,
               false,
               false,
               true,
               false,
               false,
               false,
               false,
               false,
               false,
               false,
               false,
               false,
               false,
               false,
               false,
               false,
               false,
               false
              ]
             },
             {
              "title": "Value Counts of x57"
             }
            ],
            "label": "x57",
            "method": "update"
           },
           {
            "args": [
             {
              "visible": [
               false,
               false,
               false,
               false,
               false,
               false,
               false,
               false,
               false,
               false,
               false,
               false,
               false,
               false,
               false,
               false,
               false,
               false,
               false,
               false,
               false,
               false,
               false,
               false,
               false,
               false,
               false,
               false,
               false,
               false,
               false,
               false,
               false,
               false,
               false,
               false,
               false,
               false,
               false,
               false,
               false,
               false,
               false,
               false,
               false,
               false,
               false,
               false,
               false,
               false,
               false,
               false,
               false,
               false,
               false,
               false,
               false,
               true,
               false,
               false,
               false,
               false,
               false,
               false,
               false,
               false,
               false,
               false,
               false,
               false,
               false,
               false
              ]
             },
             {
              "title": "Value Counts of x58"
             }
            ],
            "label": "x58",
            "method": "update"
           },
           {
            "args": [
             {
              "visible": [
               false,
               false,
               false,
               false,
               false,
               false,
               false,
               false,
               false,
               false,
               false,
               false,
               false,
               false,
               false,
               false,
               false,
               false,
               false,
               false,
               false,
               false,
               false,
               false,
               false,
               false,
               false,
               false,
               false,
               false,
               false,
               false,
               false,
               false,
               false,
               false,
               false,
               false,
               false,
               false,
               false,
               false,
               false,
               false,
               false,
               false,
               false,
               false,
               false,
               false,
               false,
               false,
               false,
               false,
               false,
               false,
               false,
               false,
               true,
               false,
               false,
               false,
               false,
               false,
               false,
               false,
               false,
               false,
               false,
               false,
               false,
               false
              ]
             },
             {
              "title": "Value Counts of x59"
             }
            ],
            "label": "x59",
            "method": "update"
           },
           {
            "args": [
             {
              "visible": [
               false,
               false,
               false,
               false,
               false,
               false,
               false,
               false,
               false,
               false,
               false,
               false,
               false,
               false,
               false,
               false,
               false,
               false,
               false,
               false,
               false,
               false,
               false,
               false,
               false,
               false,
               false,
               false,
               false,
               false,
               false,
               false,
               false,
               false,
               false,
               false,
               false,
               false,
               false,
               false,
               false,
               false,
               false,
               false,
               false,
               false,
               false,
               false,
               false,
               false,
               false,
               false,
               false,
               false,
               false,
               false,
               false,
               false,
               false,
               true,
               false,
               false,
               false,
               false,
               false,
               false,
               false,
               false,
               false,
               false,
               false,
               false
              ]
             },
             {
              "title": "Value Counts of x60"
             }
            ],
            "label": "x60",
            "method": "update"
           },
           {
            "args": [
             {
              "visible": [
               false,
               false,
               false,
               false,
               false,
               false,
               false,
               false,
               false,
               false,
               false,
               false,
               false,
               false,
               false,
               false,
               false,
               false,
               false,
               false,
               false,
               false,
               false,
               false,
               false,
               false,
               false,
               false,
               false,
               false,
               false,
               false,
               false,
               false,
               false,
               false,
               false,
               false,
               false,
               false,
               false,
               false,
               false,
               false,
               false,
               false,
               false,
               false,
               false,
               false,
               false,
               false,
               false,
               false,
               false,
               false,
               false,
               false,
               false,
               false,
               true,
               false,
               false,
               false,
               false,
               false,
               false,
               false,
               false,
               false,
               false,
               false
              ]
             },
             {
              "title": "Value Counts of x61"
             }
            ],
            "label": "x61",
            "method": "update"
           },
           {
            "args": [
             {
              "visible": [
               false,
               false,
               false,
               false,
               false,
               false,
               false,
               false,
               false,
               false,
               false,
               false,
               false,
               false,
               false,
               false,
               false,
               false,
               false,
               false,
               false,
               false,
               false,
               false,
               false,
               false,
               false,
               false,
               false,
               false,
               false,
               false,
               false,
               false,
               false,
               false,
               false,
               false,
               false,
               false,
               false,
               false,
               false,
               false,
               false,
               false,
               false,
               false,
               false,
               false,
               false,
               false,
               false,
               false,
               false,
               false,
               false,
               false,
               false,
               false,
               false,
               true,
               false,
               false,
               false,
               false,
               false,
               false,
               false,
               false,
               false,
               false
              ]
             },
             {
              "title": "Value Counts of x62"
             }
            ],
            "label": "x62",
            "method": "update"
           },
           {
            "args": [
             {
              "visible": [
               false,
               false,
               false,
               false,
               false,
               false,
               false,
               false,
               false,
               false,
               false,
               false,
               false,
               false,
               false,
               false,
               false,
               false,
               false,
               false,
               false,
               false,
               false,
               false,
               false,
               false,
               false,
               false,
               false,
               false,
               false,
               false,
               false,
               false,
               false,
               false,
               false,
               false,
               false,
               false,
               false,
               false,
               false,
               false,
               false,
               false,
               false,
               false,
               false,
               false,
               false,
               false,
               false,
               false,
               false,
               false,
               false,
               false,
               false,
               false,
               false,
               false,
               true,
               false,
               false,
               false,
               false,
               false,
               false,
               false,
               false,
               false
              ]
             },
             {
              "title": "Value Counts of x63"
             }
            ],
            "label": "x63",
            "method": "update"
           },
           {
            "args": [
             {
              "visible": [
               false,
               false,
               false,
               false,
               false,
               false,
               false,
               false,
               false,
               false,
               false,
               false,
               false,
               false,
               false,
               false,
               false,
               false,
               false,
               false,
               false,
               false,
               false,
               false,
               false,
               false,
               false,
               false,
               false,
               false,
               false,
               false,
               false,
               false,
               false,
               false,
               false,
               false,
               false,
               false,
               false,
               false,
               false,
               false,
               false,
               false,
               false,
               false,
               false,
               false,
               false,
               false,
               false,
               false,
               false,
               false,
               false,
               false,
               false,
               false,
               false,
               false,
               false,
               true,
               false,
               false,
               false,
               false,
               false,
               false,
               false,
               false
              ]
             },
             {
              "title": "Value Counts of x64"
             }
            ],
            "label": "x64",
            "method": "update"
           },
           {
            "args": [
             {
              "visible": [
               false,
               false,
               false,
               false,
               false,
               false,
               false,
               false,
               false,
               false,
               false,
               false,
               false,
               false,
               false,
               false,
               false,
               false,
               false,
               false,
               false,
               false,
               false,
               false,
               false,
               false,
               false,
               false,
               false,
               false,
               false,
               false,
               false,
               false,
               false,
               false,
               false,
               false,
               false,
               false,
               false,
               false,
               false,
               false,
               false,
               false,
               false,
               false,
               false,
               false,
               false,
               false,
               false,
               false,
               false,
               false,
               false,
               false,
               false,
               false,
               false,
               false,
               false,
               false,
               true,
               false,
               false,
               false,
               false,
               false,
               false,
               false
              ]
             },
             {
              "title": "Value Counts of x65"
             }
            ],
            "label": "x65",
            "method": "update"
           },
           {
            "args": [
             {
              "visible": [
               false,
               false,
               false,
               false,
               false,
               false,
               false,
               false,
               false,
               false,
               false,
               false,
               false,
               false,
               false,
               false,
               false,
               false,
               false,
               false,
               false,
               false,
               false,
               false,
               false,
               false,
               false,
               false,
               false,
               false,
               false,
               false,
               false,
               false,
               false,
               false,
               false,
               false,
               false,
               false,
               false,
               false,
               false,
               false,
               false,
               false,
               false,
               false,
               false,
               false,
               false,
               false,
               false,
               false,
               false,
               false,
               false,
               false,
               false,
               false,
               false,
               false,
               false,
               false,
               false,
               true,
               false,
               false,
               false,
               false,
               false,
               false
              ]
             },
             {
              "title": "Value Counts of x66"
             }
            ],
            "label": "x66",
            "method": "update"
           },
           {
            "args": [
             {
              "visible": [
               false,
               false,
               false,
               false,
               false,
               false,
               false,
               false,
               false,
               false,
               false,
               false,
               false,
               false,
               false,
               false,
               false,
               false,
               false,
               false,
               false,
               false,
               false,
               false,
               false,
               false,
               false,
               false,
               false,
               false,
               false,
               false,
               false,
               false,
               false,
               false,
               false,
               false,
               false,
               false,
               false,
               false,
               false,
               false,
               false,
               false,
               false,
               false,
               false,
               false,
               false,
               false,
               false,
               false,
               false,
               false,
               false,
               false,
               false,
               false,
               false,
               false,
               false,
               false,
               false,
               false,
               true,
               false,
               false,
               false,
               false,
               false
              ]
             },
             {
              "title": "Value Counts of Y 10 min"
             }
            ],
            "label": "Y 10 min",
            "method": "update"
           },
           {
            "args": [
             {
              "visible": [
               false,
               false,
               false,
               false,
               false,
               false,
               false,
               false,
               false,
               false,
               false,
               false,
               false,
               false,
               false,
               false,
               false,
               false,
               false,
               false,
               false,
               false,
               false,
               false,
               false,
               false,
               false,
               false,
               false,
               false,
               false,
               false,
               false,
               false,
               false,
               false,
               false,
               false,
               false,
               false,
               false,
               false,
               false,
               false,
               false,
               false,
               false,
               false,
               false,
               false,
               false,
               false,
               false,
               false,
               false,
               false,
               false,
               false,
               false,
               false,
               false,
               false,
               false,
               false,
               false,
               false,
               false,
               true,
               false,
               false,
               false,
               false
              ]
             },
             {
              "title": "Value Counts of Y 15 min"
             }
            ],
            "label": "Y 15 min",
            "method": "update"
           },
           {
            "args": [
             {
              "visible": [
               false,
               false,
               false,
               false,
               false,
               false,
               false,
               false,
               false,
               false,
               false,
               false,
               false,
               false,
               false,
               false,
               false,
               false,
               false,
               false,
               false,
               false,
               false,
               false,
               false,
               false,
               false,
               false,
               false,
               false,
               false,
               false,
               false,
               false,
               false,
               false,
               false,
               false,
               false,
               false,
               false,
               false,
               false,
               false,
               false,
               false,
               false,
               false,
               false,
               false,
               false,
               false,
               false,
               false,
               false,
               false,
               false,
               false,
               false,
               false,
               false,
               false,
               false,
               false,
               false,
               false,
               false,
               false,
               true,
               false,
               false,
               false
              ]
             },
             {
              "title": "Value Counts of Y 20 min"
             }
            ],
            "label": "Y 20 min",
            "method": "update"
           },
           {
            "args": [
             {
              "visible": [
               false,
               false,
               false,
               false,
               false,
               false,
               false,
               false,
               false,
               false,
               false,
               false,
               false,
               false,
               false,
               false,
               false,
               false,
               false,
               false,
               false,
               false,
               false,
               false,
               false,
               false,
               false,
               false,
               false,
               false,
               false,
               false,
               false,
               false,
               false,
               false,
               false,
               false,
               false,
               false,
               false,
               false,
               false,
               false,
               false,
               false,
               false,
               false,
               false,
               false,
               false,
               false,
               false,
               false,
               false,
               false,
               false,
               false,
               false,
               false,
               false,
               false,
               false,
               false,
               false,
               false,
               false,
               false,
               false,
               true,
               false,
               false
              ]
             },
             {
              "title": "Value Counts of Y 30 min"
             }
            ],
            "label": "Y 30 min",
            "method": "update"
           },
           {
            "args": [
             {
              "visible": [
               false,
               false,
               false,
               false,
               false,
               false,
               false,
               false,
               false,
               false,
               false,
               false,
               false,
               false,
               false,
               false,
               false,
               false,
               false,
               false,
               false,
               false,
               false,
               false,
               false,
               false,
               false,
               false,
               false,
               false,
               false,
               false,
               false,
               false,
               false,
               false,
               false,
               false,
               false,
               false,
               false,
               false,
               false,
               false,
               false,
               false,
               false,
               false,
               false,
               false,
               false,
               false,
               false,
               false,
               false,
               false,
               false,
               false,
               false,
               false,
               false,
               false,
               false,
               false,
               false,
               false,
               false,
               false,
               false,
               false,
               true,
               false
              ]
             },
             {
              "title": "Value Counts of Y 45 min"
             }
            ],
            "label": "Y 45 min",
            "method": "update"
           },
           {
            "args": [
             {
              "visible": [
               false,
               false,
               false,
               false,
               false,
               false,
               false,
               false,
               false,
               false,
               false,
               false,
               false,
               false,
               false,
               false,
               false,
               false,
               false,
               false,
               false,
               false,
               false,
               false,
               false,
               false,
               false,
               false,
               false,
               false,
               false,
               false,
               false,
               false,
               false,
               false,
               false,
               false,
               false,
               false,
               false,
               false,
               false,
               false,
               false,
               false,
               false,
               false,
               false,
               false,
               false,
               false,
               false,
               false,
               false,
               false,
               false,
               false,
               false,
               false,
               false,
               false,
               false,
               false,
               false,
               false,
               false,
               false,
               false,
               false,
               false,
               true
              ]
             },
             {
              "title": "Value Counts of Y 60 min"
             }
            ],
            "label": "Y 60 min",
            "method": "update"
           }
          ],
          "direction": "down",
          "showactive": true,
          "x": 0.17,
          "xanchor": "left",
          "y": 1.15,
          "yanchor": "top"
         }
        ],
        "xaxis": {
         "anchor": "y",
         "domain": [
          0,
          1
         ],
         "title": {
          "text": "Attribute Values"
         }
        },
        "yaxis": {
         "anchor": "x",
         "domain": [
          0,
          1
         ],
         "title": {
          "text": "Count"
         },
         "type": "log"
        }
       }
      }
     },
     "metadata": {},
     "output_type": "display_data"
    }
   ],
   "source": [
    "import pandas as pd\n",
    "import plotly.graph_objects as go\n",
    "from plotly.subplots import make_subplots\n",
    "\n",
    "# สมมติว่า DataFrame ชื่อ df\n",
    "# กำหนดคอลัมน์ที่ต้องการทำการ value count\n",
    "columns = df.columns\n",
    "\n",
    "# สร้าง subplot แบบ 1 แถว 1 คอลัมน์\n",
    "fig = make_subplots(rows=1, cols=1)\n",
    "\n",
    "# ฟังก์ชั่นในการสร้างกราฟ bar chart   สำหรับแต่ละคอลัมน์\n",
    "def create_bar_chart(col):\n",
    "    # คำนวณ value counts ของคอลัมน์\n",
    "    value_counts = df[col].value_counts()\n",
    "    \n",
    "    # สร้าง bar chart\n",
    "    bar_chart = go.Bar(\n",
    "        x=value_counts.index.astype(str),  # แปลงค่าเป็น string เพื่อแสดงในแกน X\n",
    "        y=value_counts.values,\n",
    "        name=col,\n",
    "        text=value_counts.values,  # แสดงตัวเลขที่เป็นค่าของ bar\n",
    "        textposition='auto'  # วางตัวเลขไว้บน bar โดยอัตโนมัติ\n",
    "    )\n",
    "    \n",
    "    return bar_chart\n",
    "\n",
    "# สร้างกราฟ bar chart สำหรับแต่ละคอลัมน์\n",
    "buttons = []\n",
    "for i, col in enumerate(columns):\n",
    "    bar_chart = create_bar_chart(col)\n",
    "    \n",
    "    # เพิ่มกราฟลงใน subplot\n",
    "    fig.add_trace(bar_chart)\n",
    "    \n",
    "    # เพิ่มปุ่มใน dropdown menu สำหรับเลือกแต่ละคอลัมน์\n",
    "    buttons.append(dict(\n",
    "        label=col,\n",
    "        method=\"update\",\n",
    "        args=[{\"visible\": [True if j == i else False for j in range(len(columns))]},\n",
    "              {\"title\": f\"Value Counts of {col}\"}]\n",
    "    ))\n",
    "\n",
    "# กำหนด layout สำหรับ dropdown menu และกราฟ\n",
    "fig.update_layout(\n",
    "    title=\"Select a Column to View Value Counts\",\n",
    "    updatemenus=[dict(\n",
    "        buttons=buttons,\n",
    "        direction=\"down\",\n",
    "        showactive=True,\n",
    "        x=0.17,\n",
    "        xanchor=\"left\",\n",
    "        y=1.15,\n",
    "        yanchor=\"top\"\n",
    "    )],\n",
    "    showlegend=False,\n",
    "    xaxis_title=\"Attribute Values\",  # ชื่อแกน X\n",
    "    yaxis_title=\"Count\"  # ชื่อแกน Y\n",
    "    ,yaxis_type=\"log\",  # ใช้ log scale สำหรับแกน Y\n",
    ")\n",
    "\n",
    "# แสดงผลกราฟ\n",
    "fig.show()"
   ]
  },
  {
   "cell_type": "code",
   "execution_count": 23,
   "metadata": {},
   "outputs": [
    {
     "data": {
      "application/vnd.jupyter.widget-view+json": {
       "model_id": "635eecf0aeac4bccbd375c12a3a443f5",
       "version_major": 2,
       "version_minor": 0
      },
      "text/plain": [
       "Dropdown(description='Feature 1 (X):', layout=Layout(border='1px solid white'), options=('x1', 'x2', 'x3', 'x4…"
      ]
     },
     "metadata": {},
     "output_type": "display_data"
    },
    {
     "data": {
      "application/vnd.jupyter.widget-view+json": {
       "model_id": "fe8e7fc47b04410daf84cfda1236c9eb",
       "version_major": 2,
       "version_minor": 0
      },
      "text/plain": [
       "Dropdown(description='Feature 2 (Y):', layout=Layout(border='1px solid white'), options=('x1', 'x2', 'x3', 'x4…"
      ]
     },
     "metadata": {},
     "output_type": "display_data"
    },
    {
     "data": {
      "application/vnd.jupyter.widget-view+json": {
       "model_id": "2c7562a736ac48fa81c81cbe197cf9a7",
       "version_major": 2,
       "version_minor": 0
      },
      "text/plain": [
       "Button(description='Show Scatter Plot', layout=Layout(border='1px solid white'), style=ButtonStyle())"
      ]
     },
     "metadata": {},
     "output_type": "display_data"
    },
    {
     "data": {
      "application/vnd.jupyter.widget-view+json": {
       "model_id": "94b9ba598c924f3ab060fbe0d40f1bfb",
       "version_major": 2,
       "version_minor": 0
      },
      "text/plain": [
       "Output()"
      ]
     },
     "metadata": {},
     "output_type": "display_data"
    }
   ],
   "source": [
    "import pandas as pd\n",
    "import ipywidgets as widgets\n",
    "from IPython.display import display\n",
    "import plotly.express as px\n",
    "\n",
    "\n",
    "# Function to display scatter plot\n",
    "def show_scatter_plot(df, feature1, feature2):\n",
    "    \"\"\"\n",
    "    Display a scatter plot based on the selected two features.\n",
    "    \"\"\"\n",
    "    output.clear_output()\n",
    "    if feature1 and feature2:\n",
    "        with output:\n",
    "            fig = px.scatter(\n",
    "                df,\n",
    "                x=feature1,\n",
    "                y=feature2,\n",
    "                color='x1', \n",
    "                title=f'Scatter Plot: {feature1} vs {feature2}',\n",
    "                labels={feature1: feature1, feature2: feature2},\n",
    "                template='seaborn'\n",
    "            )\n",
    "            fig.show()\n",
    "    else:\n",
    "        with output:\n",
    "            print(\"Please select both features to plot.\")\n",
    "\n",
    "# Create dropdown widgets for feature selection\n",
    "feature1_dropdown = widgets.Dropdown(\n",
    "    options=df.columns,\n",
    "    description='Feature 1 (X):',\n",
    "    style={'description_width': 'initial'},\n",
    "    layout=dark_style\n",
    ")\n",
    "\n",
    "feature2_dropdown = widgets.Dropdown(\n",
    "    options=df.columns,\n",
    "    description='Feature 2 (Y):',\n",
    "    style={'description_width': 'initial'},\n",
    "    layout=dark_style\n",
    ")\n",
    "\n",
    "# Create button\n",
    "button = widgets.Button(\n",
    "    description=\"Show Scatter Plot\",\n",
    "    layout=dark_style\n",
    ")\n",
    "\n",
    "# Output area\n",
    "output = widgets.Output()\n",
    "\n",
    "# Button click handler\n",
    "def on_button_click(b):\n",
    "    feature1 = feature1_dropdown.value\n",
    "    feature2 = feature2_dropdown.value\n",
    "    show_scatter_plot(df, feature1, feature2)\n",
    "\n",
    "button.on_click(on_button_click)\n",
    "\n",
    "# Display widgets and output\n",
    "display(feature1_dropdown, feature2_dropdown, button, output)\n"
   ]
  },
  {
   "cell_type": "code",
   "execution_count": 1,
   "metadata": {},
   "outputs": [
    {
     "name": "stderr",
     "output_type": "stream",
     "text": [
      "/var/folders/y0/rxhb39k14694wzz78x4wpwkr0000gn/T/ipykernel_33797/1981305951.py:4: UserWarning: Could not infer format, so each element will be parsed individually, falling back to `dateutil`. To ensure parsing is consistent and as-expected, please specify a format.\n",
      "  df['date'] = pd.to_datetime(df['Month'] + ' ' + df['Year'].astype(str))\n"
     ]
    }
   ],
   "source": [
    "import pandas as pd\n",
    "import matplotlib.pyplot as plt\n",
    "df = pd.read_parquet(\"full_cleaned_EDDY_data.parquet\")\n",
    "df['date'] = pd.to_datetime(df['Month'] + ' ' + df['Year'].astype(str))\n",
    "df.set_index('date',inplace=True)"
   ]
  },
  {
   "cell_type": "code",
   "execution_count": 2,
   "metadata": {},
   "outputs": [
    {
     "data": {
      "text/html": [
       "<div>\n",
       "<style scoped>\n",
       "    .dataframe tbody tr th:only-of-type {\n",
       "        vertical-align: middle;\n",
       "    }\n",
       "\n",
       "    .dataframe tbody tr th {\n",
       "        vertical-align: top;\n",
       "    }\n",
       "\n",
       "    .dataframe thead th {\n",
       "        text-align: right;\n",
       "    }\n",
       "</style>\n",
       "<table border=\"1\" class=\"dataframe\">\n",
       "  <thead>\n",
       "    <tr style=\"text-align: right;\">\n",
       "      <th></th>\n",
       "      <th>Product</th>\n",
       "      <th>Customer_name</th>\n",
       "      <th>Year</th>\n",
       "      <th>Month</th>\n",
       "      <th>Quarter</th>\n",
       "      <th>Purchase_amount</th>\n",
       "    </tr>\n",
       "    <tr>\n",
       "      <th>date</th>\n",
       "      <th></th>\n",
       "      <th></th>\n",
       "      <th></th>\n",
       "      <th></th>\n",
       "      <th></th>\n",
       "      <th></th>\n",
       "    </tr>\n",
       "  </thead>\n",
       "  <tbody>\n",
       "    <tr>\n",
       "      <th>2018-04-01</th>\n",
       "      <td>110100570122--AMI</td>\n",
       "      <td>28</td>\n",
       "      <td>2018</td>\n",
       "      <td>April</td>\n",
       "      <td>2</td>\n",
       "      <td>5250</td>\n",
       "    </tr>\n",
       "    <tr>\n",
       "      <th>2018-04-01</th>\n",
       "      <td>110100570122--AMI</td>\n",
       "      <td>38</td>\n",
       "      <td>2018</td>\n",
       "      <td>April</td>\n",
       "      <td>2</td>\n",
       "      <td>3500</td>\n",
       "    </tr>\n",
       "    <tr>\n",
       "      <th>2018-04-01</th>\n",
       "      <td>110100570122--AMI</td>\n",
       "      <td>39</td>\n",
       "      <td>2018</td>\n",
       "      <td>April</td>\n",
       "      <td>2</td>\n",
       "      <td>875</td>\n",
       "    </tr>\n",
       "    <tr>\n",
       "      <th>2018-04-01</th>\n",
       "      <td>110100570122--AMI</td>\n",
       "      <td>42</td>\n",
       "      <td>2018</td>\n",
       "      <td>April</td>\n",
       "      <td>2</td>\n",
       "      <td>525</td>\n",
       "    </tr>\n",
       "    <tr>\n",
       "      <th>2018-04-01</th>\n",
       "      <td>110100570122--AMI</td>\n",
       "      <td>50</td>\n",
       "      <td>2018</td>\n",
       "      <td>April</td>\n",
       "      <td>2</td>\n",
       "      <td>700</td>\n",
       "    </tr>\n",
       "    <tr>\n",
       "      <th>...</th>\n",
       "      <td>...</td>\n",
       "      <td>...</td>\n",
       "      <td>...</td>\n",
       "      <td>...</td>\n",
       "      <td>...</td>\n",
       "      <td>...</td>\n",
       "    </tr>\n",
       "    <tr>\n",
       "      <th>2025-10-01</th>\n",
       "      <td>110100570122--AMI</td>\n",
       "      <td>1484</td>\n",
       "      <td>2025</td>\n",
       "      <td>October</td>\n",
       "      <td>4</td>\n",
       "      <td>39</td>\n",
       "    </tr>\n",
       "    <tr>\n",
       "      <th>2025-10-01</th>\n",
       "      <td>110100570122--AMI</td>\n",
       "      <td>1485</td>\n",
       "      <td>2025</td>\n",
       "      <td>October</td>\n",
       "      <td>4</td>\n",
       "      <td>67</td>\n",
       "    </tr>\n",
       "    <tr>\n",
       "      <th>2025-10-01</th>\n",
       "      <td>110100570122--AMI</td>\n",
       "      <td>1486</td>\n",
       "      <td>2025</td>\n",
       "      <td>October</td>\n",
       "      <td>4</td>\n",
       "      <td>493</td>\n",
       "    </tr>\n",
       "    <tr>\n",
       "      <th>2025-10-01</th>\n",
       "      <td>110100570122--AMI</td>\n",
       "      <td>1487</td>\n",
       "      <td>2025</td>\n",
       "      <td>October</td>\n",
       "      <td>4</td>\n",
       "      <td>1806</td>\n",
       "    </tr>\n",
       "    <tr>\n",
       "      <th>2025-10-01</th>\n",
       "      <td>110100570122--AMI</td>\n",
       "      <td>1489</td>\n",
       "      <td>2025</td>\n",
       "      <td>October</td>\n",
       "      <td>4</td>\n",
       "      <td>43850</td>\n",
       "    </tr>\n",
       "  </tbody>\n",
       "</table>\n",
       "<p>19999 rows × 6 columns</p>\n",
       "</div>"
      ],
      "text/plain": [
       "                      Product  Customer_name  Year    Month  Quarter  \\\n",
       "date                                                                   \n",
       "2018-04-01  110100570122--AMI             28  2018    April        2   \n",
       "2018-04-01  110100570122--AMI             38  2018    April        2   \n",
       "2018-04-01  110100570122--AMI             39  2018    April        2   \n",
       "2018-04-01  110100570122--AMI             42  2018    April        2   \n",
       "2018-04-01  110100570122--AMI             50  2018    April        2   \n",
       "...                       ...            ...   ...      ...      ...   \n",
       "2025-10-01  110100570122--AMI           1484  2025  October        4   \n",
       "2025-10-01  110100570122--AMI           1485  2025  October        4   \n",
       "2025-10-01  110100570122--AMI           1486  2025  October        4   \n",
       "2025-10-01  110100570122--AMI           1487  2025  October        4   \n",
       "2025-10-01  110100570122--AMI           1489  2025  October        4   \n",
       "\n",
       "            Purchase_amount  \n",
       "date                         \n",
       "2018-04-01             5250  \n",
       "2018-04-01             3500  \n",
       "2018-04-01              875  \n",
       "2018-04-01              525  \n",
       "2018-04-01              700  \n",
       "...                     ...  \n",
       "2025-10-01               39  \n",
       "2025-10-01               67  \n",
       "2025-10-01              493  \n",
       "2025-10-01             1806  \n",
       "2025-10-01            43850  \n",
       "\n",
       "[19999 rows x 6 columns]"
      ]
     },
     "execution_count": 2,
     "metadata": {},
     "output_type": "execute_result"
    }
   ],
   "source": [
    "df"
   ]
  },
  {
   "cell_type": "code",
   "execution_count": 24,
   "metadata": {},
   "outputs": [
    {
     "data": {
      "image/png": "[encoded data removed]",
      "text/plain": [
       "<Figure size 640x480 with 1 Axes>"
      ]
     },
     "metadata": {},
     "output_type": "display_data"
    }
   ],
   "source": [
    "plt.plot(df[df['Customer_name'] == 1486].sort_index()['Purchase_amount'])\n",
    "plt.show()"
   ]
  },
  {
   "cell_type": "code",
   "execution_count": 23,
   "metadata": {},
   "outputs": [
    {
     "data": {
      "text/html": [
       "<div>\n",
       "<style scoped>\n",
       "    .dataframe tbody tr th:only-of-type {\n",
       "        vertical-align: middle;\n",
       "    }\n",
       "\n",
       "    .dataframe tbody tr th {\n",
       "        vertical-align: top;\n",
       "    }\n",
       "\n",
       "    .dataframe thead th {\n",
       "        text-align: right;\n",
       "    }\n",
       "</style>\n",
       "<table border=\"1\" class=\"dataframe\">\n",
       "  <thead>\n",
       "    <tr style=\"text-align: right;\">\n",
       "      <th></th>\n",
       "      <th>Product</th>\n",
       "      <th>Customer_name</th>\n",
       "      <th>Year</th>\n",
       "      <th>Month</th>\n",
       "      <th>Quarter</th>\n",
       "      <th>Purchase_amount</th>\n",
       "    </tr>\n",
       "    <tr>\n",
       "      <th>date</th>\n",
       "      <th></th>\n",
       "      <th></th>\n",
       "      <th></th>\n",
       "      <th></th>\n",
       "      <th></th>\n",
       "      <th></th>\n",
       "    </tr>\n",
       "  </thead>\n",
       "  <tbody>\n",
       "    <tr>\n",
       "      <th>2018-06-01</th>\n",
       "      <td>110100570122--AMI</td>\n",
       "      <td>1486</td>\n",
       "      <td>2018</td>\n",
       "      <td>June</td>\n",
       "      <td>2</td>\n",
       "      <td>16</td>\n",
       "    </tr>\n",
       "    <tr>\n",
       "      <th>2018-07-01</th>\n",
       "      <td>110100570122--AMI</td>\n",
       "      <td>1486</td>\n",
       "      <td>2018</td>\n",
       "      <td>July</td>\n",
       "      <td>3</td>\n",
       "      <td>33</td>\n",
       "    </tr>\n",
       "    <tr>\n",
       "      <th>2018-08-01</th>\n",
       "      <td>110100570122--AMI</td>\n",
       "      <td>1486</td>\n",
       "      <td>2018</td>\n",
       "      <td>August</td>\n",
       "      <td>3</td>\n",
       "      <td>84</td>\n",
       "    </tr>\n",
       "    <tr>\n",
       "      <th>2018-09-01</th>\n",
       "      <td>110100570122--AMI</td>\n",
       "      <td>1486</td>\n",
       "      <td>2018</td>\n",
       "      <td>September</td>\n",
       "      <td>3</td>\n",
       "      <td>353</td>\n",
       "    </tr>\n",
       "    <tr>\n",
       "      <th>2019-01-01</th>\n",
       "      <td>110100570122--AMI</td>\n",
       "      <td>1486</td>\n",
       "      <td>2019</td>\n",
       "      <td>January</td>\n",
       "      <td>1</td>\n",
       "      <td>708</td>\n",
       "    </tr>\n",
       "    <tr>\n",
       "      <th>...</th>\n",
       "      <td>...</td>\n",
       "      <td>...</td>\n",
       "      <td>...</td>\n",
       "      <td>...</td>\n",
       "      <td>...</td>\n",
       "      <td>...</td>\n",
       "    </tr>\n",
       "    <tr>\n",
       "      <th>2025-02-01</th>\n",
       "      <td>110100570122--AMI</td>\n",
       "      <td>1486</td>\n",
       "      <td>2025</td>\n",
       "      <td>February</td>\n",
       "      <td>1</td>\n",
       "      <td>789</td>\n",
       "    </tr>\n",
       "    <tr>\n",
       "      <th>2025-03-01</th>\n",
       "      <td>110100570122--AMI</td>\n",
       "      <td>1486</td>\n",
       "      <td>2025</td>\n",
       "      <td>March</td>\n",
       "      <td>1</td>\n",
       "      <td>210</td>\n",
       "    </tr>\n",
       "    <tr>\n",
       "      <th>2025-10-01</th>\n",
       "      <td>110100570122--AMI</td>\n",
       "      <td>1486</td>\n",
       "      <td>2025</td>\n",
       "      <td>October</td>\n",
       "      <td>4</td>\n",
       "      <td>493</td>\n",
       "    </tr>\n",
       "    <tr>\n",
       "      <th>2025-11-01</th>\n",
       "      <td>110100570122--AMI</td>\n",
       "      <td>1486</td>\n",
       "      <td>2025</td>\n",
       "      <td>November</td>\n",
       "      <td>4</td>\n",
       "      <td>783</td>\n",
       "    </tr>\n",
       "    <tr>\n",
       "      <th>2025-12-01</th>\n",
       "      <td>110100570122--AMI</td>\n",
       "      <td>1486</td>\n",
       "      <td>2025</td>\n",
       "      <td>December</td>\n",
       "      <td>4</td>\n",
       "      <td>1190</td>\n",
       "    </tr>\n",
       "  </tbody>\n",
       "</table>\n",
       "<p>82 rows × 6 columns</p>\n",
       "</div>"
      ],
      "text/plain": [
       "                      Product  Customer_name  Year      Month  Quarter  \\\n",
       "date                                                                     \n",
       "2018-06-01  110100570122--AMI           1486  2018       June        2   \n",
       "2018-07-01  110100570122--AMI           1486  2018       July        3   \n",
       "2018-08-01  110100570122--AMI           1486  2018     August        3   \n",
       "2018-09-01  110100570122--AMI           1486  2018  September        3   \n",
       "2019-01-01  110100570122--AMI           1486  2019    January        1   \n",
       "...                       ...            ...   ...        ...      ...   \n",
       "2025-02-01  110100570122--AMI           1486  2025   February        1   \n",
       "2025-03-01  110100570122--AMI           1486  2025      March        1   \n",
       "2025-10-01  110100570122--AMI           1486  2025    October        4   \n",
       "2025-11-01  110100570122--AMI           1486  2025   November        4   \n",
       "2025-12-01  110100570122--AMI           1486  2025   December        4   \n",
       "\n",
       "            Purchase_amount  \n",
       "date                         \n",
       "2018-06-01               16  \n",
       "2018-07-01               33  \n",
       "2018-08-01               84  \n",
       "2018-09-01              353  \n",
       "2019-01-01              708  \n",
       "...                     ...  \n",
       "2025-02-01              789  \n",
       "2025-03-01              210  \n",
       "2025-10-01              493  \n",
       "2025-11-01              783  \n",
       "2025-12-01             1190  \n",
       "\n",
       "[82 rows x 6 columns]"
      ]
     },
     "execution_count": 23,
     "metadata": {},
     "output_type": "execute_result"
    }
   ],
   "source": [
    "df[df['Customer_name'] == 1486].sort_index()"
   ]
  },
  {
   "cell_type": "code",
   "execution_count": 3,
   "metadata": {},
   "outputs": [],
   "source": [
    "df.to_csv(\"Sales.csv\")"
   ]
  }
 ],
 "metadata": {
  "kernelspec": {
   "display_name": "base",
   "language": "python",
   "name": "python3"
  },
  "language_info": {
   "codemirror_mode": {
    "name": "ipython",
    "version": 3
   },
   "file_extension": ".py",
   "mimetype": "text/x-python",
   "name": "python",
   "nbconvert_exporter": "python",
   "pygments_lexer": "ipython3",
   "version": "3.11.8"
  }
 },
 "nbformat": 4,
 "nbformat_minor": 2
}
